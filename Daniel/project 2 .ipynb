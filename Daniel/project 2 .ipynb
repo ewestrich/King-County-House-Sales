{
 "cells": [
  {
   "cell_type": "markdown",
   "metadata": {},
   "source": [
    "# King County Realestate Endeavors\n"
   ]
  },
  {
   "cell_type": "markdown",
   "metadata": {},
   "source": [
    "## Business Understanding\n",
    "- The key stakeholders for this analysis project are potential home buyers who are coming to the king county area\n",
    "- We are using a data set of recent house sales in king county from 2021-2022 to create a predictive model\n",
    "- We used predictive modeling to predict prices based on certain home features\n",
    "- Our first recommendation would to be use the tool we created to get prospective homes\n",
    "- Our second recommendation would be that once a potential home buyer does buy their home, to bolster certain features of their homes to add value"
   ]
  },
  {
   "cell_type": "markdown",
   "metadata": {},
   "source": [
    "## Data Understanding/Data Preperation"
   ]
  },
  {
   "cell_type": "code",
   "execution_count": 1,
   "metadata": {},
   "outputs": [],
   "source": [
    "#importing all packeges required for code below\n",
    "import pandas as pd\n",
    "import seaborn as sns\n",
    "from scipy import stats\n",
    "import matplotlib.pyplot as plt\n",
    "import numpy as np\n",
    "import statsmodels.api as sm\n",
    "from geopy.distance import geodesic\n",
    "from sklearn.preprocessing import OrdinalEncoder\n",
    "from sklearn.linear_model import LinearRegression\n",
    "from sklearn.model_selection import train_test_split\n",
    "from sklearn.metrics import mean_absolute_error\n",
    "from sklearn.metrics import mean_squared_error\n",
    "from sklearn.preprocessing import StandardScaler\n",
    "from sklearn.preprocessing import OneHotEncoder\n",
    "from sklearn.preprocessing import PolynomialFeatures"
   ]
  },
  {
   "cell_type": "code",
   "execution_count": 2,
   "metadata": {},
   "outputs": [],
   "source": [
    "#dataset\n",
    "kcdf = pd.read_csv('../data/kc_house_data.csv')"
   ]
  },
  {
   "cell_type": "code",
   "execution_count": 3,
   "metadata": {},
   "outputs": [],
   "source": [
    "#dropping this column because it is insignificant for our data wrangling purposes\n",
    "kcdf = kcdf.drop(columns = 'date')"
   ]
  },
  {
   "cell_type": "code",
   "execution_count": 4,
   "metadata": {},
   "outputs": [],
   "source": [
    "#dropping all the nulls from the dataframe\n",
    "kcdf = kcdf.dropna()"
   ]
  },
  {
   "cell_type": "code",
   "execution_count": 5,
   "metadata": {},
   "outputs": [],
   "source": [
    "#function to get all the zipcodes from the addresses\n",
    "def zip_code(address):\n",
    "    x = address.split(' ')[-3]\n",
    "\n",
    "    return x.split(',')[0]"
   ]
  },
  {
   "cell_type": "code",
   "execution_count": 6,
   "metadata": {},
   "outputs": [],
   "source": [
    "#creating a zip code column from the address columns using our zip code function.\n",
    "kcdf['zip_code'] = kcdf['address'].apply(lambda x: zip_code(x))"
   ]
  },
  {
   "cell_type": "code",
   "execution_count": 7,
   "metadata": {
    "scrolled": true
   },
   "outputs": [],
   "source": [
    "#converting the zip code column from a string to an integer\n",
    "kcdf['zip_code'] = kcdf['zip_code'].astype(int)"
   ]
  },
  {
   "cell_type": "code",
   "execution_count": 8,
   "metadata": {},
   "outputs": [],
   "source": [
    "#from the government database, we filtered all of the zipcodes from King County and inputted them here\n",
    "kc_zips = [98001, 98002,98003, 98004,98005,98006, 98007,98008,98009, 98010, 98011, 98013, 98014,98015,98019,98022,98023,98024,98025,98027,98028,98029,98030,98031,98032,98033,98034,98035,98038,98039,98040,98041,98042,98045,98047,98050,98051,98052,98053,98054,98055,98056,98057,98058,98059,98062,98063,98064,98065,98070,98071,98072,98073,98074,98075,98077,98083,98089,98092,98093,98101,98102,98103,98104,98105,98106,98107,98108,98109,98111,98112,98113,98114,98115,98116,98117,98118,98119,98121,98122,98124,98125,98126,98127,98129,98131,98132,98133,98134,98136,98138,98139,98141,98144,98145,98146,98148,98151,98154,98155,98158,98160,98161,98164,98165,98166,98168,98170,98171,98174,98175,98177,98178,98181,98184,98185,98188,98190,98191,98194,98195,98198,98199,98224,98288]"
   ]
  },
  {
   "cell_type": "code",
   "execution_count": 9,
   "metadata": {},
   "outputs": [],
   "source": [
    "#filtered our data to make sure that the housing sales in our data are actually from King County\n",
    "realkcdf = kcdf[kcdf['zip_code'].isin(kc_zips)]"
   ]
  },
  {
   "cell_type": "markdown",
   "metadata": {},
   "source": [
    "Implementing Zip Codes function is key because there were house sales in our data set that were outside of King County "
   ]
  },
  {
   "cell_type": "code",
   "execution_count": 10,
   "metadata": {},
   "outputs": [
    {
     "data": {
      "text/plain": [
       "76"
      ]
     },
     "execution_count": 10,
     "metadata": {},
     "output_type": "execute_result"
    }
   ],
   "source": [
    "#Checking how many zip codes in King County had house sales in our data set\n",
    "realkcdf['zip_code'].nunique()"
   ]
  },
  {
   "cell_type": "code",
   "execution_count": 11,
   "metadata": {},
   "outputs": [],
   "source": [
    "#Function to take two coordinated and calculate distance in miles\n",
    "def geo_distance(coord_a, coord_b):\n",
    "    \n",
    "    return geodesic(coord_a, coord_b).miles"
   ]
  },
  {
   "cell_type": "code",
   "execution_count": 12,
   "metadata": {},
   "outputs": [],
   "source": [
    "#Amazon headquarter coordinates\n",
    "amzn_coord = (47.615722, -122.339494)"
   ]
  },
  {
   "cell_type": "code",
   "execution_count": 13,
   "metadata": {},
   "outputs": [
    {
     "name": "stderr",
     "output_type": "stream",
     "text": [
      "<ipython-input-13-8c1612a1b5ea>:2: SettingWithCopyWarning: \n",
      "A value is trying to be set on a copy of a slice from a DataFrame.\n",
      "Try using .loc[row_indexer,col_indexer] = value instead\n",
      "\n",
      "See the caveats in the documentation: https://pandas.pydata.org/pandas-docs/stable/user_guide/indexing.html#returning-a-view-versus-a-copy\n",
      "  realkcdf['location'] = list(zip(realkcdf.lat, realkcdf.long))\n"
     ]
    }
   ],
   "source": [
    "#zipping the columns lat and long into one column called location\n",
    "realkcdf['location'] = list(zip(realkcdf.lat, realkcdf.long))"
   ]
  },
  {
   "cell_type": "code",
   "execution_count": 14,
   "metadata": {},
   "outputs": [
    {
     "name": "stderr",
     "output_type": "stream",
     "text": [
      "<ipython-input-14-df354bc015d9>:2: SettingWithCopyWarning: \n",
      "A value is trying to be set on a copy of a slice from a DataFrame.\n",
      "Try using .loc[row_indexer,col_indexer] = value instead\n",
      "\n",
      "See the caveats in the documentation: https://pandas.pydata.org/pandas-docs/stable/user_guide/indexing.html#returning-a-view-versus-a-copy\n",
      "  realkcdf['distance_to_amazon'] = realkcdf['location'].apply(lambda x: geodesic(x, amzn_coord).miles)\n"
     ]
    }
   ],
   "source": [
    "#creating a column called distance to amazon using the location column and amazon coordinates. Distance is measured in miles\n",
    "realkcdf['distance_to_amazon'] = realkcdf['location'].apply(lambda x: geodesic(x, amzn_coord).miles)"
   ]
  },
  {
   "cell_type": "code",
   "execution_count": 15,
   "metadata": {},
   "outputs": [],
   "source": [
    "#Filter data to have only the houses that were sold with in three miles of Amazon\n",
    "data_near_amzn = realkcdf[realkcdf['distance_to_amazon'] <= 3]"
   ]
  },
  {
   "cell_type": "code",
   "execution_count": 16,
   "metadata": {},
   "outputs": [],
   "source": [
    "#filtering out one of the big outliers\n",
    "data_near_amzn_filt = data_near_amzn[data_near_amzn['price'] < 10000000]"
   ]
  },
  {
   "cell_type": "code",
   "execution_count": 17,
   "metadata": {
    "scrolled": true
   },
   "outputs": [
    {
     "data": {
      "image/png": "[encoded data removed]",
      "text/plain": [
       "<Figure size 1080x720 with 1 Axes>"
      ]
     },
     "metadata": {
      "needs_background": "light"
     },
     "output_type": "display_data"
    }
   ],
   "source": [
    "#plotting the regression and relationship of the sqft of living vs the price of the actual values of sold prices \n",
    "fig, ax = plt.subplots(figsize = (15,10))\n",
    "\n",
    "x = data_near_amzn_filt['sqft_living']\n",
    "y = data_near_amzn_filt['price']\n",
    "hue = data_near_amzn_filt['bedrooms']\n",
    "size = data_near_amzn_filt['bathrooms']\n",
    "\n",
    "\n",
    "sns.scatterplot(x = x, y = y, ax=ax)\n",
    "ax.set_title('Square Feet of Living vs Price (3 Mile Range from Amazon HQ)', fontsize = 22)\n",
    "ax.set_ylabel('Price in Millions', fontsize = 16)\n",
    "ax.set_xlabel('Square Feet of Living', fontsize = 16);"
   ]
  },
  {
   "cell_type": "code",
   "execution_count": 18,
   "metadata": {},
   "outputs": [
    {
     "name": "stderr",
     "output_type": "stream",
     "text": [
      "C:\\Users\\somdd\\anaconda3\\envs\\learn-env\\lib\\site-packages\\seaborn\\_decorators.py:36: FutureWarning: Pass the following variables as keyword args: x, y. From version 0.12, the only valid positional argument will be `data`, and passing other arguments without an explicit keyword will result in an error or misinterpretation.\n",
      "  warnings.warn(\n"
     ]
    },
    {
     "data": {
      "image/png": "[encoded data removed]",
      "text/plain": [
       "<Figure size 1080x720 with 1 Axes>"
      ]
     },
     "metadata": {
      "needs_background": "light"
     },
     "output_type": "display_data"
    }
   ],
   "source": [
    "#plotting the view category and the mean price for each\n",
    "fig, ax = plt.subplots(figsize = (15,10))\n",
    "\n",
    "x = data_near_amzn_filt['bathrooms']\n",
    "y = data_near_amzn_filt['price']\n",
    "\n",
    "sns.barplot(x, y, data = realkcdf, ax = ax)\n",
    "ax.set_title('Average Price vs Bathrooms (3 Mile Range From Amazon HQ)', fontsize = 22)\n",
    "ax.set_ylabel('Price in Millions', fontsize = 16)\n",
    "ax.set_xlabel('Number of Bathrooms', fontsize = 16);\n",
    "\n",
    "\n"
   ]
  },
  {
   "cell_type": "code",
   "execution_count": 19,
   "metadata": {},
   "outputs": [],
   "source": [
    "#q1 = realkcdf['price'].quantile(.25)\n",
    "#q3 = realkcdf['price'].quantile(.75)\n",
    "#IQR = q3 - q1\n",
    "#outliers = realkcdf[((realkcdf['price']<(q1-1.5*IQR)) | (realkcdf['price']>(q3+1.5*IQR)))]"
   ]
  },
  {
   "cell_type": "code",
   "execution_count": 20,
   "metadata": {
    "scrolled": false
   },
   "outputs": [],
   "source": [
    "#outliers"
   ]
  },
  {
   "cell_type": "code",
   "execution_count": null,
   "metadata": {
    "scrolled": true
   },
   "outputs": [
    {
     "data": {
      "text/plain": [
       "<seaborn.axisgrid.PairGrid at 0x22dc8f1eb20>"
      ]
     },
     "execution_count": 21,
     "metadata": {},
     "output_type": "execute_result"
    }
   ],
   "source": [
    "#creating a pairplot to look at relationships of all numerical values\n",
    "sns.pairplot(realkcdf, corner = True)"
   ]
  },
  {
   "cell_type": "code",
   "execution_count": null,
   "metadata": {},
   "outputs": [],
   "source": [
    "#plotting a heatmap to look at the collinearity of dependent variables\n",
    "plt.figure(figsize = (20,20))\n",
    "sns.heatmap(realkcdf.corr(), annot = True)"
   ]
  },
  {
   "cell_type": "code",
   "execution_count": null,
   "metadata": {},
   "outputs": [],
   "source": [
    "#creating lists to put in the ordinal encoder\n",
    "grade_list = ['2 Substandard','3 Poor','4 Low','5 Fair','6 Low Average', '7 Average', '8 Good', '9 Better', '10 Very Good', '11 Excellent','12 Luxury','13 Mansion']\n",
    "cond_list = ['Poor', 'Fair', 'Average', 'Good', 'Very Good']\n",
    "view_list = ['NONE', 'FAIR', 'AVERAGE', 'GOOD', 'EXCELLENT']"
   ]
  },
  {
   "cell_type": "code",
   "execution_count": null,
   "metadata": {},
   "outputs": [],
   "source": [
    "#Ordinal encoding lists and creating an ordinal datafram\n",
    "o_enc = OrdinalEncoder(categories = [grade_list, cond_list, view_list])\n",
    "ord_df =pd.DataFrame(o_enc.fit_transform(realkcdf[['grade', 'condition', 'view']]), columns = realkcdf[['grade', 'condition', 'view']].columns)"
   ]
  },
  {
   "cell_type": "code",
   "execution_count": null,
   "metadata": {},
   "outputs": [],
   "source": [
    "#concatenating the realkcdf and ordinal dataframes and \n",
    "new_kcdf = pd.concat([realkcdf.reset_index().drop(columns = ['grade', 'condition', 'view']), ord_df],1)"
   ]
  },
  {
   "cell_type": "code",
   "execution_count": null,
   "metadata": {},
   "outputs": [],
   "source": [
    "#Onehot Encoding\n",
    "onehot_enc = OneHotEncoder(sparse = True, handle_unknown = 'ignore')"
   ]
  },
  {
   "cell_type": "code",
   "execution_count": null,
   "metadata": {},
   "outputs": [],
   "source": [
    "#makeing a list of what columns I want to onehot encode\n",
    "nominal_cols = ['waterfront', 'greenbelt', 'nuisance','heat_source', 'sewer_system','zip_code']"
   ]
  },
  {
   "cell_type": "code",
   "execution_count": null,
   "metadata": {},
   "outputs": [],
   "source": [
    "#Fit_transforming the nominal columns and assigning it to variable\n",
    "ohe_df =onehot_enc.fit_transform(new_kcdf[nominal_cols])"
   ]
  },
  {
   "cell_type": "code",
   "execution_count": null,
   "metadata": {},
   "outputs": [],
   "source": [
    "#creating a nominal dataframe \n",
    "nominal_df = pd.DataFrame(ohe_df.toarray(),columns = onehot_enc.get_feature_names())"
   ]
  },
  {
   "cell_type": "code",
   "execution_count": null,
   "metadata": {},
   "outputs": [],
   "source": [
    "#Concatenating the two data frames while dropping the columns names from the first dataframe and adding the columns names from the second data frame to replace the ones dropped in the first column\n",
    "cleandf = pd.concat([new_kcdf.drop(columns = ['waterfront', 'greenbelt', 'heat_source', 'sewer_system', 'zip_code', 'nuisance']), nominal_df],1)"
   ]
  },
  {
   "cell_type": "markdown",
   "metadata": {},
   "source": [
    "## Modeling"
   ]
  },
  {
   "cell_type": "markdown",
   "metadata": {},
   "source": [
    "### FSM"
   ]
  },
  {
   "cell_type": "code",
   "execution_count": null,
   "metadata": {},
   "outputs": [],
   "source": [
    "#assigning the LinearRegression\n",
    "lr = LinearRegression()"
   ]
  },
  {
   "cell_type": "code",
   "execution_count": null,
   "metadata": {},
   "outputs": [],
   "source": [
    "col_select1 = realkcdf.drop(columns = ['price', 'id', 'waterfront', 'nuisance', 'waterfront', 'greenbelt', 'view', 'condition', 'grade','heat_source', 'sewer_system', 'address', 'zip_code', 'location', 'distance_to_amazon' ]).columns\n",
    "X = realkcdf[col_select1]\n",
    "y = realkcdf['price']\n",
    "X_train, X_test, y_train, y_test = train_test_split(X, y, test_size=0.3)"
   ]
  },
  {
   "cell_type": "code",
   "execution_count": null,
   "metadata": {},
   "outputs": [],
   "source": [
    "#fitting the data to the regression\n",
    "lr.fit(X_train, y_train)"
   ]
  },
  {
   "cell_type": "code",
   "execution_count": null,
   "metadata": {},
   "outputs": [],
   "source": [
    "#R^2 score of the training data\n",
    "lr.score(X_train, y_train)"
   ]
  },
  {
   "cell_type": "code",
   "execution_count": null,
   "metadata": {},
   "outputs": [],
   "source": [
    "#Predicting the sale price values from the test sample\n",
    "y_pred = lr.predict(X_test)"
   ]
  },
  {
   "cell_type": "code",
   "execution_count": null,
   "metadata": {},
   "outputs": [],
   "source": [
    "#R^2 value of the training set\n",
    "lr.score(X_train,y_train)"
   ]
  },
  {
   "cell_type": "code",
   "execution_count": null,
   "metadata": {},
   "outputs": [],
   "source": [
    "#Calculating the mean absolute error\n",
    "MAE = mean_absolute_error(y_pred, y_test)\n",
    "MAE"
   ]
  },
  {
   "cell_type": "code",
   "execution_count": null,
   "metadata": {},
   "outputs": [],
   "source": [
    "#assigning StandardScalar\n",
    "ss = StandardScaler()"
   ]
  },
  {
   "cell_type": "code",
   "execution_count": null,
   "metadata": {},
   "outputs": [],
   "source": [
    "#Standard scaling the X train data\n",
    "ss.fit(X_train)"
   ]
  },
  {
   "cell_type": "code",
   "execution_count": null,
   "metadata": {},
   "outputs": [],
   "source": [
    "#Transforming and fitting the X_train value with standard scalar\n",
    "X_standardized_train = ss.fit_transform(X_train)"
   ]
  },
  {
   "cell_type": "code",
   "execution_count": null,
   "metadata": {},
   "outputs": [],
   "source": [
    "#using standard scalar to standardize the test set\n",
    "X_standardized_test = ss.transform(X_test)"
   ]
  },
  {
   "cell_type": "code",
   "execution_count": null,
   "metadata": {},
   "outputs": [],
   "source": [
    "#The R^2 value of the standardized train set and the sale price of the train set\n",
    "lr.fit(X_standardized_train, y_train)\n",
    "lr.score(X_standardized_train, y_train)"
   ]
  },
  {
   "cell_type": "code",
   "execution_count": null,
   "metadata": {},
   "outputs": [],
   "source": [
    "#the R^2 value of the test standardized x values and the test sale prices\n",
    "lr.score(X_standardized_test, y_test)"
   ]
  },
  {
   "cell_type": "code",
   "execution_count": null,
   "metadata": {},
   "outputs": [],
   "source": [
    "#Predicting the sale price of houses from the standardized test set\n",
    "y_predstand = lr.predict(X_standardized_test)"
   ]
  },
  {
   "cell_type": "code",
   "execution_count": null,
   "metadata": {},
   "outputs": [],
   "source": [
    "#calculating the standardized Mean Absolute Error\n",
    "stand_MAE = mean_absolute_error(y_predstand, y_test)\n",
    "stand_MAE"
   ]
  },
  {
   "cell_type": "markdown",
   "metadata": {},
   "source": [
    "#### Analysis of First  Simple Model\n",
    "- In our first model we predicted price based on the simple numerical data given to us without any feature engineering.\n",
    "- The R^2 value and MAE are not that great showing that our model is not a great predictor for price."
   ]
  },
  {
   "cell_type": "markdown",
   "metadata": {},
   "source": [
    "### Second Model"
   ]
  },
  {
   "cell_type": "code",
   "execution_count": null,
   "metadata": {},
   "outputs": [],
   "source": [
    "#sustantiating the LinearRegression\n",
    "lr2 = LinearRegression()"
   ]
  },
  {
   "cell_type": "code",
   "execution_count": null,
   "metadata": {},
   "outputs": [],
   "source": [
    "#Using the ordinal columns and adding them to the model\n",
    "col_select2 = new_kcdf.drop(columns = ['price', 'id', 'waterfront', 'nuisance', 'waterfront', 'greenbelt', 'heat_source', 'sewer_system', 'address', 'zip_code', 'location', 'distance_to_amazon']).columns\n",
    "X = new_kcdf[col_select2]\n",
    "y = new_kcdf['price']\n",
    "X_train, X_test, y_train, y_test = train_test_split(X, y, test_size=0.3)"
   ]
  },
  {
   "cell_type": "code",
   "execution_count": null,
   "metadata": {},
   "outputs": [],
   "source": [
    "#fitting the data to the regression\n",
    "lr2.fit(X_train, y_train)"
   ]
  },
  {
   "cell_type": "code",
   "execution_count": null,
   "metadata": {},
   "outputs": [],
   "source": [
    "#R^2 score of the training data\n",
    "lr2.score(X_train, y_train)"
   ]
  },
  {
   "cell_type": "code",
   "execution_count": null,
   "metadata": {},
   "outputs": [],
   "source": [
    "#Predicted sales price from the test set\n",
    "y_pred = lr2.predict(X_test)"
   ]
  },
  {
   "cell_type": "code",
   "execution_count": null,
   "metadata": {},
   "outputs": [],
   "source": [
    "lr2.score(X_train,y_train)"
   ]
  },
  {
   "cell_type": "code",
   "execution_count": null,
   "metadata": {},
   "outputs": [],
   "source": [
    "MAE = mean_absolute_error(y_pred, y_test)\n",
    "MAE"
   ]
  },
  {
   "cell_type": "code",
   "execution_count": null,
   "metadata": {},
   "outputs": [],
   "source": [
    "#sustantiating StandardScalar\n",
    "ss = StandardScaler()"
   ]
  },
  {
   "cell_type": "code",
   "execution_count": null,
   "metadata": {},
   "outputs": [],
   "source": [
    "#Standard scaling the X train data\n",
    "ss.fit(X_train)"
   ]
  },
  {
   "cell_type": "code",
   "execution_count": null,
   "metadata": {},
   "outputs": [],
   "source": [
    "#Transforming and fitting the X_train value with standard scalar\n",
    "X_standardized_train = ss.fit_transform(X_train)"
   ]
  },
  {
   "cell_type": "code",
   "execution_count": null,
   "metadata": {},
   "outputs": [],
   "source": [
    "#using standard scalar to standardize the test set\n",
    "X_standardized_test = ss.transform(X_test)"
   ]
  },
  {
   "cell_type": "code",
   "execution_count": null,
   "metadata": {},
   "outputs": [],
   "source": [
    "#\n",
    "lr2.fit(X_standardized_train, y_train)\n",
    "lr2.score(X_standardized_train, y_train)"
   ]
  },
  {
   "cell_type": "code",
   "execution_count": null,
   "metadata": {},
   "outputs": [],
   "source": [
    "#the R^2 value of the test standardized x values and the test price values\n",
    "lr2.score(X_standardized_test, y_test)"
   ]
  },
  {
   "cell_type": "code",
   "execution_count": null,
   "metadata": {},
   "outputs": [],
   "source": [
    "#\n",
    "y_predstand = lr2.predict(X_standardized_test)"
   ]
  },
  {
   "cell_type": "code",
   "execution_count": null,
   "metadata": {},
   "outputs": [],
   "source": [
    "stand_MAE = mean_absolute_error(y_predstand, y_test)\n",
    "stand_MAE"
   ]
  },
  {
   "cell_type": "markdown",
   "metadata": {},
   "source": [
    "#### Analysis of Second Model\n",
    "- In our second model we incorporated the ordinal categories into our model\n",
    "- The R^2 value increased and our MAE decreased which means our model prediction was better than our first simple model"
   ]
  },
  {
   "cell_type": "markdown",
   "metadata": {},
   "source": [
    "### Final Model"
   ]
  },
  {
   "cell_type": "code",
   "execution_count": null,
   "metadata": {},
   "outputs": [],
   "source": [
    "#sustantiating the LinearRegression\n",
    "lr3 = LinearRegression()"
   ]
  },
  {
   "cell_type": "code",
   "execution_count": null,
   "metadata": {},
   "outputs": [],
   "source": [
    "#\n",
    "col_select = cleandf.drop(columns = ['price', 'id', 'index', 'address','sqft_garage', 'location']).columns\n",
    "X = cleandf[col_select]\n",
    "y = cleandf['price']\n",
    "X_train, X_test, y_train, y_test = train_test_split(X, y, test_size=0.3)"
   ]
  },
  {
   "cell_type": "code",
   "execution_count": null,
   "metadata": {
    "scrolled": true
   },
   "outputs": [],
   "source": [
    "#fitting the data to the regression\n",
    "lr3.fit(X_train, y_train)"
   ]
  },
  {
   "cell_type": "code",
   "execution_count": null,
   "metadata": {},
   "outputs": [],
   "source": [
    "#R^2 score of the training data\n",
    "lr3.score(X_train, y_train)"
   ]
  },
  {
   "cell_type": "code",
   "execution_count": null,
   "metadata": {
    "scrolled": true
   },
   "outputs": [],
   "source": [
    "#looking at the first ten predicted sales prices from the test set\n",
    "y_pred = lr3.predict(X_test)\n",
    "y_pred[0:10]"
   ]
  },
  {
   "cell_type": "code",
   "execution_count": null,
   "metadata": {
    "scrolled": true
   },
   "outputs": [],
   "source": [
    "#The R^2 value of the test data\n",
    "lr3.score(X_train,y_train)\n",
    "lr3.score(X_test,y_test)"
   ]
  },
  {
   "cell_type": "code",
   "execution_count": null,
   "metadata": {},
   "outputs": [],
   "source": [
    "#The mean absolute error of the \n",
    "MAE = mean_absolute_error(y_pred, y_test)\n",
    "MAE"
   ]
  },
  {
   "cell_type": "code",
   "execution_count": null,
   "metadata": {},
   "outputs": [],
   "source": [
    "#sustantiating StandardScalar\n",
    "ss = StandardScaler()"
   ]
  },
  {
   "cell_type": "markdown",
   "metadata": {},
   "source": [
    "We are using standard scalar because we want to normalize our feature matrix to remove the mean and scale each variable to unit variance"
   ]
  },
  {
   "cell_type": "code",
   "execution_count": null,
   "metadata": {},
   "outputs": [],
   "source": [
    "#Standard scaling the X train data\n",
    "ss.fit(X_train)"
   ]
  },
  {
   "cell_type": "code",
   "execution_count": null,
   "metadata": {},
   "outputs": [],
   "source": [
    "#Transforming and fitting the X_train value with standard scalar\n",
    "X_standardized_train = ss.fit_transform(X_train)"
   ]
  },
  {
   "cell_type": "code",
   "execution_count": null,
   "metadata": {},
   "outputs": [],
   "source": [
    "#Transforming the X_test set with standard Scalar\n",
    "X_standardized_test = ss.transform(X_test)"
   ]
  },
  {
   "cell_type": "code",
   "execution_count": null,
   "metadata": {},
   "outputs": [],
   "source": [
    "#R^2 value of the standardized train set with train set sale prices\n",
    "lr3.fit(X_standardized_train, y_train)\n",
    "lr3.score(X_standardized_train, y_train)\n"
   ]
  },
  {
   "cell_type": "code",
   "execution_count": null,
   "metadata": {},
   "outputs": [],
   "source": [
    "#the R^2 value of the test standardized x values and the test price values\n",
    "lr3.score(X_standardized_test, y_test)"
   ]
  },
  {
   "cell_type": "code",
   "execution_count": null,
   "metadata": {},
   "outputs": [],
   "source": [
    "#predicting the prices of the standarized feature matrix and assigning it to ss_preds \n",
    "ss_preds3 = lr3.predict(X_standardized_test)"
   ]
  },
  {
   "cell_type": "code",
   "execution_count": null,
   "metadata": {},
   "outputs": [],
   "source": [
    "#taking a look at the predicted prices of the standardized feature matrix\n",
    "ss_preds3"
   ]
  },
  {
   "cell_type": "code",
   "execution_count": null,
   "metadata": {},
   "outputs": [],
   "source": [
    "#predicting the sale price from the test set using the standard scalar feature matrix\n",
    "y_predstand3 = lr3.predict(X_standardized_test)"
   ]
  },
  {
   "cell_type": "code",
   "execution_count": null,
   "metadata": {},
   "outputs": [],
   "source": [
    "stand_MAE = mean_absolute_error(y_predstand3, y_test)"
   ]
  },
  {
   "cell_type": "code",
   "execution_count": null,
   "metadata": {},
   "outputs": [],
   "source": [
    "#calculating mean absolute error\n",
    "stand_MAE"
   ]
  },
  {
   "cell_type": "code",
   "execution_count": null,
   "metadata": {},
   "outputs": [],
   "source": [
    "#Using the ols modeling so its easier to see what coefficent weights are related to what independent variable\n",
    "x = cleandf.drop(columns = ['price', 'id','index', 'address', 'sqft_garage', 'lat', 'location'])\n",
    "y = cleandf['price']\n",
    "results = sm.OLS(y, sm.add_constant(x)).fit()"
   ]
  },
  {
   "cell_type": "code",
   "execution_count": null,
   "metadata": {
    "scrolled": true
   },
   "outputs": [],
   "source": [
    "#summary statistics of OLS\n",
    "results.summary()"
   ]
  },
  {
   "cell_type": "markdown",
   "metadata": {},
   "source": [
    "### Analysis of Final Model\n",
    "- Our final model includes aspects of all numerical, ordinal and nominal categories from our data frame and the influence each category to our predicted price.\n",
    "- The R^2 value is much higher than the first two models and is a respectable value. About 65% of the variability observed in the sale price is explained by the regression model.\n",
    "- The Mean Absolute Error is also much smaller than our first model \n",
    "- Our final model is a pretty decent predictor of house prices based on certain features in King County\n",
    "- Some coefficients to note that have an increase on house sale price include: bathrooms, sqft_living, sqft_above, sqft_basement, sqft_patio, grade, condition and view"
   ]
  },
  {
   "cell_type": "markdown",
   "metadata": {},
   "source": [
    "### Recommendations From our Model\n",
    "- Based on our model, we can look at the coefficents of the regression model to make recommendations to new home buyers.\n",
    "- Two realistic options to look at are the coefficents of bathrooms and sqft_living\n",
    "- If new home buyers want to increase the value/price of their home then we recommend that they build a new bathroom or build an extension to the house."
   ]
  },
  {
   "cell_type": "code",
   "execution_count": null,
   "metadata": {
    "scrolled": false
   },
   "outputs": [],
   "source": [
    "#Predicted vs actual on the test\n",
    "sns.regplot(x = ss_preds3, y = y_test);"
   ]
  },
  {
   "cell_type": "markdown",
   "metadata": {},
   "source": [
    "Analysis of reggresion plot: The model predictes the price from the standardized X_test and it is being compared it to the actual sale price from our test sample."
   ]
  },
  {
   "cell_type": "code",
   "execution_count": null,
   "metadata": {},
   "outputs": [],
   "source": [
    "#Distribution of residuals of the ss_preds minus the y_test\n",
    "sns.displot(ss_preds3 - y_test);"
   ]
  },
  {
   "cell_type": "markdown",
   "metadata": {},
   "source": [
    "The distribution shows the residuals the models predicted sale price from the standardized X_test for each house compared to the actual sale price of the test sample."
   ]
  }
 ],
 "metadata": {
  "kernelspec": {
   "display_name": "Python 3",
   "language": "python",
   "name": "python3"
  },
  "language_info": {
   "codemirror_mode": {
    "name": "ipython",
    "version": 3
   },
   "file_extension": ".py",
   "mimetype": "text/x-python",
   "name": "python",
   "nbconvert_exporter": "python",
   "pygments_lexer": "ipython3",
   "version": "3.8.5"
  }
 },
 "nbformat": 4,
 "nbformat_minor": 2
}
