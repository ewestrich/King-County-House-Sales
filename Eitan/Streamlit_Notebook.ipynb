{
 "cells": [
  {
   "cell_type": "code",
   "execution_count": 115,
   "id": "d5faf63a",
   "metadata": {},
   "outputs": [],
   "source": [
    "import streamlit as st\n",
    "\n",
    "import numpy as np\n",
    "import pandas as pd \n",
    "from numbers import Number\n",
    "from scipy import stats\n",
    "from geopy.distance import geodesic\n",
    "\n",
    "import matplotlib.pyplot as plt\n",
    "import seaborn as sns\n",
    "\n",
    "import itertools\n",
    "import statsmodels.api as sm\n",
    "from sklearn.preprocessing import OrdinalEncoder\n",
    "from sklearn.linear_model import LinearRegression\n",
    "from sklearn.model_selection import train_test_split\n",
    "from sklearn.metrics import mean_absolute_error\n",
    "from sklearn.metrics import mean_squared_error\n",
    "from sklearn.preprocessing import StandardScaler\n",
    "from sklearn.preprocessing import OneHotEncoder\n",
    "from sklearn.preprocessing import PolynomialFeatures"
   ]
  },
  {
   "cell_type": "code",
   "execution_count": 116,
   "id": "a2ad86b8",
   "metadata": {},
   "outputs": [
    {
     "data": {
      "text/plain": [
       "DeltaGenerator()"
      ]
     },
     "execution_count": 116,
     "metadata": {},
     "output_type": "execute_result"
    }
   ],
   "source": [
    "st.title(\"Kings County Housing Dashboard\")\n",
    "\n",
    "st.header(\"Interactive Housing Predictive Model Widget\")\n",
    "\n",
    "st.subheader(\"Map of Kings County, WA Housing Data\")"
   ]
  },
  {
   "cell_type": "code",
   "execution_count": 117,
   "id": "0a2a7050",
   "metadata": {},
   "outputs": [],
   "source": [
    "beds = st.selectbox('Select Number of Bedrooms:',[0, 1, 2, 3, 4, 5, 6, 7, 8, 9, 10, 11, 13])"
   ]
  },
  {
   "cell_type": "code",
   "execution_count": 118,
   "id": "9e1476b9",
   "metadata": {},
   "outputs": [],
   "source": [
    "baths = st.selectbox('Select Number of Bathrooms',[0.0,0.5,1.0,1.5,2.0,2.5,3.0,3.5,4.0,4.5,5.0\n",
    "                                                  ,5.5,6.0, 6.5,7.0,7.5,8.0,8.5,9.5\n",
    "                                                  ,10.0,10.5])"
   ]
  },
  {
   "cell_type": "code",
   "execution_count": 119,
   "id": "adb646d2",
   "metadata": {},
   "outputs": [],
   "source": [
    "import pickle"
   ]
  },
  {
   "cell_type": "code",
   "execution_count": 120,
   "id": "c2d9f7ab",
   "metadata": {},
   "outputs": [],
   "source": [
    "model = pickle.load(open('daniel_pickle.pkl','rb'))\n",
    "modeled_df = pickle.load(open('df_pickle.pkl','rb'))"
   ]
  },
  {
   "cell_type": "code",
   "execution_count": 183,
   "id": "3c9d1fef",
   "metadata": {},
   "outputs": [],
   "source": [
    "ss = pickle.load(open('scaler.pkl','rb'))"
   ]
  },
  {
   "cell_type": "code",
   "execution_count": 197,
   "id": "196ddde9",
   "metadata": {},
   "outputs": [],
   "source": [
    "test = modeled_df.iloc[0:1,:]"
   ]
  },
  {
   "cell_type": "code",
   "execution_count": 202,
   "id": "29917e6c",
   "metadata": {},
   "outputs": [
    {
     "data": {
      "text/html": [
       "<div>\n",
       "<style scoped>\n",
       "    .dataframe tbody tr th:only-of-type {\n",
       "        vertical-align: middle;\n",
       "    }\n",
       "\n",
       "    .dataframe tbody tr th {\n",
       "        vertical-align: top;\n",
       "    }\n",
       "\n",
       "    .dataframe thead th {\n",
       "        text-align: right;\n",
       "    }\n",
       "</style>\n",
       "<table border=\"1\" class=\"dataframe\">\n",
       "  <thead>\n",
       "    <tr style=\"text-align: right;\">\n",
       "      <th></th>\n",
       "      <th>bedrooms</th>\n",
       "      <th>bathrooms</th>\n",
       "      <th>sqft_living</th>\n",
       "      <th>sqft_lot</th>\n",
       "      <th>floors</th>\n",
       "      <th>sqft_above</th>\n",
       "      <th>sqft_basement</th>\n",
       "      <th>sqft_patio</th>\n",
       "      <th>yr_built</th>\n",
       "      <th>yr_renovated</th>\n",
       "      <th>...</th>\n",
       "      <th>zip_code_98168</th>\n",
       "      <th>zip_code_98177</th>\n",
       "      <th>zip_code_98178</th>\n",
       "      <th>zip_code_98188</th>\n",
       "      <th>zip_code_98198</th>\n",
       "      <th>zip_code_98199</th>\n",
       "      <th>zip_code_98224</th>\n",
       "      <th>zip_code_98288</th>\n",
       "      <th>nuisance_NO</th>\n",
       "      <th>nuisance_YES</th>\n",
       "    </tr>\n",
       "  </thead>\n",
       "  <tbody>\n",
       "    <tr>\n",
       "      <th>20693</th>\n",
       "      <td>3</td>\n",
       "      <td>1.5</td>\n",
       "      <td>980</td>\n",
       "      <td>8400</td>\n",
       "      <td>1.0</td>\n",
       "      <td>980</td>\n",
       "      <td>0</td>\n",
       "      <td>180</td>\n",
       "      <td>1973</td>\n",
       "      <td>0</td>\n",
       "      <td>...</td>\n",
       "      <td>0.0</td>\n",
       "      <td>0.0</td>\n",
       "      <td>0.0</td>\n",
       "      <td>0.0</td>\n",
       "      <td>0.0</td>\n",
       "      <td>0.0</td>\n",
       "      <td>0.0</td>\n",
       "      <td>0.0</td>\n",
       "      <td>1.0</td>\n",
       "      <td>0.0</td>\n",
       "    </tr>\n",
       "  </tbody>\n",
       "</table>\n",
       "<p>1 rows × 109 columns</p>\n",
       "</div>"
      ],
      "text/plain": [
       "       bedrooms  bathrooms  sqft_living  sqft_lot  floors  sqft_above  \\\n",
       "20693         3        1.5          980      8400     1.0         980   \n",
       "\n",
       "       sqft_basement  sqft_patio  yr_built  yr_renovated  ...  zip_code_98168  \\\n",
       "20693              0         180      1973             0  ...             0.0   \n",
       "\n",
       "       zip_code_98177  zip_code_98178  zip_code_98188  zip_code_98198  \\\n",
       "20693             0.0             0.0             0.0             0.0   \n",
       "\n",
       "       zip_code_98199  zip_code_98224  zip_code_98288  nuisance_NO  \\\n",
       "20693             0.0             0.0             0.0          1.0   \n",
       "\n",
       "       nuisance_YES  \n",
       "20693           0.0  \n",
       "\n",
       "[1 rows x 109 columns]"
      ]
     },
     "execution_count": 202,
     "metadata": {},
     "output_type": "execute_result"
    }
   ],
   "source": [
    "test"
   ]
  },
  {
   "cell_type": "code",
   "execution_count": 204,
   "id": "f0e9dccf",
   "metadata": {},
   "outputs": [],
   "source": [
    "standardized_test = ss.transform(test)"
   ]
  },
  {
   "cell_type": "code",
   "execution_count": 205,
   "id": "55b69b10",
   "metadata": {},
   "outputs": [
    {
     "data": {
      "text/plain": [
       "array([[-4.40295451e-01, -9.34276897e-01, -1.17910085e+00,\n",
       "        -1.36269391e-01, -9.37177214e-01, -9.59515649e-01,\n",
       "        -8.22736336e-01, -1.41281768e-01, -2.63302797e-02,\n",
       "        -2.23643617e-01, -8.42739948e-01,  2.97988074e-01,\n",
       "         4.48490424e-01, -5.58089877e-01, -6.92506032e-01,\n",
       "        -3.45736356e-01,  1.32301230e-01, -1.32301230e-01,\n",
       "         1.64249978e-01, -1.64249978e-01,  1.97964570e+00,\n",
       "        -4.64876349e-02, -1.49589516e+00, -5.73976296e-02,\n",
       "        -3.32115823e-01, -9.90099010e-03, -2.62032648e-02,\n",
       "        -4.16152704e-01, -1.40028008e-02,  4.16557855e-01,\n",
       "        -7.00088567e-03, -1.45147882e-01, -1.12050025e-01,\n",
       "        -1.24003869e-01, -1.05357008e-01, -7.85112223e-02,\n",
       "        -1.34961038e-01, -7.26065771e-02, -1.22363759e-01,\n",
       "        -1.03679758e-01, -9.53934017e-02, -7.39585455e-02,\n",
       "        -9.32781365e-02, -1.23799972e-01, -1.60272979e-01,\n",
       "        -6.31318623e-02, -1.15584693e-01, -1.13609283e-01,\n",
       "        -1.05594534e-01, -1.15584693e-01,  7.38896002e+00,\n",
       "        -8.00759233e-02, -1.49831201e-01, -1.58657129e-01,\n",
       "        -1.74507901e-01, -4.59552016e-02, -1.09327885e-01,\n",
       "        -1.86522242e-01, -1.24613677e-01, -5.10322901e-02,\n",
       "        -9.90099010e-03, -4.75347661e-02, -1.38861966e-01,\n",
       "        -1.15366787e-01, -8.69205526e-02, -1.36086160e-01,\n",
       "        -6.73003883e-02, -1.54384626e-01, -1.45850389e-01,\n",
       "        -1.00742331e-01, -8.22177429e-02, -1.08637208e-01,\n",
       "        -1.22363759e-01, -1.19231392e-01, -9.16607883e-02,\n",
       "        -1.43021375e-01, -6.87546442e-02, -1.60594391e-01,\n",
       "        -1.10242372e-01, -1.40321612e-01, -1.24410720e-01,\n",
       "        -1.02221160e-01, -6.80313306e-02, -1.02465641e-01,\n",
       "        -1.60112055e-01, -1.17956496e-01, -1.62986813e-01,\n",
       "        -1.43199692e-01, -8.89020605e-02, -1.25220697e-01,\n",
       "        -1.32109338e-01, -1.22775718e-01, -1.50343331e-01,\n",
       "        -1.05118968e-01, -1.24003869e-01, -1.15802211e-01,\n",
       "        -5.73976296e-02, -1.33447184e-01, -1.09557188e-01,\n",
       "        -1.13830378e-01, -1.02952934e-01, -1.15584693e-01,\n",
       "        -8.28197845e-02, -1.22775718e-01, -1.20284057e-01,\n",
       "        -9.90099010e-03, -2.21436288e-02,  4.51887240e-01,\n",
       "        -4.51887240e-01]])"
      ]
     },
     "execution_count": 205,
     "metadata": {},
     "output_type": "execute_result"
    }
   ],
   "source": [
    "standardized_test"
   ]
  },
  {
   "cell_type": "code",
   "execution_count": 206,
   "id": "ec6fd78d",
   "metadata": {},
   "outputs": [
    {
     "data": {
      "text/plain": [
       "array([246492.69263808])"
      ]
     },
     "execution_count": 206,
     "metadata": {},
     "output_type": "execute_result"
    }
   ],
   "source": [
    "model.predict(standardized_test)"
   ]
  },
  {
   "cell_type": "code",
   "execution_count": 207,
   "id": "9ad9a27c",
   "metadata": {},
   "outputs": [],
   "source": [
    "new_test = test"
   ]
  },
  {
   "cell_type": "code",
   "execution_count": 212,
   "id": "1980022f",
   "metadata": {},
   "outputs": [
    {
     "data": {
      "text/html": [
       "<div>\n",
       "<style scoped>\n",
       "    .dataframe tbody tr th:only-of-type {\n",
       "        vertical-align: middle;\n",
       "    }\n",
       "\n",
       "    .dataframe tbody tr th {\n",
       "        vertical-align: top;\n",
       "    }\n",
       "\n",
       "    .dataframe thead th {\n",
       "        text-align: right;\n",
       "    }\n",
       "</style>\n",
       "<table border=\"1\" class=\"dataframe\">\n",
       "  <thead>\n",
       "    <tr style=\"text-align: right;\">\n",
       "      <th></th>\n",
       "      <th>bedrooms</th>\n",
       "      <th>bathrooms</th>\n",
       "      <th>sqft_living</th>\n",
       "      <th>sqft_lot</th>\n",
       "      <th>floors</th>\n",
       "      <th>sqft_above</th>\n",
       "      <th>sqft_basement</th>\n",
       "      <th>sqft_patio</th>\n",
       "      <th>yr_built</th>\n",
       "      <th>yr_renovated</th>\n",
       "      <th>...</th>\n",
       "      <th>zip_code_98168</th>\n",
       "      <th>zip_code_98177</th>\n",
       "      <th>zip_code_98178</th>\n",
       "      <th>zip_code_98188</th>\n",
       "      <th>zip_code_98198</th>\n",
       "      <th>zip_code_98199</th>\n",
       "      <th>zip_code_98224</th>\n",
       "      <th>zip_code_98288</th>\n",
       "      <th>nuisance_NO</th>\n",
       "      <th>nuisance_YES</th>\n",
       "    </tr>\n",
       "  </thead>\n",
       "  <tbody>\n",
       "    <tr>\n",
       "      <th>20693</th>\n",
       "      <td>3</td>\n",
       "      <td>1.5</td>\n",
       "      <td>980</td>\n",
       "      <td>8400</td>\n",
       "      <td>1.0</td>\n",
       "      <td>980</td>\n",
       "      <td>0</td>\n",
       "      <td>180</td>\n",
       "      <td>1973</td>\n",
       "      <td>0</td>\n",
       "      <td>...</td>\n",
       "      <td>0.0</td>\n",
       "      <td>0.0</td>\n",
       "      <td>0.0</td>\n",
       "      <td>0.0</td>\n",
       "      <td>0.0</td>\n",
       "      <td>0.0</td>\n",
       "      <td>0.0</td>\n",
       "      <td>0.0</td>\n",
       "      <td>1.0</td>\n",
       "      <td>0.0</td>\n",
       "    </tr>\n",
       "  </tbody>\n",
       "</table>\n",
       "<p>1 rows × 109 columns</p>\n",
       "</div>"
      ],
      "text/plain": [
       "       bedrooms  bathrooms  sqft_living  sqft_lot  floors  sqft_above  \\\n",
       "20693         3        1.5          980      8400     1.0         980   \n",
       "\n",
       "       sqft_basement  sqft_patio  yr_built  yr_renovated  ...  zip_code_98168  \\\n",
       "20693              0         180      1973             0  ...             0.0   \n",
       "\n",
       "       zip_code_98177  zip_code_98178  zip_code_98188  zip_code_98198  \\\n",
       "20693             0.0             0.0             0.0             0.0   \n",
       "\n",
       "       zip_code_98199  zip_code_98224  zip_code_98288  nuisance_NO  \\\n",
       "20693             0.0             0.0             0.0          1.0   \n",
       "\n",
       "       nuisance_YES  \n",
       "20693           0.0  \n",
       "\n",
       "[1 rows x 109 columns]"
      ]
     },
     "execution_count": 212,
     "metadata": {},
     "output_type": "execute_result"
    }
   ],
   "source": [
    "test"
   ]
  },
  {
   "cell_type": "code",
   "execution_count": 232,
   "id": "b956b396",
   "metadata": {},
   "outputs": [
    {
     "data": {
      "text/plain": [
       "[980]"
      ]
     },
     "execution_count": 232,
     "metadata": {},
     "output_type": "execute_result"
    }
   ],
   "source": [
    "list(test['sqft_living'])"
   ]
  },
  {
   "cell_type": "code",
   "execution_count": 234,
   "id": "2338db2a",
   "metadata": {},
   "outputs": [],
   "source": [
    "new_test = test.replace({'sqft_living': list(test['sqft_living'])}, 1500)"
   ]
  },
  {
   "cell_type": "code",
   "execution_count": 235,
   "id": "855a0714",
   "metadata": {},
   "outputs": [
    {
     "data": {
      "text/html": [
       "<div>\n",
       "<style scoped>\n",
       "    .dataframe tbody tr th:only-of-type {\n",
       "        vertical-align: middle;\n",
       "    }\n",
       "\n",
       "    .dataframe tbody tr th {\n",
       "        vertical-align: top;\n",
       "    }\n",
       "\n",
       "    .dataframe thead th {\n",
       "        text-align: right;\n",
       "    }\n",
       "</style>\n",
       "<table border=\"1\" class=\"dataframe\">\n",
       "  <thead>\n",
       "    <tr style=\"text-align: right;\">\n",
       "      <th></th>\n",
       "      <th>bedrooms</th>\n",
       "      <th>bathrooms</th>\n",
       "      <th>sqft_living</th>\n",
       "      <th>sqft_lot</th>\n",
       "      <th>floors</th>\n",
       "      <th>sqft_above</th>\n",
       "      <th>sqft_basement</th>\n",
       "      <th>sqft_patio</th>\n",
       "      <th>yr_built</th>\n",
       "      <th>yr_renovated</th>\n",
       "      <th>...</th>\n",
       "      <th>zip_code_98168</th>\n",
       "      <th>zip_code_98177</th>\n",
       "      <th>zip_code_98178</th>\n",
       "      <th>zip_code_98188</th>\n",
       "      <th>zip_code_98198</th>\n",
       "      <th>zip_code_98199</th>\n",
       "      <th>zip_code_98224</th>\n",
       "      <th>zip_code_98288</th>\n",
       "      <th>nuisance_NO</th>\n",
       "      <th>nuisance_YES</th>\n",
       "    </tr>\n",
       "  </thead>\n",
       "  <tbody>\n",
       "    <tr>\n",
       "      <th>20693</th>\n",
       "      <td>3</td>\n",
       "      <td>1.5</td>\n",
       "      <td>1500</td>\n",
       "      <td>8400</td>\n",
       "      <td>1.0</td>\n",
       "      <td>980</td>\n",
       "      <td>0</td>\n",
       "      <td>180</td>\n",
       "      <td>1973</td>\n",
       "      <td>0</td>\n",
       "      <td>...</td>\n",
       "      <td>0.0</td>\n",
       "      <td>0.0</td>\n",
       "      <td>0.0</td>\n",
       "      <td>0.0</td>\n",
       "      <td>0.0</td>\n",
       "      <td>0.0</td>\n",
       "      <td>0.0</td>\n",
       "      <td>0.0</td>\n",
       "      <td>1.0</td>\n",
       "      <td>0.0</td>\n",
       "    </tr>\n",
       "  </tbody>\n",
       "</table>\n",
       "<p>1 rows × 109 columns</p>\n",
       "</div>"
      ],
      "text/plain": [
       "       bedrooms  bathrooms  sqft_living  sqft_lot  floors  sqft_above  \\\n",
       "20693         3        1.5         1500      8400     1.0         980   \n",
       "\n",
       "       sqft_basement  sqft_patio  yr_built  yr_renovated  ...  zip_code_98168  \\\n",
       "20693              0         180      1973             0  ...             0.0   \n",
       "\n",
       "       zip_code_98177  zip_code_98178  zip_code_98188  zip_code_98198  \\\n",
       "20693             0.0             0.0             0.0             0.0   \n",
       "\n",
       "       zip_code_98199  zip_code_98224  zip_code_98288  nuisance_NO  \\\n",
       "20693             0.0             0.0             0.0          1.0   \n",
       "\n",
       "       nuisance_YES  \n",
       "20693           0.0  \n",
       "\n",
       "[1 rows x 109 columns]"
      ]
     },
     "execution_count": 235,
     "metadata": {},
     "output_type": "execute_result"
    }
   ],
   "source": [
    "new_test"
   ]
  },
  {
   "cell_type": "code",
   "execution_count": 236,
   "id": "710b5e8a",
   "metadata": {},
   "outputs": [],
   "source": [
    "ss.test = ss.transform(new_test)"
   ]
  },
  {
   "cell_type": "code",
   "execution_count": 237,
   "id": "f427638c",
   "metadata": {},
   "outputs": [
    {
     "data": {
      "text/plain": [
       "array([313180.69263808])"
      ]
     },
     "execution_count": 237,
     "metadata": {},
     "output_type": "execute_result"
    }
   ],
   "source": [
    "model.predict(ss.test)"
   ]
  },
  {
   "cell_type": "code",
   "execution_count": 126,
   "id": "7d39e19d",
   "metadata": {},
   "outputs": [],
   "source": [
    "df = df.replace({'zip_code_98001':0} ,1)"
   ]
  },
  {
   "cell_type": "code",
   "execution_count": 127,
   "id": "b9c0e250",
   "metadata": {},
   "outputs": [
    {
     "data": {
      "text/plain": [
       "0    1.0\n",
       "Name: zip_code_98001, dtype: float64"
      ]
     },
     "execution_count": 127,
     "metadata": {},
     "output_type": "execute_result"
    }
   ],
   "source": [
    "df['zip_code_98001']"
   ]
  },
  {
   "cell_type": "code",
   "execution_count": 128,
   "id": "593af0b8",
   "metadata": {},
   "outputs": [
    {
     "data": {
      "text/plain": [
       "['bathrooms',\n",
       " 'bedrooms',\n",
       " 'condition',\n",
       " 'distance_to_amazon',\n",
       " 'floors',\n",
       " 'grade',\n",
       " 'greenbelt_NO',\n",
       " 'greenbelt_YES',\n",
       " 'heat_source_Electricity',\n",
       " 'heat_source_Electricity/Solar',\n",
       " 'heat_source_Gas',\n",
       " 'heat_source_Gas/Solar',\n",
       " 'heat_source_Oil',\n",
       " 'heat_source_Oil/Solar',\n",
       " 'heat_source_Other',\n",
       " 'lat',\n",
       " 'long',\n",
       " 'nuisance_NO',\n",
       " 'nuisance_YES',\n",
       " 'sewer_system_PRIVATE',\n",
       " 'sewer_system_PRIVATE RESTRICTED',\n",
       " 'sewer_system_PUBLIC',\n",
       " 'sewer_system_PUBLIC RESTRICTED',\n",
       " 'sqft_above',\n",
       " 'sqft_basement',\n",
       " 'sqft_living',\n",
       " 'sqft_lot',\n",
       " 'sqft_patio',\n",
       " 'view',\n",
       " 'waterfront_NO',\n",
       " 'waterfront_YES',\n",
       " 'yr_built',\n",
       " 'yr_renovated',\n",
       " 'zip_code_98001',\n",
       " 'zip_code_98002',\n",
       " 'zip_code_98003',\n",
       " 'zip_code_98004',\n",
       " 'zip_code_98005',\n",
       " 'zip_code_98006',\n",
       " 'zip_code_98007',\n",
       " 'zip_code_98008',\n",
       " 'zip_code_98010',\n",
       " 'zip_code_98011',\n",
       " 'zip_code_98014',\n",
       " 'zip_code_98019',\n",
       " 'zip_code_98022',\n",
       " 'zip_code_98023',\n",
       " 'zip_code_98024',\n",
       " 'zip_code_98027',\n",
       " 'zip_code_98028',\n",
       " 'zip_code_98029',\n",
       " 'zip_code_98030',\n",
       " 'zip_code_98031',\n",
       " 'zip_code_98032',\n",
       " 'zip_code_98033',\n",
       " 'zip_code_98034',\n",
       " 'zip_code_98038',\n",
       " 'zip_code_98039',\n",
       " 'zip_code_98040',\n",
       " 'zip_code_98042',\n",
       " 'zip_code_98045',\n",
       " 'zip_code_98047',\n",
       " 'zip_code_98050',\n",
       " 'zip_code_98051',\n",
       " 'zip_code_98052',\n",
       " 'zip_code_98053',\n",
       " 'zip_code_98055',\n",
       " 'zip_code_98056',\n",
       " 'zip_code_98057',\n",
       " 'zip_code_98058',\n",
       " 'zip_code_98059',\n",
       " 'zip_code_98065',\n",
       " 'zip_code_98070',\n",
       " 'zip_code_98072',\n",
       " 'zip_code_98074',\n",
       " 'zip_code_98075',\n",
       " 'zip_code_98077',\n",
       " 'zip_code_98092',\n",
       " 'zip_code_98102',\n",
       " 'zip_code_98103',\n",
       " 'zip_code_98105',\n",
       " 'zip_code_98106',\n",
       " 'zip_code_98107',\n",
       " 'zip_code_98108',\n",
       " 'zip_code_98109',\n",
       " 'zip_code_98112',\n",
       " 'zip_code_98115',\n",
       " 'zip_code_98116',\n",
       " 'zip_code_98117',\n",
       " 'zip_code_98118',\n",
       " 'zip_code_98119',\n",
       " 'zip_code_98122',\n",
       " 'zip_code_98125',\n",
       " 'zip_code_98126',\n",
       " 'zip_code_98133',\n",
       " 'zip_code_98136',\n",
       " 'zip_code_98144',\n",
       " 'zip_code_98146',\n",
       " 'zip_code_98148',\n",
       " 'zip_code_98155',\n",
       " 'zip_code_98166',\n",
       " 'zip_code_98168',\n",
       " 'zip_code_98177',\n",
       " 'zip_code_98178',\n",
       " 'zip_code_98188',\n",
       " 'zip_code_98198',\n",
       " 'zip_code_98199',\n",
       " 'zip_code_98224',\n",
       " 'zip_code_98288']"
      ]
     },
     "execution_count": 128,
     "metadata": {},
     "output_type": "execute_result"
    }
   ],
   "source": [
    "sorted(modeled_df.columns)\n"
   ]
  },
  {
   "cell_type": "code",
   "execution_count": 129,
   "id": "b0c5a705",
   "metadata": {},
   "outputs": [],
   "source": [
    "df = modeled_df.mode().iloc[:1, :]"
   ]
  },
  {
   "cell_type": "code",
   "execution_count": 176,
   "id": "e9338be3",
   "metadata": {},
   "outputs": [
    {
     "data": {
      "text/html": [
       "<div>\n",
       "<style scoped>\n",
       "    .dataframe tbody tr th:only-of-type {\n",
       "        vertical-align: middle;\n",
       "    }\n",
       "\n",
       "    .dataframe tbody tr th {\n",
       "        vertical-align: top;\n",
       "    }\n",
       "\n",
       "    .dataframe thead th {\n",
       "        text-align: right;\n",
       "    }\n",
       "</style>\n",
       "<table border=\"1\" class=\"dataframe\">\n",
       "  <thead>\n",
       "    <tr style=\"text-align: right;\">\n",
       "      <th></th>\n",
       "      <th>bedrooms</th>\n",
       "      <th>bathrooms</th>\n",
       "      <th>sqft_living</th>\n",
       "      <th>sqft_lot</th>\n",
       "      <th>floors</th>\n",
       "      <th>sqft_above</th>\n",
       "      <th>sqft_basement</th>\n",
       "      <th>sqft_patio</th>\n",
       "      <th>yr_built</th>\n",
       "      <th>yr_renovated</th>\n",
       "      <th>...</th>\n",
       "      <th>zip_code_98168</th>\n",
       "      <th>zip_code_98177</th>\n",
       "      <th>zip_code_98178</th>\n",
       "      <th>zip_code_98188</th>\n",
       "      <th>zip_code_98198</th>\n",
       "      <th>zip_code_98199</th>\n",
       "      <th>zip_code_98224</th>\n",
       "      <th>zip_code_98288</th>\n",
       "      <th>nuisance_NO</th>\n",
       "      <th>nuisance_YES</th>\n",
       "    </tr>\n",
       "  </thead>\n",
       "  <tbody>\n",
       "    <tr>\n",
       "      <th>0</th>\n",
       "      <td>3.0</td>\n",
       "      <td>2.5</td>\n",
       "      <td>1250</td>\n",
       "      <td>5000.0</td>\n",
       "      <td>1.0</td>\n",
       "      <td>1080.0</td>\n",
       "      <td>0.0</td>\n",
       "      <td>0.0</td>\n",
       "      <td>2021.0</td>\n",
       "      <td>0.0</td>\n",
       "      <td>...</td>\n",
       "      <td>0.0</td>\n",
       "      <td>0.0</td>\n",
       "      <td>0.0</td>\n",
       "      <td>0.0</td>\n",
       "      <td>0.0</td>\n",
       "      <td>0.0</td>\n",
       "      <td>0.0</td>\n",
       "      <td>0.0</td>\n",
       "      <td>1.0</td>\n",
       "      <td>0.0</td>\n",
       "    </tr>\n",
       "  </tbody>\n",
       "</table>\n",
       "<p>1 rows × 109 columns</p>\n",
       "</div>"
      ],
      "text/plain": [
       "   bedrooms  bathrooms  sqft_living  sqft_lot  floors  sqft_above  \\\n",
       "0       3.0        2.5         1250    5000.0     1.0      1080.0   \n",
       "\n",
       "   sqft_basement  sqft_patio  yr_built  yr_renovated  ...  zip_code_98168  \\\n",
       "0            0.0         0.0    2021.0           0.0  ...             0.0   \n",
       "\n",
       "   zip_code_98177  zip_code_98178  zip_code_98188  zip_code_98198  \\\n",
       "0             0.0             0.0             0.0             0.0   \n",
       "\n",
       "   zip_code_98199  zip_code_98224  zip_code_98288  nuisance_NO  nuisance_YES  \n",
       "0             0.0             0.0             0.0          1.0           0.0  \n",
       "\n",
       "[1 rows x 109 columns]"
      ]
     },
     "execution_count": 176,
     "metadata": {},
     "output_type": "execute_result"
    }
   ],
   "source": [
    "df"
   ]
  },
  {
   "cell_type": "code",
   "execution_count": 131,
   "id": "e88d5e69",
   "metadata": {},
   "outputs": [],
   "source": [
    "cols = df.columns"
   ]
  },
  {
   "cell_type": "code",
   "execution_count": 132,
   "id": "9732296f",
   "metadata": {},
   "outputs": [],
   "source": [
    "cols = [s.replace('zip_code_', '') for s in cols]"
   ]
  },
  {
   "cell_type": "code",
   "execution_count": 134,
   "id": "86fcfeef",
   "metadata": {},
   "outputs": [],
   "source": [
    "rows = np.linspace(0,0, len(cols))"
   ]
  },
  {
   "cell_type": "code",
   "execution_count": 135,
   "id": "30b62ce5",
   "metadata": {},
   "outputs": [],
   "source": [
    "zeros = pd.DataFrame(rows,cols).T"
   ]
  },
  {
   "cell_type": "code",
   "execution_count": 136,
   "id": "1fcaabc7",
   "metadata": {},
   "outputs": [
    {
     "data": {
      "text/html": [
       "<div>\n",
       "<style scoped>\n",
       "    .dataframe tbody tr th:only-of-type {\n",
       "        vertical-align: middle;\n",
       "    }\n",
       "\n",
       "    .dataframe tbody tr th {\n",
       "        vertical-align: top;\n",
       "    }\n",
       "\n",
       "    .dataframe thead th {\n",
       "        text-align: right;\n",
       "    }\n",
       "</style>\n",
       "<table border=\"1\" class=\"dataframe\">\n",
       "  <thead>\n",
       "    <tr style=\"text-align: right;\">\n",
       "      <th></th>\n",
       "      <th>bedrooms</th>\n",
       "      <th>bathrooms</th>\n",
       "      <th>sqft_living</th>\n",
       "      <th>sqft_lot</th>\n",
       "      <th>floors</th>\n",
       "      <th>sqft_above</th>\n",
       "      <th>sqft_basement</th>\n",
       "      <th>sqft_patio</th>\n",
       "      <th>yr_built</th>\n",
       "      <th>yr_renovated</th>\n",
       "      <th>...</th>\n",
       "      <th>98168</th>\n",
       "      <th>98177</th>\n",
       "      <th>98178</th>\n",
       "      <th>98188</th>\n",
       "      <th>98198</th>\n",
       "      <th>98199</th>\n",
       "      <th>98224</th>\n",
       "      <th>98288</th>\n",
       "      <th>nuisance_NO</th>\n",
       "      <th>nuisance_YES</th>\n",
       "    </tr>\n",
       "  </thead>\n",
       "  <tbody>\n",
       "    <tr>\n",
       "      <th>0</th>\n",
       "      <td>0.0</td>\n",
       "      <td>0.0</td>\n",
       "      <td>0.0</td>\n",
       "      <td>0.0</td>\n",
       "      <td>0.0</td>\n",
       "      <td>0.0</td>\n",
       "      <td>0.0</td>\n",
       "      <td>0.0</td>\n",
       "      <td>0.0</td>\n",
       "      <td>0.0</td>\n",
       "      <td>...</td>\n",
       "      <td>0.0</td>\n",
       "      <td>0.0</td>\n",
       "      <td>0.0</td>\n",
       "      <td>0.0</td>\n",
       "      <td>0.0</td>\n",
       "      <td>0.0</td>\n",
       "      <td>0.0</td>\n",
       "      <td>0.0</td>\n",
       "      <td>0.0</td>\n",
       "      <td>0.0</td>\n",
       "    </tr>\n",
       "  </tbody>\n",
       "</table>\n",
       "<p>1 rows × 109 columns</p>\n",
       "</div>"
      ],
      "text/plain": [
       "   bedrooms  bathrooms  sqft_living  sqft_lot  floors  sqft_above  \\\n",
       "0       0.0        0.0          0.0       0.0     0.0         0.0   \n",
       "\n",
       "   sqft_basement  sqft_patio  yr_built  yr_renovated  ...  98168  98177  \\\n",
       "0            0.0         0.0       0.0           0.0  ...    0.0    0.0   \n",
       "\n",
       "   98178  98188  98198  98199  98224  98288  nuisance_NO  nuisance_YES  \n",
       "0    0.0    0.0    0.0    0.0    0.0    0.0          0.0           0.0  \n",
       "\n",
       "[1 rows x 109 columns]"
      ]
     },
     "execution_count": 136,
     "metadata": {},
     "output_type": "execute_result"
    }
   ],
   "source": [
    "zeros"
   ]
  },
  {
   "cell_type": "code",
   "execution_count": 137,
   "id": "1d3ce3b6",
   "metadata": {},
   "outputs": [],
   "source": [
    "beds = 7\n",
    "replacer = {'bedrooms': zeros['bedrooms'][0]}"
   ]
  },
  {
   "cell_type": "code",
   "execution_count": 138,
   "id": "ac69d6ce",
   "metadata": {},
   "outputs": [],
   "source": [
    "user_pred = zeros.replace(replacer, beds)"
   ]
  },
  {
   "cell_type": "code",
   "execution_count": 139,
   "id": "cb316030",
   "metadata": {},
   "outputs": [
    {
     "data": {
      "text/html": [
       "<div>\n",
       "<style scoped>\n",
       "    .dataframe tbody tr th:only-of-type {\n",
       "        vertical-align: middle;\n",
       "    }\n",
       "\n",
       "    .dataframe tbody tr th {\n",
       "        vertical-align: top;\n",
       "    }\n",
       "\n",
       "    .dataframe thead th {\n",
       "        text-align: right;\n",
       "    }\n",
       "</style>\n",
       "<table border=\"1\" class=\"dataframe\">\n",
       "  <thead>\n",
       "    <tr style=\"text-align: right;\">\n",
       "      <th></th>\n",
       "      <th>bedrooms</th>\n",
       "      <th>bathrooms</th>\n",
       "      <th>sqft_living</th>\n",
       "      <th>sqft_lot</th>\n",
       "      <th>floors</th>\n",
       "      <th>sqft_above</th>\n",
       "      <th>sqft_basement</th>\n",
       "      <th>sqft_patio</th>\n",
       "      <th>yr_built</th>\n",
       "      <th>yr_renovated</th>\n",
       "      <th>...</th>\n",
       "      <th>98168</th>\n",
       "      <th>98177</th>\n",
       "      <th>98178</th>\n",
       "      <th>98188</th>\n",
       "      <th>98198</th>\n",
       "      <th>98199</th>\n",
       "      <th>98224</th>\n",
       "      <th>98288</th>\n",
       "      <th>nuisance_NO</th>\n",
       "      <th>nuisance_YES</th>\n",
       "    </tr>\n",
       "  </thead>\n",
       "  <tbody>\n",
       "    <tr>\n",
       "      <th>0</th>\n",
       "      <td>7.0</td>\n",
       "      <td>0.0</td>\n",
       "      <td>0.0</td>\n",
       "      <td>0.0</td>\n",
       "      <td>0.0</td>\n",
       "      <td>0.0</td>\n",
       "      <td>0.0</td>\n",
       "      <td>0.0</td>\n",
       "      <td>0.0</td>\n",
       "      <td>0.0</td>\n",
       "      <td>...</td>\n",
       "      <td>0.0</td>\n",
       "      <td>0.0</td>\n",
       "      <td>0.0</td>\n",
       "      <td>0.0</td>\n",
       "      <td>0.0</td>\n",
       "      <td>0.0</td>\n",
       "      <td>0.0</td>\n",
       "      <td>0.0</td>\n",
       "      <td>0.0</td>\n",
       "      <td>0.0</td>\n",
       "    </tr>\n",
       "  </tbody>\n",
       "</table>\n",
       "<p>1 rows × 109 columns</p>\n",
       "</div>"
      ],
      "text/plain": [
       "   bedrooms  bathrooms  sqft_living  sqft_lot  floors  sqft_above  \\\n",
       "0       7.0        0.0          0.0       0.0     0.0         0.0   \n",
       "\n",
       "   sqft_basement  sqft_patio  yr_built  yr_renovated  ...  98168  98177  \\\n",
       "0            0.0         0.0       0.0           0.0  ...    0.0    0.0   \n",
       "\n",
       "   98178  98188  98198  98199  98224  98288  nuisance_NO  nuisance_YES  \n",
       "0    0.0    0.0    0.0    0.0    0.0    0.0          0.0           0.0  \n",
       "\n",
       "[1 rows x 109 columns]"
      ]
     },
     "execution_count": 139,
     "metadata": {},
     "output_type": "execute_result"
    }
   ],
   "source": [
    "user_pred"
   ]
  },
  {
   "cell_type": "code",
   "execution_count": 164,
   "id": "b1c87d21",
   "metadata": {},
   "outputs": [
    {
     "data": {
      "text/html": [
       "<div>\n",
       "<style scoped>\n",
       "    .dataframe tbody tr th:only-of-type {\n",
       "        vertical-align: middle;\n",
       "    }\n",
       "\n",
       "    .dataframe tbody tr th {\n",
       "        vertical-align: top;\n",
       "    }\n",
       "\n",
       "    .dataframe thead th {\n",
       "        text-align: right;\n",
       "    }\n",
       "</style>\n",
       "<table border=\"1\" class=\"dataframe\">\n",
       "  <thead>\n",
       "    <tr style=\"text-align: right;\">\n",
       "      <th></th>\n",
       "      <th>bedrooms</th>\n",
       "      <th>bathrooms</th>\n",
       "      <th>sqft_living</th>\n",
       "      <th>sqft_lot</th>\n",
       "      <th>floors</th>\n",
       "      <th>sqft_above</th>\n",
       "      <th>sqft_basement</th>\n",
       "      <th>sqft_patio</th>\n",
       "      <th>yr_built</th>\n",
       "      <th>yr_renovated</th>\n",
       "      <th>...</th>\n",
       "      <th>98168</th>\n",
       "      <th>98177</th>\n",
       "      <th>98178</th>\n",
       "      <th>98188</th>\n",
       "      <th>98198</th>\n",
       "      <th>98199</th>\n",
       "      <th>98224</th>\n",
       "      <th>98288</th>\n",
       "      <th>nuisance_NO</th>\n",
       "      <th>nuisance_YES</th>\n",
       "    </tr>\n",
       "  </thead>\n",
       "  <tbody>\n",
       "    <tr>\n",
       "      <th>0</th>\n",
       "      <td>7.0</td>\n",
       "      <td>0.0</td>\n",
       "      <td>0.0</td>\n",
       "      <td>0.0</td>\n",
       "      <td>0.0</td>\n",
       "      <td>0.0</td>\n",
       "      <td>0.0</td>\n",
       "      <td>0.0</td>\n",
       "      <td>0.0</td>\n",
       "      <td>0.0</td>\n",
       "      <td>...</td>\n",
       "      <td>0.0</td>\n",
       "      <td>0.0</td>\n",
       "      <td>0.0</td>\n",
       "      <td>0.0</td>\n",
       "      <td>0.0</td>\n",
       "      <td>0.0</td>\n",
       "      <td>0.0</td>\n",
       "      <td>0.0</td>\n",
       "      <td>0.0</td>\n",
       "      <td>0.0</td>\n",
       "    </tr>\n",
       "  </tbody>\n",
       "</table>\n",
       "<p>1 rows × 109 columns</p>\n",
       "</div>"
      ],
      "text/plain": [
       "   bedrooms  bathrooms  sqft_living  sqft_lot  floors  sqft_above  \\\n",
       "0       7.0        0.0          0.0       0.0     0.0         0.0   \n",
       "\n",
       "   sqft_basement  sqft_patio  yr_built  yr_renovated  ...  98168  98177  \\\n",
       "0            0.0         0.0       0.0           0.0  ...    0.0    0.0   \n",
       "\n",
       "   98178  98188  98198  98199  98224  98288  nuisance_NO  nuisance_YES  \n",
       "0    0.0    0.0    0.0    0.0    0.0    0.0          0.0           0.0  \n",
       "\n",
       "[1 rows x 109 columns]"
      ]
     },
     "execution_count": 164,
     "metadata": {},
     "output_type": "execute_result"
    }
   ],
   "source": [
    "user_pred"
   ]
  },
  {
   "cell_type": "code",
   "execution_count": null,
   "id": "181ab2cd",
   "metadata": {},
   "outputs": [],
   "source": [
    "model.predict"
   ]
  },
  {
   "cell_type": "code",
   "execution_count": 178,
   "id": "9384bc3d",
   "metadata": {},
   "outputs": [],
   "source": [
    "scaled = scaler.transform(df)"
   ]
  },
  {
   "cell_type": "code",
   "execution_count": 180,
   "id": "48126ea0",
   "metadata": {},
   "outputs": [
    {
     "data": {
      "text/plain": [
       "array([[-4.40295451e-01,  1.85494356e-01, -9.01021820e-01,\n",
       "        -1.89716517e-01, -9.37177214e-01, -8.45388642e-01,\n",
       "        -8.22736336e-01, -8.73655673e-01,  1.49210965e+00,\n",
       "        -2.23643617e-01,  1.43699548e-04, -1.02446298e+00,\n",
       "        -9.85030432e-01, -5.58089877e-01, -6.92506032e-01,\n",
       "        -3.45736356e-01,  1.32301230e-01, -1.32301230e-01,\n",
       "         1.64249978e-01, -1.64249978e-01, -5.05140894e-01,\n",
       "        -4.64876349e-02,  6.68496048e-01, -5.73976296e-02,\n",
       "        -3.32115823e-01, -9.90099010e-03, -2.62032648e-02,\n",
       "        -4.16152704e-01, -1.40028008e-02,  4.16557855e-01,\n",
       "        -7.00088567e-03, -1.45147882e-01, -1.12050025e-01,\n",
       "        -1.24003869e-01, -1.05357008e-01, -7.85112223e-02,\n",
       "        -1.34961038e-01, -7.26065771e-02, -1.22363759e-01,\n",
       "        -1.03679758e-01, -9.53934017e-02, -7.39585455e-02,\n",
       "        -9.32781365e-02, -1.23799972e-01, -1.60272979e-01,\n",
       "        -6.31318623e-02, -1.15584693e-01, -1.13609283e-01,\n",
       "        -1.05594534e-01, -1.15584693e-01, -1.35337043e-01,\n",
       "        -8.00759233e-02, -1.49831201e-01, -1.58657129e-01,\n",
       "        -1.74507901e-01, -4.59552016e-02, -1.09327885e-01,\n",
       "        -1.86522242e-01, -1.24613677e-01, -5.10322901e-02,\n",
       "        -9.90099010e-03, -4.75347661e-02, -1.38861966e-01,\n",
       "        -1.15366787e-01, -8.69205526e-02, -1.36086160e-01,\n",
       "        -6.73003883e-02, -1.54384626e-01, -1.45850389e-01,\n",
       "        -1.00742331e-01, -8.22177429e-02, -1.08637208e-01,\n",
       "        -1.22363759e-01, -1.19231392e-01, -9.16607883e-02,\n",
       "        -1.43021375e-01, -6.87546442e-02, -1.60594391e-01,\n",
       "        -1.10242372e-01, -1.40321612e-01, -1.24410720e-01,\n",
       "        -1.02221160e-01, -6.80313306e-02, -1.02465641e-01,\n",
       "        -1.60112055e-01, -1.17956496e-01, -1.62986813e-01,\n",
       "        -1.43199692e-01, -8.89020605e-02, -1.25220697e-01,\n",
       "        -1.32109338e-01, -1.22775718e-01, -1.50343331e-01,\n",
       "        -1.05118968e-01, -1.24003869e-01, -1.15802211e-01,\n",
       "        -5.73976296e-02, -1.33447184e-01, -1.09557188e-01,\n",
       "        -1.13830378e-01, -1.02952934e-01, -1.15584693e-01,\n",
       "        -8.28197845e-02, -1.22775718e-01, -1.20284057e-01,\n",
       "        -9.90099010e-03, -2.21436288e-02,  4.51887240e-01,\n",
       "        -4.51887240e-01]])"
      ]
     },
     "execution_count": 180,
     "metadata": {},
     "output_type": "execute_result"
    }
   ],
   "source": [
    "scaled"
   ]
  },
  {
   "cell_type": "code",
   "execution_count": 179,
   "id": "5778444a",
   "metadata": {},
   "outputs": [
    {
     "data": {
      "text/plain": [
       "array([6.90960566e+17])"
      ]
     },
     "execution_count": 179,
     "metadata": {},
     "output_type": "execute_result"
    }
   ],
   "source": [
    "model.predict(scaled)"
   ]
  },
  {
   "cell_type": "code",
   "execution_count": 162,
   "id": "4d336255",
   "metadata": {},
   "outputs": [
    {
     "data": {
      "text/plain": [
       "bedrooms             3.0\n",
       "bathrooms            2.5\n",
       "sqft_living       1960.0\n",
       "sqft_lot          7578.0\n",
       "floors               1.5\n",
       "                   ...  \n",
       "zip_code_98199       0.0\n",
       "zip_code_98224       0.0\n",
       "zip_code_98288       0.0\n",
       "nuisance_NO          1.0\n",
       "nuisance_YES         0.0\n",
       "Length: 109, dtype: float64"
      ]
     },
     "execution_count": 162,
     "metadata": {},
     "output_type": "execute_result"
    }
   ],
   "source": [
    "#modeled_df.columns\n",
    "\n",
    "#modeled_df.median().index\n",
    "modeled_df.median()"
   ]
  },
  {
   "cell_type": "code",
   "execution_count": 151,
   "id": "69352eed",
   "metadata": {},
   "outputs": [
    {
     "ename": "IndexingError",
     "evalue": "Too many indexers",
     "output_type": "error",
     "traceback": [
      "\u001b[0;31m---------------------------------------------------------------------------\u001b[0m",
      "\u001b[0;31mIndexingError\u001b[0m                             Traceback (most recent call last)",
      "Cell \u001b[0;32mIn[151], line 1\u001b[0m\n\u001b[0;32m----> 1\u001b[0m df \u001b[38;5;241m=\u001b[39m modeled_df\u001b[38;5;241m.\u001b[39mmedian()\u001b[38;5;241m.\u001b[39miloc[:\u001b[38;5;241m1\u001b[39m, :]\n",
      "File \u001b[0;32m~/anaconda3/envs/Number41/lib/python3.11/site-packages/pandas/core/indexing.py:1067\u001b[0m, in \u001b[0;36m_LocationIndexer.__getitem__\u001b[0;34m(self, key)\u001b[0m\n\u001b[1;32m   1065\u001b[0m     \u001b[38;5;28;01mif\u001b[39;00m \u001b[38;5;28mself\u001b[39m\u001b[38;5;241m.\u001b[39m_is_scalar_access(key):\n\u001b[1;32m   1066\u001b[0m         \u001b[38;5;28;01mreturn\u001b[39;00m \u001b[38;5;28mself\u001b[39m\u001b[38;5;241m.\u001b[39mobj\u001b[38;5;241m.\u001b[39m_get_value(\u001b[38;5;241m*\u001b[39mkey, takeable\u001b[38;5;241m=\u001b[39m\u001b[38;5;28mself\u001b[39m\u001b[38;5;241m.\u001b[39m_takeable)\n\u001b[0;32m-> 1067\u001b[0m     \u001b[38;5;28;01mreturn\u001b[39;00m \u001b[38;5;28mself\u001b[39m\u001b[38;5;241m.\u001b[39m_getitem_tuple(key)\n\u001b[1;32m   1068\u001b[0m \u001b[38;5;28;01melse\u001b[39;00m:\n\u001b[1;32m   1069\u001b[0m     \u001b[38;5;66;03m# we by definition only have the 0th axis\u001b[39;00m\n\u001b[1;32m   1070\u001b[0m     axis \u001b[38;5;241m=\u001b[39m \u001b[38;5;28mself\u001b[39m\u001b[38;5;241m.\u001b[39maxis \u001b[38;5;129;01mor\u001b[39;00m \u001b[38;5;241m0\u001b[39m\n",
      "File \u001b[0;32m~/anaconda3/envs/Number41/lib/python3.11/site-packages/pandas/core/indexing.py:1563\u001b[0m, in \u001b[0;36m_iLocIndexer._getitem_tuple\u001b[0;34m(self, tup)\u001b[0m\n\u001b[1;32m   1561\u001b[0m \u001b[38;5;28;01mdef\u001b[39;00m \u001b[38;5;21m_getitem_tuple\u001b[39m(\u001b[38;5;28mself\u001b[39m, tup: \u001b[38;5;28mtuple\u001b[39m):\n\u001b[0;32m-> 1563\u001b[0m     tup \u001b[38;5;241m=\u001b[39m \u001b[38;5;28mself\u001b[39m\u001b[38;5;241m.\u001b[39m_validate_tuple_indexer(tup)\n\u001b[1;32m   1564\u001b[0m     \u001b[38;5;28;01mwith\u001b[39;00m suppress(IndexingError):\n\u001b[1;32m   1565\u001b[0m         \u001b[38;5;28;01mreturn\u001b[39;00m \u001b[38;5;28mself\u001b[39m\u001b[38;5;241m.\u001b[39m_getitem_lowerdim(tup)\n",
      "File \u001b[0;32m~/anaconda3/envs/Number41/lib/python3.11/site-packages/pandas/core/indexing.py:869\u001b[0m, in \u001b[0;36m_LocationIndexer._validate_tuple_indexer\u001b[0;34m(self, key)\u001b[0m\n\u001b[1;32m    864\u001b[0m \u001b[38;5;129m@final\u001b[39m\n\u001b[1;32m    865\u001b[0m \u001b[38;5;28;01mdef\u001b[39;00m \u001b[38;5;21m_validate_tuple_indexer\u001b[39m(\u001b[38;5;28mself\u001b[39m, key: \u001b[38;5;28mtuple\u001b[39m) \u001b[38;5;241m-\u001b[39m\u001b[38;5;241m>\u001b[39m \u001b[38;5;28mtuple\u001b[39m:\n\u001b[1;32m    866\u001b[0m \u001b[38;5;250m    \u001b[39m\u001b[38;5;124;03m\"\"\"\u001b[39;00m\n\u001b[1;32m    867\u001b[0m \u001b[38;5;124;03m    Check the key for valid keys across my indexer.\u001b[39;00m\n\u001b[1;32m    868\u001b[0m \u001b[38;5;124;03m    \"\"\"\u001b[39;00m\n\u001b[0;32m--> 869\u001b[0m     key \u001b[38;5;241m=\u001b[39m \u001b[38;5;28mself\u001b[39m\u001b[38;5;241m.\u001b[39m_validate_key_length(key)\n\u001b[1;32m    870\u001b[0m     key \u001b[38;5;241m=\u001b[39m \u001b[38;5;28mself\u001b[39m\u001b[38;5;241m.\u001b[39m_expand_ellipsis(key)\n\u001b[1;32m    871\u001b[0m     \u001b[38;5;28;01mfor\u001b[39;00m i, k \u001b[38;5;129;01min\u001b[39;00m \u001b[38;5;28menumerate\u001b[39m(key):\n",
      "File \u001b[0;32m~/anaconda3/envs/Number41/lib/python3.11/site-packages/pandas/core/indexing.py:908\u001b[0m, in \u001b[0;36m_LocationIndexer._validate_key_length\u001b[0;34m(self, key)\u001b[0m\n\u001b[1;32m    906\u001b[0m             \u001b[38;5;28;01mraise\u001b[39;00m IndexingError(_one_ellipsis_message)\n\u001b[1;32m    907\u001b[0m         \u001b[38;5;28;01mreturn\u001b[39;00m \u001b[38;5;28mself\u001b[39m\u001b[38;5;241m.\u001b[39m_validate_key_length(key)\n\u001b[0;32m--> 908\u001b[0m     \u001b[38;5;28;01mraise\u001b[39;00m IndexingError(\u001b[38;5;124m\"\u001b[39m\u001b[38;5;124mToo many indexers\u001b[39m\u001b[38;5;124m\"\u001b[39m)\n\u001b[1;32m    909\u001b[0m \u001b[38;5;28;01mreturn\u001b[39;00m key\n",
      "\u001b[0;31mIndexingError\u001b[0m: Too many indexers"
     ]
    }
   ],
   "source": [
    "df = modeled_df.median().iloc[:1, :]"
   ]
  },
  {
   "cell_type": "code",
   "execution_count": 169,
   "id": "5542374b",
   "metadata": {},
   "outputs": [],
   "source": [
    "go = scaler.transform(df)"
   ]
  },
  {
   "cell_type": "code",
   "execution_count": 171,
   "id": "4b401a58",
   "metadata": {},
   "outputs": [
    {
     "data": {
      "text/plain": [
       "array([[-4.40295451e-01,  1.85494356e-01, -9.01021820e-01,\n",
       "        -1.89716517e-01, -9.37177214e-01, -8.45388642e-01,\n",
       "        -8.22736336e-01, -8.73655673e-01,  1.49210965e+00,\n",
       "        -2.23643617e-01,  1.43699548e-04, -1.02446298e+00,\n",
       "        -9.85030432e-01, -5.58089877e-01, -6.92506032e-01,\n",
       "        -3.45736356e-01,  1.32301230e-01, -1.32301230e-01,\n",
       "         1.64249978e-01, -1.64249978e-01, -5.05140894e-01,\n",
       "        -4.64876349e-02,  6.68496048e-01, -5.73976296e-02,\n",
       "        -3.32115823e-01, -9.90099010e-03, -2.62032648e-02,\n",
       "        -4.16152704e-01, -1.40028008e-02,  4.16557855e-01,\n",
       "        -7.00088567e-03, -1.45147882e-01, -1.12050025e-01,\n",
       "        -1.24003869e-01, -1.05357008e-01, -7.85112223e-02,\n",
       "        -1.34961038e-01, -7.26065771e-02, -1.22363759e-01,\n",
       "        -1.03679758e-01, -9.53934017e-02, -7.39585455e-02,\n",
       "        -9.32781365e-02, -1.23799972e-01, -1.60272979e-01,\n",
       "        -6.31318623e-02, -1.15584693e-01, -1.13609283e-01,\n",
       "        -1.05594534e-01, -1.15584693e-01, -1.35337043e-01,\n",
       "        -8.00759233e-02, -1.49831201e-01, -1.58657129e-01,\n",
       "        -1.74507901e-01, -4.59552016e-02, -1.09327885e-01,\n",
       "        -1.86522242e-01, -1.24613677e-01, -5.10322901e-02,\n",
       "        -9.90099010e-03, -4.75347661e-02, -1.38861966e-01,\n",
       "        -1.15366787e-01, -8.69205526e-02, -1.36086160e-01,\n",
       "        -6.73003883e-02, -1.54384626e-01, -1.45850389e-01,\n",
       "        -1.00742331e-01, -8.22177429e-02, -1.08637208e-01,\n",
       "        -1.22363759e-01, -1.19231392e-01, -9.16607883e-02,\n",
       "        -1.43021375e-01, -6.87546442e-02, -1.60594391e-01,\n",
       "        -1.10242372e-01, -1.40321612e-01, -1.24410720e-01,\n",
       "        -1.02221160e-01, -6.80313306e-02, -1.02465641e-01,\n",
       "        -1.60112055e-01, -1.17956496e-01, -1.62986813e-01,\n",
       "        -1.43199692e-01, -8.89020605e-02, -1.25220697e-01,\n",
       "        -1.32109338e-01, -1.22775718e-01, -1.50343331e-01,\n",
       "        -1.05118968e-01, -1.24003869e-01, -1.15802211e-01,\n",
       "        -5.73976296e-02, -1.33447184e-01, -1.09557188e-01,\n",
       "        -1.13830378e-01, -1.02952934e-01, -1.15584693e-01,\n",
       "        -8.28197845e-02, -1.22775718e-01, -1.20284057e-01,\n",
       "        -9.90099010e-03, -2.21436288e-02,  4.51887240e-01,\n",
       "        -4.51887240e-01]])"
      ]
     },
     "execution_count": 171,
     "metadata": {},
     "output_type": "execute_result"
    }
   ],
   "source": [
    "go"
   ]
  },
  {
   "cell_type": "code",
   "execution_count": 170,
   "id": "fb4d314b",
   "metadata": {},
   "outputs": [
    {
     "data": {
      "text/plain": [
       "array([6.90960566e+17])"
      ]
     },
     "execution_count": 170,
     "metadata": {},
     "output_type": "execute_result"
    }
   ],
   "source": [
    "model.predict(go)"
   ]
  },
  {
   "cell_type": "code",
   "execution_count": 10,
   "id": "fdb71700",
   "metadata": {},
   "outputs": [],
   "source": [
    "d = {'Bedrooms': [beds], 'Bathrooms': [baths]}\n",
    "df = pd.DataFrame(data=d)"
   ]
  },
  {
   "cell_type": "code",
   "execution_count": 14,
   "id": "3ac65421",
   "metadata": {},
   "outputs": [
    {
     "data": {
      "text/plain": [
       "['bedrooms',\n",
       " 'bathrooms',\n",
       " 'sqft_living',\n",
       " 'sqft_lot',\n",
       " 'floors',\n",
       " 'sqft_above',\n",
       " 'sqft_basement',\n",
       " 'sqft_patio',\n",
       " 'yr_built',\n",
       " 'yr_renovated',\n",
       " 'lat',\n",
       " 'long',\n",
       " 'distance_to_amazon',\n",
       " 'grade',\n",
       " 'condition',\n",
       " 'view',\n",
       " 'waterfront_NO',\n",
       " 'waterfront_YES',\n",
       " 'greenbelt_NO',\n",
       " 'greenbelt_YES',\n",
       " 'heat_source_Electricity',\n",
       " 'heat_source_Electricity/Solar',\n",
       " 'heat_source_Gas',\n",
       " 'heat_source_Gas/Solar',\n",
       " 'heat_source_Oil',\n",
       " 'heat_source_Oil/Solar',\n",
       " 'heat_source_Other',\n",
       " 'sewer_system_PRIVATE',\n",
       " 'sewer_system_PRIVATE RESTRICTED',\n",
       " 'sewer_system_PUBLIC',\n",
       " 'sewer_system_PUBLIC RESTRICTED',\n",
       " 'zip_code_98001',\n",
       " 'zip_code_98002',\n",
       " 'zip_code_98003',\n",
       " 'zip_code_98004',\n",
       " 'zip_code_98005',\n",
       " 'zip_code_98006',\n",
       " 'zip_code_98007',\n",
       " 'zip_code_98008',\n",
       " 'zip_code_98010',\n",
       " 'zip_code_98011',\n",
       " 'zip_code_98014',\n",
       " 'zip_code_98019',\n",
       " 'zip_code_98022',\n",
       " 'zip_code_98023',\n",
       " 'zip_code_98024',\n",
       " 'zip_code_98027',\n",
       " 'zip_code_98028',\n",
       " 'zip_code_98029',\n",
       " 'zip_code_98030',\n",
       " 'zip_code_98031',\n",
       " 'zip_code_98032',\n",
       " 'zip_code_98033',\n",
       " 'zip_code_98034',\n",
       " 'zip_code_98038',\n",
       " 'zip_code_98039',\n",
       " 'zip_code_98040',\n",
       " 'zip_code_98042',\n",
       " 'zip_code_98045',\n",
       " 'zip_code_98047',\n",
       " 'zip_code_98050',\n",
       " 'zip_code_98051',\n",
       " 'zip_code_98052',\n",
       " 'zip_code_98053',\n",
       " 'zip_code_98055',\n",
       " 'zip_code_98056',\n",
       " 'zip_code_98057',\n",
       " 'zip_code_98058',\n",
       " 'zip_code_98059',\n",
       " 'zip_code_98065',\n",
       " 'zip_code_98070',\n",
       " 'zip_code_98072',\n",
       " 'zip_code_98074',\n",
       " 'zip_code_98075',\n",
       " 'zip_code_98077',\n",
       " 'zip_code_98092',\n",
       " 'zip_code_98102',\n",
       " 'zip_code_98103',\n",
       " 'zip_code_98105',\n",
       " 'zip_code_98106',\n",
       " 'zip_code_98107',\n",
       " 'zip_code_98108',\n",
       " 'zip_code_98109',\n",
       " 'zip_code_98112',\n",
       " 'zip_code_98115',\n",
       " 'zip_code_98116',\n",
       " 'zip_code_98117',\n",
       " 'zip_code_98118',\n",
       " 'zip_code_98119',\n",
       " 'zip_code_98122',\n",
       " 'zip_code_98125',\n",
       " 'zip_code_98126',\n",
       " 'zip_code_98133',\n",
       " 'zip_code_98136',\n",
       " 'zip_code_98144',\n",
       " 'zip_code_98146',\n",
       " 'zip_code_98148',\n",
       " 'zip_code_98155',\n",
       " 'zip_code_98166',\n",
       " 'zip_code_98168',\n",
       " 'zip_code_98177',\n",
       " 'zip_code_98178',\n",
       " 'zip_code_98188',\n",
       " 'zip_code_98198',\n",
       " 'zip_code_98199',\n",
       " 'zip_code_98224',\n",
       " 'zip_code_98288',\n",
       " 'nuisance_NO',\n",
       " 'nuisance_YES']"
      ]
     },
     "execution_count": 14,
     "metadata": {},
     "output_type": "execute_result"
    }
   ],
   "source": [
    "list(modeled_df.columns)"
   ]
  },
  {
   "cell_type": "code",
   "execution_count": 144,
   "id": "a6b64393",
   "metadata": {},
   "outputs": [
    {
     "ename": "SyntaxError",
     "evalue": "incomplete input (3281254838.py, line 1)",
     "output_type": "error",
     "traceback": [
      "\u001b[0;36m  Cell \u001b[0;32mIn[144], line 1\u001b[0;36m\u001b[0m\n\u001b[0;31m    ''''\u001b[0m\n\u001b[0m    ^\u001b[0m\n\u001b[0;31mSyntaxError\u001b[0m\u001b[0;31m:\u001b[0m incomplete input\n"
     ]
    }
   ],
   "source": [
    "''''\n",
    "\n",
    "response = st.selectbox('Select Standard of Cusom' , ['Standard', 'Custom'])\n",
    "\n",
    "elif response == 'Custom':   \n",
    "    \n",
    "    \n",
    "    st.image('house_pic.jpg')    \n",
    "    \n",
    "    st.subheader('Sir/Mme , YOU need to fill all necessary informations in order    to get a reply to your loan request !')    \n",
    "    st.sidebar.header(\"Informations about the client :\")    \n",
    "    gender_dict = {\"Male\":1,\"Female\":2}    \n",
    "    feature_dict = {\"No\":1,\"Yes\":2}    \n",
    "    edu={'Graduate':1,'Not Graduate':2}    \n",
    "    prop={'Rural':1,'Urban':2,'Semiurban':3}    \n",
    "    ApplicantIncome=st.sidebar.slider('ApplicantIncome',0,10000,0,)    \n",
    "    CoapplicantIncome=st.sidebar.slider('CoapplicantIncome',0,10000,0,)    \n",
    "    LoanAmount=st.sidebar.slider('LoanAmount in K$',9.0,700.0,200.0)    \n",
    "    Loan_Amount_Term=st.sidebar.selectbox('Loan_Amount_Term',(12.0,36.0,60.0,84.0,120.0,180.0,240.0,300.0,360.0))    \n",
    "    Credit_History=st.sidebar.radio('Credit_History',(0.0,1.0))    \n",
    "    Gender=st.sidebar.radio('Gender',tuple(gender_dict.keys()))    \n",
    "    Married=st.sidebar.radio('Married',tuple(feature_dict.keys()))    \n",
    "    Self_Employed=st.sidebar.radio('Self Employed',tuple(feature_dict.keys()))    \n",
    "    Dependents=st.sidebar.radio('Dependents',options=['0','1' , '2' , '3+'])    \n",
    "    Education=st.sidebar.radio('Education',tuple(edu.keys()))    \n",
    "    Property_Area=st.sidebar.radio('Property_Area',tuple(prop.keys()))    \n",
    "    \n",
    "    \n",
    "    class_0 , class_3 , class_1, class_2 = 0,0,0,0    if Dependents == '0':        class_0 = 1    elif Dependents == '1':        class_1 = 1    elif Dependents == '2' :        class_2 = 1    else:        class_3= 1    \n",
    "    Rural,Urban,Semiurban=0,0,0    if Property_Area == 'Urban' :        Urban = 1    elif Property_Area == 'Semiurban' :        Semiurban = 1    else :        Rural=1"
   ]
  },
  {
   "cell_type": "code",
   "execution_count": 147,
   "id": "4028ba5d",
   "metadata": {},
   "outputs": [
    {
     "data": {
      "text/plain": [
       "\"\\n\\nmodel_cols = ['bedrooms',\\n 'bathrooms',\\n 'sqft_living',\\n 'sqft_lot',\\n 'floors',\\n 'sqft_above',\\n 'sqft_basement',\\n 'sqft_patio',\\n 'yr_built',\\n 'yr_renovated',\\n 'lat',\\n 'long',\\n 'distance_to_amazon',\\n 'grade',\\n 'condition',\\n 'view',\\n 'waterfront_NO',\\n 'waterfront_YES',\\n 'greenbelt_NO',\\n 'greenbelt_YES',\\n 'heat_source_Electricity',\\n 'heat_source_Electricity/Solar',\\n 'heat_source_Gas',\\n 'heat_source_Gas/Solar',\\n 'heat_source_Oil',\\n 'heat_source_Oil/Solar',\\n 'heat_source_Other',\\n 'sewer_system_PRIVATE',\\n 'sewer_system_PRIVATE RESTRICTED',\\n 'sewer_system_PUBLIC',\\n 'sewer_system_PUBLIC RESTRICTED',\\n 'zip_code_98001',\\n 'zip_code_98002',\\n 'zip_code_98003',\\n 'zip_code_98004',\\n 'zip_code_98005',\\n 'zip_code_98006',\\n 'zip_code_98007',\\n 'zip_code_98008',\\n 'zip_code_98010',\\n 'zip_code_98011',\\n 'zip_code_98014',\\n 'zip_code_98019',\\n 'zip_code_98022',\\n 'zip_code_98023',\\n 'zip_code_98024',\\n 'zip_code_98027',\\n 'zip_code_98028',\\n 'zip_code_98029',\\n 'zip_code_98030',\\n 'zip_code_98031',\\n 'zip_code_98032',\\n 'zip_code_98033',\\n 'zip_code_98034',\\n 'zip_code_98038',\\n 'zip_code_98039',\\n 'zip_code_98040',\\n 'zip_code_98042',\\n 'zip_code_98045',\\n 'zip_code_98047',\\n 'zip_code_98050',\\n 'zip_code_98051',\\n 'zip_code_98052',\\n 'zip_code_98053',\\n 'zip_code_98055',\\n 'zip_code_98056',\\n 'zip_code_98057',\\n 'zip_code_98058',\\n 'zip_code_98059',\\n 'zip_code_98065',\\n 'zip_code_98070',\\n 'zip_code_98072',\\n 'zip_code_98074',\\n 'zip_code_98075',\\n 'zip_code_98077',\\n 'zip_code_98092',\\n 'zip_code_98102',\\n 'zip_code_98103',\\n 'zip_code_98105',\\n 'zip_code_98106',\\n 'zip_code_98107',\\n 'zip_code_98108',\\n 'zip_code_98109',\\n 'zip_code_98112',\\n 'zip_code_98115',\\n 'zip_code_98116',\\n 'zip_code_98117',\\n 'zip_code_98118',\\n 'zip_code_98119',\\n 'zip_code_98122',\\n 'zip_code_98125',\\n 'zip_code_98126',\\n 'zip_code_98133',\\n 'zip_code_98136',\\n 'zip_code_98144',\\n 'zip_code_98146',\\n 'zip_code_98148',\\n 'zip_code_98155',\\n 'zip_code_98166',\\n 'zip_code_98168',\\n 'zip_code_98177',\\n 'zip_code_98178',\\n 'zip_code_98188',\\n 'zip_code_98198',\\n 'zip_code_98199',\\n 'zip_code_98224',\\n 'zip_code_98288',\\n 'nuisance_NO',\\n 'nuisance_YES']\\n \\n \""
      ]
     },
     "execution_count": 147,
     "metadata": {},
     "output_type": "execute_result"
    }
   ],
   "source": [
    "'''\n",
    "\n",
    "model_cols = ['bedrooms',\n",
    " 'bathrooms',\n",
    " 'sqft_living',\n",
    " 'sqft_lot',\n",
    " 'floors',\n",
    " 'sqft_above',\n",
    " 'sqft_basement',\n",
    " 'sqft_patio',\n",
    " 'yr_built',\n",
    " 'yr_renovated',\n",
    " 'lat',\n",
    " 'long',\n",
    " 'distance_to_amazon',\n",
    " 'grade',\n",
    " 'condition',\n",
    " 'view',\n",
    " 'waterfront_NO',\n",
    " 'waterfront_YES',\n",
    " 'greenbelt_NO',\n",
    " 'greenbelt_YES',\n",
    " 'heat_source_Electricity',\n",
    " 'heat_source_Electricity/Solar',\n",
    " 'heat_source_Gas',\n",
    " 'heat_source_Gas/Solar',\n",
    " 'heat_source_Oil',\n",
    " 'heat_source_Oil/Solar',\n",
    " 'heat_source_Other',\n",
    " 'sewer_system_PRIVATE',\n",
    " 'sewer_system_PRIVATE RESTRICTED',\n",
    " 'sewer_system_PUBLIC',\n",
    " 'sewer_system_PUBLIC RESTRICTED',\n",
    " 'zip_code_98001',\n",
    " 'zip_code_98002',\n",
    " 'zip_code_98003',\n",
    " 'zip_code_98004',\n",
    " 'zip_code_98005',\n",
    " 'zip_code_98006',\n",
    " 'zip_code_98007',\n",
    " 'zip_code_98008',\n",
    " 'zip_code_98010',\n",
    " 'zip_code_98011',\n",
    " 'zip_code_98014',\n",
    " 'zip_code_98019',\n",
    " 'zip_code_98022',\n",
    " 'zip_code_98023',\n",
    " 'zip_code_98024',\n",
    " 'zip_code_98027',\n",
    " 'zip_code_98028',\n",
    " 'zip_code_98029',\n",
    " 'zip_code_98030',\n",
    " 'zip_code_98031',\n",
    " 'zip_code_98032',\n",
    " 'zip_code_98033',\n",
    " 'zip_code_98034',\n",
    " 'zip_code_98038',\n",
    " 'zip_code_98039',\n",
    " 'zip_code_98040',\n",
    " 'zip_code_98042',\n",
    " 'zip_code_98045',\n",
    " 'zip_code_98047',\n",
    " 'zip_code_98050',\n",
    " 'zip_code_98051',\n",
    " 'zip_code_98052',\n",
    " 'zip_code_98053',\n",
    " 'zip_code_98055',\n",
    " 'zip_code_98056',\n",
    " 'zip_code_98057',\n",
    " 'zip_code_98058',\n",
    " 'zip_code_98059',\n",
    " 'zip_code_98065',\n",
    " 'zip_code_98070',\n",
    " 'zip_code_98072',\n",
    " 'zip_code_98074',\n",
    " 'zip_code_98075',\n",
    " 'zip_code_98077',\n",
    " 'zip_code_98092',\n",
    " 'zip_code_98102',\n",
    " 'zip_code_98103',\n",
    " 'zip_code_98105',\n",
    " 'zip_code_98106',\n",
    " 'zip_code_98107',\n",
    " 'zip_code_98108',\n",
    " 'zip_code_98109',\n",
    " 'zip_code_98112',\n",
    " 'zip_code_98115',\n",
    " 'zip_code_98116',\n",
    " 'zip_code_98117',\n",
    " 'zip_code_98118',\n",
    " 'zip_code_98119',\n",
    " 'zip_code_98122',\n",
    " 'zip_code_98125',\n",
    " 'zip_code_98126',\n",
    " 'zip_code_98133',\n",
    " 'zip_code_98136',\n",
    " 'zip_code_98144',\n",
    " 'zip_code_98146',\n",
    " 'zip_code_98148',\n",
    " 'zip_code_98155',\n",
    " 'zip_code_98166',\n",
    " 'zip_code_98168',\n",
    " 'zip_code_98177',\n",
    " 'zip_code_98178',\n",
    " 'zip_code_98188',\n",
    " 'zip_code_98198',\n",
    " 'zip_code_98199',\n",
    " 'zip_code_98224',\n",
    " 'zip_code_98288',\n",
    " 'nuisance_NO',\n",
    " 'nuisance_YES']\n",
    " \n",
    " '''"
   ]
  },
  {
   "cell_type": "code",
   "execution_count": null,
   "id": "482aea79",
   "metadata": {},
   "outputs": [],
   "source": []
  },
  {
   "cell_type": "code",
   "execution_count": null,
   "id": "0ea484ab",
   "metadata": {},
   "outputs": [],
   "source": []
  }
 ],
 "metadata": {
  "kernelspec": {
   "display_name": "Python (Number41)",
   "language": "python",
   "name": "number41"
  },
  "language_info": {
   "codemirror_mode": {
    "name": "ipython",
    "version": 3
   },
   "file_extension": ".py",
   "mimetype": "text/x-python",
   "name": "python",
   "nbconvert_exporter": "python",
   "pygments_lexer": "ipython3",
   "version": "3.11.3"
  }
 },
 "nbformat": 4,
 "nbformat_minor": 5
}
