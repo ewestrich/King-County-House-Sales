{
 "cells": [
  {
   "cell_type": "code",
   "execution_count": null,
   "id": "ab0605ea",
   "metadata": {},
   "outputs": [],
   "source": [
    "import streamlit as st\n",
    "\n",
    "import pickle\n",
    "\n",
    "import numpy as np\n",
    "import pandas as pd \n",
    "from numbers import Number\n",
    "from scipy import stats\n",
    "from geopy.distance import geodesic\n",
    "\n",
    "import matplotlib.pyplot as plt\n",
    "import seaborn as sns\n",
    "\n",
    "import itertools\n",
    "import statsmodels.api as sm\n",
    "from sklearn.preprocessing import OrdinalEncoder\n",
    "from sklearn.linear_model import LinearRegression\n",
    "from sklearn.model_selection import train_test_split\n",
    "from sklearn.metrics import mean_absolute_error\n",
    "from sklearn.metrics import mean_squared_error\n",
    "from sklearn.preprocessing import StandardScaler\n",
    "from sklearn.preprocessing import OneHotEncoder\n",
    "from sklearn.preprocessing import PolynomialFeatures"
   ]
  },
  {
   "cell_type": "code",
   "execution_count": null,
   "id": "72468d2d",
   "metadata": {},
   "outputs": [],
   "source": [
    "st.title(\"Kings County Housing Dashboard\")\n",
    "\n",
    "st.header(\"Interactive Housing Predictive Model Widget\")\n",
    "\n",
    "st.subheader(\"Map of Kings County, WA Housing Data\")"
   ]
  },
  {
   "cell_type": "code",
   "execution_count": null,
   "id": "18ea45c6",
   "metadata": {},
   "outputs": [],
   "source": [
    "model = pickle.load(open('daniel_pickle.pkl','rb'))\n",
    "modeled_df = pickle.load(open('df_pickle.pkl','rb'))\n",
    "ss = pickle.load(open('scaler.pkl','rb'))"
   ]
  },
  {
   "cell_type": "code",
   "execution_count": null,
   "id": "77b492de",
   "metadata": {},
   "outputs": [],
   "source": [
    "test = modeled_df.iloc[0:1,:]"
   ]
  },
  {
   "cell_type": "code",
   "execution_count": null,
   "id": "38b5d726",
   "metadata": {},
   "outputs": [],
   "source": [
    "standard_test = ss.transform(test)"
   ]
  },
  {
   "cell_type": "code",
   "execution_count": null,
   "id": "62026bf8",
   "metadata": {},
   "outputs": [],
   "source": [
    "result = model.predict(standard_test)[0]"
   ]
  },
  {
   "cell_type": "code",
   "execution_count": null,
   "id": "bf84ed38",
   "metadata": {},
   "outputs": [],
   "source": [
    "st.write('Common Kings County House Sold for:', result)"
   ]
  },
  {
   "cell_type": "markdown",
   "id": "4348571d",
   "metadata": {},
   "source": [
    "    \n",
    "    st.image('house_pic.jpg')\n",
    "    \n",
    "    beds = st.selectbox('Select Number of Bedrooms:',[0, 1, 2, 3, 4, 5, 6, 7, 8, 9, 10, 11, 13])\n",
    "\n",
    "    baths = st.selectbox('Select Number of Bathrooms',[0.0,0.5,1.0,1.5,2.0,2.5,3.0,3.5,4.0,4.5,5.0\n",
    "                                                  ,5.5,6.0, 6.5,7.0,7.5,8.0,8.5,9.5\n",
    "                                                  ,10.0,10.5])\n",
    "    if beds != list(test['bedrooms']):\n",
    "        new_test = test.replace({'bedrooms': list(test['bedrooms'])}, beds)\n",
    "        \n",
    "\n",
    "    elif baths != list(test['bathrooms']):\n",
    "        new_test = test.replace({'bathrooms': list(test['bathrooms'])}, beds)\n",
    "        \n",
    "    standard_new_test = ss.transform(new_test)\n",
    "    \n",
    "    voila = model.predict(standard_new_test)[0]\n",
    "    \n",
    "    st.write('This House is valued at:', voila)\n"
   ]
  },
  {
   "cell_type": "code",
   "execution_count": null,
   "id": "eb65d08e",
   "metadata": {},
   "outputs": [],
   "source": [
    "st.image('house_pic.jpg')\n",
    "    \n",
    "new_test = test\n",
    "\n",
    "beds = st.selectbox('Select Number of Bedrooms:',[0, 1, 2, 3, 4, 5, 6, 7, 8, 9, 10, 11, 13])\n",
    "\n",
    "baths = st.selectbox('Select Number of Bathrooms',[0.0,0.5,1.0,1.5,2.0,2.5,3.0,3.5,4.0,4.5,5.0\n",
    "                                                  ,5.5,6.0, 6.5,7.0,7.5,8.0,8.5,9.5\n",
    "                                                  ,10.0,10.5])\n",
    "\n",
    "new_test = test.replace({'bedrooms': list(test['bedrooms'])}, beds)\n",
    "new_test = test.replace({'bathrooms': list(test['bathrooms'])}, beds)\n",
    "        \n",
    "standard_new_test = ss.transform(new_test)\n",
    "    \n",
    "voila = model.predict(standard_new_test)[0]\n",
    "    \n",
    "st.write('This House is valued at:', voila)"
   ]
  }
 ],
 "metadata": {
  "kernelspec": {
   "display_name": "Python (Number41)",
   "language": "python",
   "name": "number41"
  },
  "language_info": {
   "codemirror_mode": {
    "name": "ipython",
    "version": 3
   },
   "file_extension": ".py",
   "mimetype": "text/x-python",
   "name": "python",
   "nbconvert_exporter": "python",
   "pygments_lexer": "ipython3",
   "version": "3.11.3"
  }
 },
 "nbformat": 4,
 "nbformat_minor": 5
}
