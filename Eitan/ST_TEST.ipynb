{
 "cells": [
  {
   "cell_type": "code",
   "execution_count": 1,
   "id": "76d80118",
   "metadata": {},
   "outputs": [
    {
     "name": "stdout",
     "output_type": "stream",
     "text": [
      "Intel MKL WARNING: Support of Intel(R) Streaming SIMD Extensions 4.2 (Intel(R) SSE4.2) enabled only processors has been deprecated. Intel oneAPI Math Kernel Library 2025.0 will require Intel(R) Advanced Vector Extensions (Intel(R) AVX) instructions.\n",
      "Intel MKL WARNING: Support of Intel(R) Streaming SIMD Extensions 4.2 (Intel(R) SSE4.2) enabled only processors has been deprecated. Intel oneAPI Math Kernel Library 2025.0 will require Intel(R) Advanced Vector Extensions (Intel(R) AVX) instructions.\n"
     ]
    }
   ],
   "source": [
    "import streamlit as st\n",
    "\n",
    "import itertools\n",
    "import numpy as np\n",
    "import pandas as pd \n",
    "from numbers import Number\n",
    "from scipy import stats\n",
    "import matplotlib.pyplot as plt"
   ]
  },
  {
   "cell_type": "code",
   "execution_count": 2,
   "id": "611eb5bd",
   "metadata": {},
   "outputs": [
    {
     "name": "stderr",
     "output_type": "stream",
     "text": [
      "2023-06-01 09:50:00.727 \n",
      "  \u001b[33m\u001b[1mWarning:\u001b[0m to view this Streamlit app on a browser, run it with the following\n",
      "  command:\n",
      "\n",
      "    streamlit run /Users/eitan/anaconda3/envs/Number41/lib/python3.11/site-packages/ipykernel_launcher.py [ARGUMENTS]\n"
     ]
    },
    {
     "data": {
      "text/plain": [
       "DeltaGenerator()"
      ]
     },
     "execution_count": 2,
     "metadata": {},
     "output_type": "execute_result"
    }
   ],
   "source": [
    "st.title(\"Kings County Housing Dashboard\")\n",
    "\n",
    "st.header(\"Interactive Housing Predictive Model Widget\")\n",
    "\n",
    "st.subheader(\"Map of Kings County, WA Housing Data\")\n"
   ]
  },
  {
   "cell_type": "code",
   "execution_count": 3,
   "id": "cdcacb5b",
   "metadata": {},
   "outputs": [],
   "source": [
    "beds = st.selectbox('Select Number of Bedrooms:',[0, 1, 2, 3, 4, 5, 6, 7, 8, 9, 10, 11, 13])"
   ]
  },
  {
   "cell_type": "code",
   "execution_count": 4,
   "id": "4b5b839d",
   "metadata": {},
   "outputs": [],
   "source": [
    "#st.code(\"x=2021\") prints a test in \"code\" form\n",
    "#st.latex(r''' a+a r^1+a r^2+a r^3 ''') prints in \"equation\" form"
   ]
  },
  {
   "cell_type": "code",
   "execution_count": 5,
   "id": "93934169",
   "metadata": {},
   "outputs": [],
   "source": [
    "baths = st.selectbox('Select Number of Bathrooms',[0.0,0.5,1.0,1.5,2.0,2.5,3.0,3.5,4.0,4.5,5.0\n",
    "                                                  ,5.5,6.0, 6.5,7.0,7.5,8.0,8.5,9.5\n",
    "                                                  ,10.0,10.5])"
   ]
  },
  {
   "cell_type": "code",
   "execution_count": 6,
   "id": "aebab5e5",
   "metadata": {},
   "outputs": [],
   "source": [
    "bathrooms = st.radio('Select Number of Bathrooms',[0.0,0.5,1.0,1.5,2.0,2.5,3.0,3.5,4.0,4.5,5.0\n",
    "                                                  ,5.5,6.0, 6.5,7.0,7.5,8.0,8.5,9.5\n",
    "                                                  ,10.0,10.5])"
   ]
  },
  {
   "cell_type": "code",
   "execution_count": null,
   "id": "824ec1c2",
   "metadata": {},
   "outputs": [],
   "source": [
    "resp = st.button('standard')\n",
    "cust = st.button('Custom')\n",
    "\n",
    "if resp: \n",
    "    dfjsd;j\n",
    "    \n"
   ]
  },
  {
   "cell_type": "code",
   "execution_count": 9,
   "id": "eeff9682",
   "metadata": {},
   "outputs": [],
   "source": [
    "response = st.selectbox('Select Standard of Cusom' , ['Standard', 'Custom'])\n",
    "\n",
    "if response == 'Custom':   \n",
    "    \n",
    "    \n",
    "    st.image('house_pic.jpg')    \n",
    "    "
   ]
  },
  {
   "cell_type": "code",
   "execution_count": null,
   "id": "c93592a7",
   "metadata": {},
   "outputs": [],
   "source": [
    "df.loc[df['bedrooms'] == beds & df['beths'] = baths & df[]"
   ]
  },
  {
   "cell_type": "code",
   "execution_count": null,
   "id": "087efff0",
   "metadata": {},
   "outputs": [],
   "source": [
    "st.button('predict')\n",
    "\n",
    "if button: \n",
    "    pred = lr.predict(user_input)\n",
    "    print('this how much yo house is : '.format(pred))"
   ]
  },
  {
   "cell_type": "markdown",
   "id": "1f6d146b",
   "metadata": {},
   "source": [
    "st.sidebar.header(\"Informations about the client :\")    gender_dict = {\"Male\":1,\"Female\":2}    feature_dict = {\"No\":1,\"Yes\":2}    edu={'Graduate':1,'Not Graduate':2}    prop={'Rural':1,'Urban':2,'Semiurban':3}    "
   ]
  },
  {
   "cell_type": "code",
   "execution_count": null,
   "id": "27abf578",
   "metadata": {},
   "outputs": [],
   "source": []
  }
 ],
 "metadata": {
  "kernelspec": {
   "display_name": "Python (Number41)",
   "language": "python",
   "name": "number41"
  },
  "language_info": {
   "codemirror_mode": {
    "name": "ipython",
    "version": 3
   },
   "file_extension": ".py",
   "mimetype": "text/x-python",
   "name": "python",
   "nbconvert_exporter": "python",
   "pygments_lexer": "ipython3",
   "version": "3.11.3"
  }
 },
 "nbformat": 4,
 "nbformat_minor": 5
}
