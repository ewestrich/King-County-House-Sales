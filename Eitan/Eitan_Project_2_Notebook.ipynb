{
 "cells": [
  {
   "cell_type": "markdown",
   "metadata": {},
   "source": [
    "## Final Project Submission\n",
    "\n",
    "Please fill out:\n",
    "* Student name: \n",
    "* Student pace: self paced / part time / full time\n",
    "* Scheduled project review date/time: \n",
    "* Instructor name: \n",
    "* Blog post URL:\n"
   ]
  },
  {
   "cell_type": "code",
   "execution_count": 4,
   "metadata": {},
   "outputs": [],
   "source": [
    "import itertools\n",
    "import numpy as np\n",
    "import pandas as pd \n",
    "from numbers import Number\n",
    "from scipy import stats\n",
    "import matplotlib.pyplot as plt\n",
    "import seaborn as sns\n",
    "import statsmodels.api as sm\n",
    "import warnings\n",
    "warnings.filterwarnings('ignore')\n",
    "\n",
    "from geopy.distance import geodesic"
   ]
  },
  {
   "cell_type": "code",
   "execution_count": 5,
   "metadata": {},
   "outputs": [],
   "source": [
    "from sklearn.linear_model import LinearRegression\n",
    "from sklearn.model_selection import train_test_split\n",
    "from sklearn.preprocessing import StandardScaler\n",
    "from sklearn.preprocessing import OrdinalEncoder\n",
    "from sklearn.metrics import mean_absolute_error\n",
    "from sklearn.metrics import mean_squared_error\n",
    "from sklearn.preprocessing import OneHotEncoder\n",
    "from sklearn.preprocessing import PolynomialFeatures"
   ]
  },
  {
   "cell_type": "code",
   "execution_count": 6,
   "metadata": {},
   "outputs": [],
   "source": [
    "data = pd.read_csv('../data/kc_house_data.csv')"
   ]
  },
  {
   "cell_type": "code",
   "execution_count": 7,
   "metadata": {},
   "outputs": [],
   "source": [
    "data = data.dropna()"
   ]
  },
  {
   "cell_type": "code",
   "execution_count": 8,
   "metadata": {},
   "outputs": [],
   "source": [
    "def zip_code(address):\n",
    "    x = address.split(' ')[-3]\n",
    "\n",
    "    return x.split(',')[0]"
   ]
  },
  {
   "cell_type": "code",
   "execution_count": 9,
   "metadata": {},
   "outputs": [],
   "source": [
    "def township(address):\n",
    "    x = address.split(', ')[1]\n",
    "\n",
    "    return x"
   ]
  },
  {
   "cell_type": "code",
   "execution_count": 10,
   "metadata": {},
   "outputs": [],
   "source": [
    "data['zip_code'] = data['address'].apply(lambda x: zip_code(x))"
   ]
  },
  {
   "cell_type": "code",
   "execution_count": 11,
   "metadata": {},
   "outputs": [],
   "source": [
    "data = data.sort_values(by = 'zip_code')"
   ]
  },
  {
   "cell_type": "code",
   "execution_count": 12,
   "metadata": {},
   "outputs": [],
   "source": [
    "data['zip_code'] = data['zip_code'].astype('int')"
   ]
  },
  {
   "cell_type": "code",
   "execution_count": 13,
   "metadata": {},
   "outputs": [],
   "source": [
    "data['township'] = data['address'].apply(lambda x: township(x))"
   ]
  },
  {
   "cell_type": "code",
   "execution_count": 14,
   "metadata": {},
   "outputs": [],
   "source": [
    "kc_zips =[98001,\n",
    "98002,\n",
    "98003,\n",
    "98004,\n",
    "98005,\n",
    "98006,\n",
    "98007,\n",
    "98008,\n",
    "98009,\n",
    "98010,\n",
    "98011,\n",
    "98013,\n",
    "98014,\n",
    "98015,\n",
    "98019,\n",
    "98022,\n",
    "98023,\n",
    "98024,\n",
    "98025,\n",
    "98027,\n",
    "98028,\n",
    "98029,\n",
    "98030,\n",
    "98031,\n",
    "98032,\n",
    "98033,\n",
    "98034,\n",
    "98035,\n",
    "98038,\n",
    "98039,\n",
    "98040,\n",
    "98041,\n",
    "98042,\n",
    "98045,\n",
    "98047,\n",
    "98050,\n",
    "98051,\n",
    "98052,\n",
    "98053,\n",
    "98054,\n",
    "98055,\n",
    "98056,\n",
    "98057,\n",
    "98058,\n",
    "98059,\n",
    "98062,\n",
    "98063,\n",
    "98064,\n",
    "98065,\n",
    "98070,\n",
    "98071,\n",
    "98072,\n",
    "98073,\n",
    "98074,\n",
    "98075,\n",
    "98077,\n",
    "98083,\n",
    "98089,\n",
    "98092,\n",
    "98093,\n",
    "98101,\n",
    "98102,\n",
    "98103,\n",
    "98104,\n",
    "98105,\n",
    "98106,\n",
    "98107,\n",
    "98108,\n",
    "98109,\n",
    "98111,\n",
    "98112,\n",
    "98113,\n",
    "98114,\n",
    "98115,\n",
    "98116,\n",
    "98117,\n",
    "98118,\n",
    "98119,\n",
    "98121,\n",
    "98122,\n",
    "98124,\n",
    "98125,\n",
    "98126,\n",
    "98127,\n",
    "98129,\n",
    "98131,\n",
    "98132,\n",
    "98133,\n",
    "98134,\n",
    "98136,\n",
    "98138,\n",
    "98139,\n",
    "98141,\n",
    "98144,\n",
    "98145,\n",
    "98146,\n",
    "98148,\n",
    "98151,\n",
    "98154,\n",
    "98155,\n",
    "98158,\n",
    "98160,\n",
    "98161,\n",
    "98164,\n",
    "98165,\n",
    "98166,\n",
    "98168,\n",
    "98170,\n",
    "98171,\n",
    "98174,\n",
    "98175,\n",
    "98177,\n",
    "98178,\n",
    "98181,\n",
    "98184,\n",
    "98185,\n",
    "98188,\n",
    "98190,\n",
    "98191,\n",
    "98194,\n",
    "98195,\n",
    "98198,\n",
    "98199,\n",
    "98224,\n",
    "98288]"
   ]
  },
  {
   "cell_type": "code",
   "execution_count": 17,
   "metadata": {},
   "outputs": [],
   "source": [
    "data_kc = data[data['zip_code'].isin(kc_zips)]"
   ]
  },
  {
   "cell_type": "code",
   "execution_count": 20,
   "metadata": {},
   "outputs": [],
   "source": [
    "def geo_distance(coord_a, coord_b):\n",
    "    #take two coordinates and calculate distances in miles\n",
    "    \n",
    "    return geodesic(coord_a, coord_b).miles"
   ]
  },
  {
   "cell_type": "code",
   "execution_count": 21,
   "metadata": {},
   "outputs": [],
   "source": [
    "amazing_coord = (47.615722, -122.339494)"
   ]
  },
  {
   "cell_type": "code",
   "execution_count": 22,
   "metadata": {},
   "outputs": [],
   "source": [
    "data_kc['location'] = list(zip(data_kc.lat, data_kc.long))"
   ]
  },
  {
   "cell_type": "code",
   "execution_count": 23,
   "metadata": {},
   "outputs": [],
   "source": [
    "data_kc['distance_to_amazon'] = data_kc['location'].apply(lambda x: geodesic(x, amazing_coord).miles)"
   ]
  },
  {
   "cell_type": "code",
   "execution_count": 24,
   "metadata": {},
   "outputs": [],
   "source": [
    "data_near_amzn = data_kc[data_kc['distance_to_amazon'] <= 3]"
   ]
  },
  {
   "cell_type": "code",
   "execution_count": 25,
   "metadata": {},
   "outputs": [],
   "source": [
    "data_near_amzn_filt = data_near_amzn[data_near_amzn['price'] < 10000000]"
   ]
  },
  {
   "cell_type": "code",
   "execution_count": 27,
   "metadata": {},
   "outputs": [],
   "source": [
    "#data_near_amzn_filt.columns"
   ]
  },
  {
   "cell_type": "markdown",
   "metadata": {},
   "source": [
    "fig, ax = plt.subplots(figsize = (12,8))\n",
    "\n",
    "sqft = data_near_amzn_filt['sqft_living']\n",
    "price = data_near_amzn_filt['price']\n",
    "bedrooms = data_near_amzn_filt['bedrooms']\n",
    "nuisance = data_near_amzn_filt['nuisance']\n",
    "dist = data_near_amzn_filt['distance_to_amazon']\n",
    "greenbelt = data_near_amzn_filt['greenbelt']\n",
    "bathrooms = data_near_amzn_filt['bathrooms']\n",
    "\n",
    "\n",
    "sns.scatterplot(x = sqft, y = price, hue = bedrooms, hue_norm=(0, 5), size = bathrooms, ax=ax, sizes=(10, 150), legend=\"full\");\n",
    "\n"
   ]
  },
  {
   "cell_type": "code",
   "execution_count": null,
   "metadata": {},
   "outputs": [],
   "source": []
  },
  {
   "cell_type": "markdown",
   "metadata": {},
   "source": [
    "fig, ax = plt.subplots(figsize=(12,10)) \n",
    "ax = sns.heatmap(data_kc[['price', 'bedrooms', 'bathrooms', 'sqft_living',\n",
    "       'sqft_lot', 'sqft_above',\n",
    "       'sqft_basement', 'sqft_garage', 'sqft_patio', 'floors', 'waterfront', 'greenbelt', 'nuisance', 'view',\n",
    "       'condition', 'grade', 'heat_source', 'sewer_system', 'yr_built',\n",
    "       'yr_renovated', 'zip_code']].corr(), annot=True, linewidths=.3)\n"
   ]
  },
  {
   "cell_type": "code",
   "execution_count": null,
   "metadata": {},
   "outputs": [],
   "source": []
  },
  {
   "cell_type": "code",
   "execution_count": 30,
   "metadata": {},
   "outputs": [],
   "source": [
    "#X = data_kc[['sqft_lot' ,'sqft_living', 'floors']]\n",
    "#y = data_kc['price']"
   ]
  },
  {
   "cell_type": "code",
   "execution_count": 31,
   "metadata": {},
   "outputs": [],
   "source": [
    "#X_train, X_test, y_train, y_test = train_test_split(X, y, test_size = 0.3)"
   ]
  },
  {
   "cell_type": "code",
   "execution_count": 32,
   "metadata": {},
   "outputs": [],
   "source": [
    "#ss = StandardScaler()"
   ]
  },
  {
   "cell_type": "code",
   "execution_count": 33,
   "metadata": {},
   "outputs": [],
   "source": [
    "#ss.fit(X_train)\n"
   ]
  },
  {
   "cell_type": "code",
   "execution_count": 34,
   "metadata": {},
   "outputs": [],
   "source": [
    "#X_standardized_train = ss.transform(X_train)"
   ]
  },
  {
   "cell_type": "code",
   "execution_count": 35,
   "metadata": {},
   "outputs": [],
   "source": [
    "#X_standardized_test = ss.transform(X_test)"
   ]
  },
  {
   "cell_type": "code",
   "execution_count": 36,
   "metadata": {},
   "outputs": [],
   "source": [
    "#lr_raw = LinearRegression()\n",
    "#lr_raw.fit(X_standardized_train, y_train)\n",
    "\n",
    "#lr_raw.score(X_standardized_train, y_train)"
   ]
  },
  {
   "cell_type": "code",
   "execution_count": 37,
   "metadata": {},
   "outputs": [],
   "source": [
    "#lr_raw.score(X_standardized_test, y_test)"
   ]
  },
  {
   "cell_type": "code",
   "execution_count": 38,
   "metadata": {},
   "outputs": [],
   "source": [
    "#pd.Series(lr_raw.coef_,\n",
    "#          index = X.columns) "
   ]
  },
  {
   "cell_type": "code",
   "execution_count": 39,
   "metadata": {},
   "outputs": [],
   "source": [
    "#y_pred = lr_raw.predict(X_standardized_test)\n",
    "#mean_absolute_error(y_pred, y_test)"
   ]
  },
  {
   "cell_type": "code",
   "execution_count": 40,
   "metadata": {},
   "outputs": [],
   "source": [
    "#new_kcdf = pd.concat([data_kc.reset_index().drop(columns = ['grade', 'condition', 'view']), ord_df],1)"
   ]
  },
  {
   "cell_type": "code",
   "execution_count": 48,
   "metadata": {},
   "outputs": [],
   "source": [
    "#o_enc = OrdinalEncoder(categories = [grade_list, cond_list, view_list])\n",
    "#ord_df =pd.DataFrame(o_enc.fit_transform(closekcdf[['grade', 'condition', 'view']]), columns = closekcdf[['grade', 'condition', 'view']].columns)"
   ]
  },
  {
   "cell_type": "code",
   "execution_count": 49,
   "metadata": {},
   "outputs": [],
   "source": [
    "#onehot_enc = OneHotEncoder(sparse = True, handle_unknown = 'ignore')"
   ]
  },
  {
   "cell_type": "code",
   "execution_count": 50,
   "metadata": {},
   "outputs": [],
   "source": [
    "#nominal_cols = ['waterfront', 'greenbelt', 'heat_source', 'sewer_system','zip_code']"
   ]
  },
  {
   "cell_type": "code",
   "execution_count": 51,
   "metadata": {},
   "outputs": [],
   "source": [
    "#ohe_df =onehot_enc.fit_transform(new_kcdf[nominal_cols])"
   ]
  },
  {
   "cell_type": "code",
   "execution_count": 52,
   "metadata": {},
   "outputs": [],
   "source": [
    "#nominal_df = pd.DataFrame(ohe_df.toarray(),columns = onehot_enc.get_feature_names())"
   ]
  },
  {
   "cell_type": "code",
   "execution_count": 53,
   "metadata": {},
   "outputs": [],
   "source": [
    "#cleandf = pd.concat([new_kcdf.drop(columns = ['waterfront', 'greenbelt', 'heat_source', 'sewer_system', 'zip_code']), nominal_df],1)"
   ]
  },
  {
   "cell_type": "code",
   "execution_count": 54,
   "metadata": {},
   "outputs": [],
   "source": [
    "amazing_coord = (47.615722, -122.339494)"
   ]
  },
  {
   "cell_type": "code",
   "execution_count": 55,
   "metadata": {},
   "outputs": [],
   "source": [
    "#data['location'] = list(zip(data.lat, data_focused.long))"
   ]
  },
  {
   "cell_type": "code",
   "execution_count": 56,
   "metadata": {},
   "outputs": [],
   "source": [
    "#data_focused['distance_to_amazon'] = data_focused['location'].apply(lambda x: geodesic(x, amazing_coord).miles)"
   ]
  },
  {
   "cell_type": "code",
   "execution_count": 57,
   "metadata": {},
   "outputs": [],
   "source": [
    "def geo_distance(coord_a, coord_b):\n",
    "    #take two coordinates and calculate distances in miles\n",
    "    \n",
    "    return geodesic(coord_a, coord_b).miles"
   ]
  },
  {
   "cell_type": "code",
   "execution_count": null,
   "metadata": {},
   "outputs": [],
   "source": []
  },
  {
   "cell_type": "code",
   "execution_count": 58,
   "metadata": {},
   "outputs": [],
   "source": [
    "#X_train, X_test, y_train, y_test = train_test_split(data_focused['grade_num'], data_focused['price'], test_size = 0.3)\n",
    "\n",
    "#lr_simple = LinearRegression()\n"
   ]
  },
  {
   "cell_type": "code",
   "execution_count": 59,
   "metadata": {},
   "outputs": [],
   "source": [
    "#lr_simple.fit(X_train.values.reshape(-1,1), y_train)"
   ]
  },
  {
   "cell_type": "code",
   "execution_count": 60,
   "metadata": {},
   "outputs": [],
   "source": [
    "#lr_simple.score(X_train.values.reshape(-1,1),\n",
    "              #  y_train)"
   ]
  },
  {
   "cell_type": "code",
   "execution_count": 61,
   "metadata": {},
   "outputs": [],
   "source": [
    "#y_pred = lr_simple.predict(X_test.values.reshape(-1,1))\n",
    "#mean_absolute_error(y_pred, y_test)"
   ]
  },
  {
   "cell_type": "code",
   "execution_count": 62,
   "metadata": {},
   "outputs": [],
   "source": [
    "data_kc = data_kc.drop(columns = ['township',  'date'])"
   ]
  },
  {
   "cell_type": "markdown",
   "metadata": {},
   "source": [
    "### MODELING"
   ]
  },
  {
   "cell_type": "markdown",
   "metadata": {},
   "source": [
    "grade_list = ['2 Substandard','3 Poor','4 Low','5 Fair','6 Low Average', '7 Average', '8 Good', '9 Better', '10 Very Good', '11 Excellent','12 Luxury','13 Mansion']\n",
    "cond_list = ['Poor', 'Fair', 'Average', 'Good', 'Very Good']\n",
    "view_list = ['NONE', 'FAIR', 'AVERAGE', 'GOOD', 'EXCELLENT']"
   ]
  },
  {
   "cell_type": "markdown",
   "metadata": {},
   "source": [
    "o_enc = OrdinalEncoder(categories = [grade_list, cond_list, view_list])\n",
    "ord_df =pd.DataFrame(o_enc.fit_transform(data_kc[\n",
    "    ['grade', 'condition', 'view']]), columns = data_kc[['grade', 'condition', 'view']].columns)"
   ]
  },
  {
   "cell_type": "markdown",
   "metadata": {},
   "source": [
    "new_kcdf = pd.concat([data_kc.reset_index().drop(columns = ['grade', 'condition', 'view']), ord_df],1)"
   ]
  },
  {
   "cell_type": "markdown",
   "metadata": {},
   "source": [
    "onehot_enc = OneHotEncoder(sparse = True, handle_unknown = 'ignore')"
   ]
  },
  {
   "cell_type": "markdown",
   "metadata": {},
   "source": [
    "nominal_cols = ['waterfront', 'greenbelt', 'heat_source', 'sewer_system','zip_code', 'nuisance']"
   ]
  },
  {
   "cell_type": "markdown",
   "metadata": {},
   "source": [
    "ohe_df =onehot_enc.fit_transform(new_kcdf[nominal_cols])"
   ]
  },
  {
   "cell_type": "markdown",
   "metadata": {},
   "source": [
    "nominal_df = pd.DataFrame(ohe_df.toarray(),columns = onehot_enc.get_feature_names_out())"
   ]
  },
  {
   "cell_type": "markdown",
   "metadata": {},
   "source": [
    "cleandf = pd.concat([new_kcdf.drop(columns = \n",
    "    ['waterfront', 'greenbelt', 'heat_source', 'sewer_system', 'zip_code', 'nuisance']), nominal_df],1)"
   ]
  },
  {
   "cell_type": "markdown",
   "metadata": {},
   "source": [
    "lr = LinearRegression()"
   ]
  },
  {
   "cell_type": "markdown",
   "metadata": {},
   "source": [
    "col_select = cleandf.drop(columns = ['price', 'index', 'address','sqft_garage', 'location']).columns\n",
    "X = cleandf[col_select]\n",
    "y = cleandf['price']\n",
    "X_train, X_test, y_train, y_test = train_test_split(X, y, test_size=0.3)"
   ]
  },
  {
   "cell_type": "markdown",
   "metadata": {
    "scrolled": true
   },
   "source": [
    "lr.fit(X_train, y_train)"
   ]
  },
  {
   "cell_type": "markdown",
   "metadata": {},
   "source": [
    "lr.score(X_train, y_train)"
   ]
  },
  {
   "cell_type": "markdown",
   "metadata": {},
   "source": [
    "y_pred = lr.predict(X_test)\n"
   ]
  },
  {
   "cell_type": "markdown",
   "metadata": {},
   "source": [
    "MAE = mean_absolute_error(y_pred, y_test)\n"
   ]
  },
  {
   "cell_type": "markdown",
   "metadata": {},
   "source": [
    "ss = StandardScaler()"
   ]
  },
  {
   "cell_type": "markdown",
   "metadata": {},
   "source": [
    "ss.fit(X_train)"
   ]
  },
  {
   "cell_type": "markdown",
   "metadata": {},
   "source": [
    "X_standardized_train = ss.fit_transform(X_train)"
   ]
  },
  {
   "cell_type": "markdown",
   "metadata": {},
   "source": [
    "X_standardized_test = ss.transform(X_test)"
   ]
  },
  {
   "cell_type": "markdown",
   "metadata": {},
   "source": [
    "lr.fit(X_standardized_train, y_train)\n",
    "\n",
    "lr.score(X_standardized_train, y_train)"
   ]
  },
  {
   "cell_type": "markdown",
   "metadata": {},
   "source": [
    "lr.score(X_standardized_test, y_test)"
   ]
  },
  {
   "cell_type": "markdown",
   "metadata": {},
   "source": [
    "mae = mean_absolute_error(y_pred, y_test)"
   ]
  },
  {
   "cell_type": "markdown",
   "metadata": {},
   "source": [
    " results.summary()"
   ]
  },
  {
   "cell_type": "markdown",
   "metadata": {},
   "source": [
    "ss_preds = lr.predict(X_standardized_test)"
   ]
  },
  {
   "cell_type": "markdown",
   "metadata": {},
   "source": [
    "#ss_preds"
   ]
  },
  {
   "cell_type": "markdown",
   "metadata": {},
   "source": [
    "#model_predict_rounded = [round(model_full_predict[x], 1) for x in range(len(model_full_predict))]"
   ]
  },
  {
   "cell_type": "code",
   "execution_count": null,
   "metadata": {},
   "outputs": [],
   "source": [
    "#data_kc['model_predict'] = model_predict_rounded"
   ]
  },
  {
   "cell_type": "code",
   "execution_count": null,
   "metadata": {},
   "outputs": [],
   "source": [
    "#data_kc['mean_sq_er'] = (data_kc['price'] - data_kc['model_predict'])**2"
   ]
  },
  {
   "cell_type": "markdown",
   "metadata": {},
   "source": [
    "#### *Playing with Pickles*"
   ]
  },
  {
   "cell_type": "code",
   "execution_count": 97,
   "metadata": {},
   "outputs": [],
   "source": [
    "import pickle"
   ]
  },
  {
   "cell_type": "markdown",
   "metadata": {},
   "source": [
    "pickle.dump(lr, open('model_pickle.pkl','wb'))\n"
   ]
  },
  {
   "cell_type": "code",
   "execution_count": 99,
   "metadata": {},
   "outputs": [],
   "source": [
    "model = pickle.load(open('model_pickle.pkl','rb'))"
   ]
  },
  {
   "cell_type": "markdown",
   "metadata": {},
   "source": [
    "### Interactive Prediction with Streamlit"
   ]
  },
  {
   "cell_type": "code",
   "execution_count": null,
   "metadata": {},
   "outputs": [],
   "source": [
    "import streamlit as st"
   ]
  },
  {
   "cell_type": "code",
   "execution_count": null,
   "metadata": {},
   "outputs": [],
   "source": [
    "#st.write(\"Hello ,let's learn how to build a streamlit app together\")\n",
    "#@st.cache(suppress_st_warning=True)\n",
    "\n",
    "#df = pd.DataFrame(np.random.randn(500, 2) / [50, 50] + [37.76, -122.4],columns=['lat', 'lon'])\n",
    "#st.map(df)\n",
    "\n",
    "st.title(\"Kings County Housing Dashboard\")\n",
    "\n",
    "st.header(\"Interactive Housing Predictive Model Widget\")\n",
    "\n",
    "st.subheader(\"Map of Kings County, WA Housing Data\")\n",
    "\n",
    "#st.map(coords)\n",
    "#st.markdown(\"this is the header\")\n",
    "#st.caption(\"this is the caption\")\n",
    "#st.code(\"x=2021\")\n",
    "#st.latex(r''' a+a r^1+a r^2+a r^3 ''')\n",
    "\n",
    "#st.checkbox('yes')\n",
    "\n",
    "#st.button('Click')\n",
    "\n",
    "#st.radio('Pick your gender',['Male','Female'])\n",
    "\n",
    "#st.bedrooms = st.multiselect('Select Number of Bedrooms:',[0, 1, 2, 3, 4, 5, 6, 7, 8, 9, 10, 11, 13])\n",
    "\n",
    "#st.select_slider('Pick a mark', ['Bad', 'Good', 'Excellent'])\n",
    "\n",
    "#st.slider('Pick a number', 0,50)"
   ]
  },
  {
   "cell_type": "code",
   "execution_count": null,
   "metadata": {},
   "outputs": [],
   "source": []
  },
  {
   "cell_type": "code",
   "execution_count": null,
   "metadata": {},
   "outputs": [],
   "source": [
    "#coords = data_kc[['lat', 'long']].rename(columns = {'long':'lon'})\n",
    "#st.map(coords)"
   ]
  },
  {
   "cell_type": "code",
   "execution_count": null,
   "metadata": {},
   "outputs": [],
   "source": [
    "beds = st.selectbox('Select Number of Bedrooms:',[0, 1, 2, 3, 4, 5, 6, 7, 8, 9, 10, 11, 13])\n"
   ]
  },
  {
   "cell_type": "code",
   "execution_count": 114,
   "metadata": {},
   "outputs": [],
   "source": [
    "sqft_living = sorted(data_kc['sqft_living'].unique())"
   ]
  },
  {
   "cell_type": "code",
   "execution_count": null,
   "metadata": {},
   "outputs": [],
   "source": [
    "living_sqft = st.select_slider('Select a Living Square Footage of the House', sqft_living)"
   ]
  },
  {
   "cell_type": "code",
   "execution_count": null,
   "metadata": {},
   "outputs": [],
   "source": [
    "zip_code = st.select_slider('Select a Zip Code',kc_zips)   "
   ]
  },
  {
   "cell_type": "code",
   "execution_count": null,
   "metadata": {},
   "outputs": [],
   "source": []
  },
  {
   "cell_type": "code",
   "execution_count": null,
   "metadata": {},
   "outputs": [],
   "source": []
  },
  {
   "cell_type": "code",
   "execution_count": null,
   "metadata": {},
   "outputs": [],
   "source": [
    "''''\n",
    "elif app_mode == 'Prediction':    st.image('slider-short-3.jpg')    \n",
    "    st.subheader('to get a reply to your loan request !')   \n",
    "    st.sidebar.header(\"Informations about the client :\")   \n",
    "    gender_dict = {\"Male\":1,\"Female\":2}    \n",
    "    feature_dict = {\"No\":1,\"Yes\":2}   \n",
    "    edu={'Graduate':1,'Not Graduate':2}   \n",
    "    prop={'Rural':1,'Urban':2,'Semiurban':3}   \n",
    "    ApplicantIncome=st.sidebar.slider('ApplicantIncome',0,10000,0,)    \n",
    "    CoapplicantIncome=st.sidebar.slider('CoapplicantIncome',0,10000,0,)    \n",
    "    LoanAmount=st.sidebar.slider('LoanAmount in K$',9.0,700.0,200.0)   \n",
    "    Loan_Amount_Term=st.sidebar.selectbox('Loan_Amount_Term',(12.0,36.0,60.0,84.0,120.0,180.0,240.0,300.0,360.0))   \n",
    "    Credit_History=st.sidebar.radio('Credit_History',(0.0,1.0))   \n",
    "    Gender=st.sidebar.radio('Gender',tuple(gender_dict.keys()))   \n",
    "    Married=st.sidebar.radio('Married',tuple(feature_dict.keys()))   \n",
    "    Self_Employed=st.sidebar.radio('Self Employed',tuple(feature_dict.keys()))   \n",
    "    Dependents=st.sidebar.radio('Dependents',options=['0','1' , '2' , '3+'])   \n",
    "    Education=st.sidebar.radio('Education',tuple(edu.keys()))   \n",
    "    Property_Area=st.sidebar.radio('Property_Area',tuple(prop.keys()))   \n",
    "    class_0 , class_3 , class_1,class_2 = 0,0,0,0    if Dependents == '0':        class_0 = 1   \n",
    "        elif Dependents == '1':        class_1 = 1    \n",
    "            elif Dependents == '2' :        class_2 = 1   \n",
    "                else:        class_3= 1    \n",
    "                    Rural,Urban,Semiurban=0,0,0    if Property_Area == 'Urban' :        Urban = 1    \n",
    "                        elif Property_Area == 'Semiurban' :        Semiurban = 1    else :        Rural=1\n",
    "                    '''"
   ]
  },
  {
   "cell_type": "code",
   "execution_count": null,
   "metadata": {},
   "outputs": [],
   "source": [
    "#if app_mode=='Home':    st.title('LOAN PREDICTION :')      \n",
    "#    st.image('loan_image.jpg')    st.markdown('Dataset :')      st.write(data.head())    st.markdown('Applicant Income VS Loan Amount ')    st.bar_chart(data[['ApplicantIncome','LoanAmount']].head(20))"
   ]
  },
  {
   "cell_type": "code",
   "execution_count": null,
   "metadata": {},
   "outputs": [],
   "source": []
  },
  {
   "cell_type": "code",
   "execution_count": 118,
   "metadata": {},
   "outputs": [],
   "source": [
    "#sorted(data_kc['bathrooms'].unique())"
   ]
  },
  {
   "cell_type": "markdown",
   "metadata": {},
   "source": [
    "### Listing Out all Columns in our Model\n"
   ]
  },
  {
   "cell_type": "markdown",
   "metadata": {},
   "source": [
    "#### Not sure about:"
   ]
  },
  {
   "cell_type": "code",
   "execution_count": 126,
   "metadata": {},
   "outputs": [
    {
     "data": {
      "text/plain": [
       "['bathrooms',\n",
       " 'bedrooms',\n",
       " 'condition',\n",
       " 'distance_to_amazon',\n",
       " 'floors',\n",
       " 'grade',\n",
       " 'greenbelt_NO',\n",
       " 'greenbelt_YES',\n",
       " 'heat_source_Electricity',\n",
       " 'heat_source_Electricity/Solar',\n",
       " 'heat_source_Gas',\n",
       " 'heat_source_Gas/Solar',\n",
       " 'heat_source_Oil',\n",
       " 'heat_source_Oil/Solar',\n",
       " 'heat_source_Other',\n",
       " 'id',\n",
       " 'lat',\n",
       " 'long',\n",
       " 'nuisance_NO',\n",
       " 'nuisance_YES',\n",
       " 'sewer_system_PRIVATE',\n",
       " 'sewer_system_PRIVATE RESTRICTED',\n",
       " 'sewer_system_PUBLIC',\n",
       " 'sewer_system_PUBLIC RESTRICTED',\n",
       " 'sqft_above',\n",
       " 'sqft_basement',\n",
       " 'sqft_living',\n",
       " 'sqft_lot',\n",
       " 'sqft_patio',\n",
       " 'view',\n",
       " 'waterfront_NO',\n",
       " 'waterfront_YES',\n",
       " 'yr_built',\n",
       " 'yr_renovated',\n",
       " 'zip_code_98001',\n",
       " 'zip_code_98002',\n",
       " 'zip_code_98003',\n",
       " 'zip_code_98004',\n",
       " 'zip_code_98005',\n",
       " 'zip_code_98006',\n",
       " 'zip_code_98007',\n",
       " 'zip_code_98008',\n",
       " 'zip_code_98010',\n",
       " 'zip_code_98011',\n",
       " 'zip_code_98014',\n",
       " 'zip_code_98019',\n",
       " 'zip_code_98022',\n",
       " 'zip_code_98023',\n",
       " 'zip_code_98024',\n",
       " 'zip_code_98027',\n",
       " 'zip_code_98028',\n",
       " 'zip_code_98029',\n",
       " 'zip_code_98030',\n",
       " 'zip_code_98031',\n",
       " 'zip_code_98032',\n",
       " 'zip_code_98033',\n",
       " 'zip_code_98034',\n",
       " 'zip_code_98038',\n",
       " 'zip_code_98039',\n",
       " 'zip_code_98040',\n",
       " 'zip_code_98042',\n",
       " 'zip_code_98045',\n",
       " 'zip_code_98047',\n",
       " 'zip_code_98050',\n",
       " 'zip_code_98051',\n",
       " 'zip_code_98052',\n",
       " 'zip_code_98053',\n",
       " 'zip_code_98055',\n",
       " 'zip_code_98056',\n",
       " 'zip_code_98057',\n",
       " 'zip_code_98058',\n",
       " 'zip_code_98059',\n",
       " 'zip_code_98065',\n",
       " 'zip_code_98070',\n",
       " 'zip_code_98072',\n",
       " 'zip_code_98074',\n",
       " 'zip_code_98075',\n",
       " 'zip_code_98077',\n",
       " 'zip_code_98092',\n",
       " 'zip_code_98102',\n",
       " 'zip_code_98103',\n",
       " 'zip_code_98105',\n",
       " 'zip_code_98106',\n",
       " 'zip_code_98107',\n",
       " 'zip_code_98108',\n",
       " 'zip_code_98109',\n",
       " 'zip_code_98112',\n",
       " 'zip_code_98115',\n",
       " 'zip_code_98116',\n",
       " 'zip_code_98117',\n",
       " 'zip_code_98118',\n",
       " 'zip_code_98119',\n",
       " 'zip_code_98122',\n",
       " 'zip_code_98125',\n",
       " 'zip_code_98126',\n",
       " 'zip_code_98133',\n",
       " 'zip_code_98136',\n",
       " 'zip_code_98144',\n",
       " 'zip_code_98146',\n",
       " 'zip_code_98148',\n",
       " 'zip_code_98155',\n",
       " 'zip_code_98166',\n",
       " 'zip_code_98168',\n",
       " 'zip_code_98177',\n",
       " 'zip_code_98178',\n",
       " 'zip_code_98188',\n",
       " 'zip_code_98198',\n",
       " 'zip_code_98199',\n",
       " 'zip_code_98224',\n",
       " 'zip_code_98288']"
      ]
     },
     "execution_count": 126,
     "metadata": {},
     "output_type": "execute_result"
    }
   ],
   "source": [
    "sorted(X_train.columns)"
   ]
  },
  {
   "cell_type": "code",
   "execution_count": null,
   "metadata": {},
   "outputs": [],
   "source": []
  },
  {
   "cell_type": "code",
   "execution_count": null,
   "metadata": {},
   "outputs": [],
   "source": [
    "#Daniel's model columns\n",
    "['index',\n",
    " 'id',\n",
    " 'price',\n",
    " 'bedrooms',\n",
    " 'bathrooms',\n",
    " 'sqft_living',\n",
    " 'sqft_lot',\n",
    " 'floors',\n",
    " 'sqft_above',\n",
    " 'sqft_basement',\n",
    " 'sqft_garage',\n",
    " 'sqft_patio',\n",
    " 'yr_built',\n",
    " 'yr_renovated',\n",
    " 'address',\n",
    " 'lat',\n",
    " 'long',\n",
    " 'location',\n",
    " 'distance_to_amazon',\n",
    " 'grade',\n",
    " 'condition',\n",
    " 'view',\n",
    " 'waterfront_NO',\n",
    " 'waterfront_YES',\n",
    " 'greenbelt_NO',\n",
    " 'greenbelt_YES',\n",
    " 'heat_source_Electricity',\n",
    " 'heat_source_Electricity/Solar',\n",
    " 'heat_source_Gas',\n",
    " 'heat_source_Gas/Solar',\n",
    " 'heat_source_Oil',\n",
    " 'heat_source_Oil/Solar',\n",
    " 'heat_source_Other',\n",
    " 'sewer_system_PRIVATE',\n",
    " 'sewer_system_PRIVATE RESTRICTED',\n",
    " 'sewer_system_PUBLIC',\n",
    " 'sewer_system_PUBLIC RESTRICTED',\n",
    " 'zip_code_98001',\n",
    " 'zip_code_98002',\n",
    " 'zip_code_98003',\n",
    " 'zip_code_98004',\n",
    " 'zip_code_98005',\n",
    " 'zip_code_98006',\n",
    " 'zip_code_98007',\n",
    " 'zip_code_98008',\n",
    " 'zip_code_98010',\n",
    " 'zip_code_98011',\n",
    " 'zip_code_98014',\n",
    " 'zip_code_98019',\n",
    " 'zip_code_98022',\n",
    " 'zip_code_98023',\n",
    " 'zip_code_98024',\n",
    " 'zip_code_98027',\n",
    " 'zip_code_98028',\n",
    " 'zip_code_98029',\n",
    " 'zip_code_98030',\n",
    " 'zip_code_98031',\n",
    " 'zip_code_98032',\n",
    " 'zip_code_98033',\n",
    " 'zip_code_98034',\n",
    " 'zip_code_98038',\n",
    " 'zip_code_98039',\n",
    " 'zip_code_98040',\n",
    " 'zip_code_98042',\n",
    " 'zip_code_98045',\n",
    " 'zip_code_98047',\n",
    " 'zip_code_98050',\n",
    " 'zip_code_98051',\n",
    " 'zip_code_98052',\n",
    " 'zip_code_98053',\n",
    " 'zip_code_98055',\n",
    " 'zip_code_98056',\n",
    " 'zip_code_98057',\n",
    " 'zip_code_98058',\n",
    " 'zip_code_98059',\n",
    " 'zip_code_98065',\n",
    " 'zip_code_98070',\n",
    " 'zip_code_98072',\n",
    " 'zip_code_98074',\n",
    " 'zip_code_98075',\n",
    " 'zip_code_98077',\n",
    " 'zip_code_98092',\n",
    " 'zip_code_98102',\n",
    " 'zip_code_98103',\n",
    " 'zip_code_98105',\n",
    " 'zip_code_98106',\n",
    " 'zip_code_98107',\n",
    " 'zip_code_98108',\n",
    " 'zip_code_98109',\n",
    " 'zip_code_98112',\n",
    " 'zip_code_98115',\n",
    " 'zip_code_98116',\n",
    " 'zip_code_98117',\n",
    " 'zip_code_98118',\n",
    " 'zip_code_98119',\n",
    " 'zip_code_98122',\n",
    " 'zip_code_98125',\n",
    " 'zip_code_98126',\n",
    " 'zip_code_98133',\n",
    " 'zip_code_98136',\n",
    " 'zip_code_98144',\n",
    " 'zip_code_98146',\n",
    " 'zip_code_98148',\n",
    " 'zip_code_98155',\n",
    " 'zip_code_98166',\n",
    " 'zip_code_98168',\n",
    " 'zip_code_98177',\n",
    " 'zip_code_98178',\n",
    " 'zip_code_98188',\n",
    " 'zip_code_98198',\n",
    " 'zip_code_98199',\n",
    " 'zip_code_98224',\n",
    " 'zip_code_98288',\n",
    " 'nuisance_NO',\n",
    " 'nuisance_YES']"
   ]
  },
  {
   "cell_type": "code",
   "execution_count": null,
   "metadata": {},
   "outputs": [],
   "source": [
    " 'id',\n",
    " 'lat',\n",
    " 'long',\n",
    ", 'distance_to_amazon'"
   ]
  },
  {
   "cell_type": "code",
   "execution_count": null,
   "metadata": {},
   "outputs": [],
   "source": [
    "bedrooms"
   ]
  },
  {
   "cell_type": "code",
   "execution_count": null,
   "metadata": {},
   "outputs": [],
   "source": [
    "bathrooms "
   ]
  },
  {
   "cell_type": "code",
   "execution_count": null,
   "metadata": {},
   "outputs": [],
   "source": [
    "condition\n",
    "''''\n",
    "['Average', 'Fair', 'Good', 'Poor', 'Very Good']\n",
    "\n",
    "[0.0, 1.0, 2.0, 3.0, 4.0]\n",
    "\n",
    "Average      17570\n",
    "Good          8040\n",
    "Very Good     3255\n",
    "Fair           223\n",
    "Poor            61"
   ]
  },
  {
   "cell_type": "code",
   "execution_count": null,
   "metadata": {},
   "outputs": [],
   "source": [
    "grade\n",
    "''''\n",
    "['2 Substandard',\n",
    " '3 Poor',\n",
    " '4 Low',\n",
    " '5 Fair',\n",
    " '6 Low Average',\n",
    " '7 Average',\n",
    " '8 Good',\n",
    " '9 Better',\n",
    " '10 Very Good',\n",
    " '11 Excellent',\n",
    " '12 Luxury',\n",
    " '13 Mansion']\n",
    "\n",
    "[0.0, 1.0, 2.0, 3.0, 4.0, 5.0, 6.0, 7.0, 8.0, 9.0, 10.0, 11.0]\n",
    "\n",
    "7 Average        11533\n",
    "8 Good            8847\n",
    "9 Better          3589\n",
    "6 Low Average     2844\n",
    "10 Very Good      1347\n",
    "11 Excellent       402\n",
    "5 Fair             385\n",
    "12 Luxury          122\n",
    "4 Low               46\n",
    "13 Mansion          24\n",
    "3 Poor               9\n",
    "2 Substandard        1"
   ]
  },
  {
   "cell_type": "code",
   "execution_count": null,
   "metadata": {},
   "outputs": [],
   "source": [
    "floors\n",
    "''''\n",
    "\n",
    "[1.0, 1.5, 2.0, 2.5, 3.0, 3.5, 4.0]\n",
    "\n",
    "1.0    13919\n",
    "2.0    11688\n",
    "1.5     2426\n",
    "3.0      875\n",
    "2.5      207\n",
    "4.0       26\n",
    "3.5        8"
   ]
  },
  {
   "cell_type": "code",
   "execution_count": null,
   "metadata": {},
   "outputs": [],
   "source": [
    "SIZE\n",
    " 'sqft_above',\n",
    " 'sqft_basement',\n",
    " 'sqft_living',\n",
    " 'sqft_lot',\n",
    " 'sqft_patio',\n"
   ]
  },
  {
   "cell_type": "code",
   "execution_count": null,
   "metadata": {},
   "outputs": [],
   "source": [
    "built in 'yr_built',\n",
    "renovated in 'yr_renovated',\n"
   ]
  },
  {
   "cell_type": "code",
   "execution_count": null,
   "metadata": {},
   "outputs": [],
   "source": [
    "greenbelt : YES / NO\n",
    "     'greenbelt_NO',\n",
    " 'greenbelt_YES',\n",
    "\n",
    "[YES, NO]\n",
    "\n",
    "NO     28380\n",
    "YES      769"
   ]
  },
  {
   "cell_type": "code",
   "execution_count": null,
   "metadata": {},
   "outputs": [],
   "source": [
    "nuisance: YES / NO\n",
    "     'nuisance_NO',\n",
    " 'nuisance_YES',\n",
    "\n",
    "[YES, NO]\n",
    "\n",
    "NO     24146\n",
    "YES     5003"
   ]
  },
  {
   "cell_type": "code",
   "execution_count": null,
   "metadata": {},
   "outputs": [],
   "source": []
  },
  {
   "cell_type": "code",
   "execution_count": null,
   "metadata": {},
   "outputs": [],
   "source": [
    "view\n",
    "\n",
    "['AVERAGE', 'EXCELLENT', 'FAIR', 'GOOD', 'NONE']\n",
    "\n",
    "[0.0, 1.0, 2.0, 3.0, 4.0]\n",
    "\n",
    "NONE         25628\n",
    "AVERAGE       1891\n",
    "GOOD           868\n",
    "EXCELLENT      547\n",
    "FAIR           215"
   ]
  },
  {
   "cell_type": "code",
   "execution_count": null,
   "metadata": {},
   "outputs": [],
   "source": [
    "waterfront YES / NO\n",
    "'waterfront_NO',\n",
    " 'waterfront_YES',\n",
    "\n",
    "NO     28641\n",
    "YES      508"
   ]
  },
  {
   "cell_type": "code",
   "execution_count": null,
   "metadata": {},
   "outputs": [],
   "source": [
    "heat source:  \n",
    "    ['Electricity',\n",
    " 'Electricity/Solar',\n",
    " 'Gas',\n",
    " 'Gas/Solar',\n",
    " 'Oil',\n",
    " 'Oil/Solar',\n",
    " 'Other']\n",
    "    \n",
    "'heat_source_Electricity',\n",
    " 'heat_source_Electricity/Solar',\n",
    " 'heat_source_Gas',\n",
    " 'heat_source_Gas/Solar',\n",
    " 'heat_source_Oil',\n",
    " 'heat_source_Oil/Solar',\n",
    " 'heat_source_Other',\n",
    "\n",
    "Gas                  20137\n",
    "Electricity           5940\n",
    "Oil                   2898\n",
    "Gas/Solar               93\n",
    "Electricity/Solar       57\n",
    "Other                   20\n",
    "Oil/Solar                4"
   ]
  },
  {
   "cell_type": "code",
   "execution_count": null,
   "metadata": {},
   "outputs": [],
   "source": [
    "sewer_system\n",
    "    \n",
    "['PRIVATE', 'PRIVATE RESTRICTED', 'PUBLIC', 'PUBLIC RESTRICTED']\n",
    "\n",
    "'sewer_system_PRIVATE',\n",
    " 'sewer_system_PRIVATE RESTRICTED',\n",
    " 'sewer_system_PUBLIC',\n",
    " 'sewer_system_PUBLIC RESTRICTED',\n",
    "\n",
    "PUBLIC                24817\n",
    "PRIVATE                4325\n",
    "PRIVATE RESTRICTED        5\n",
    "PUBLIC RESTRICTED         2"
   ]
  },
  {
   "cell_type": "code",
   "execution_count": null,
   "metadata": {},
   "outputs": [],
   "source": [
    "ZIPS\n",
    "'zip_code_98001',\n",
    " 'zip_code_98002',\n",
    " 'zip_code_98003',\n",
    " 'zip_code_98004',\n",
    " 'zip_code_98005',\n",
    " 'zip_code_98006',\n",
    " 'zip_code_98007',\n",
    " 'zip_code_98008',\n",
    " 'zip_code_98010',\n",
    " 'zip_code_98011',\n",
    " 'zip_code_98014',\n",
    " 'zip_code_98019',\n",
    " 'zip_code_98022',\n",
    " 'zip_code_98023',\n",
    " 'zip_code_98024',\n",
    " 'zip_code_98027',\n",
    " 'zip_code_98028',\n",
    " 'zip_code_98029',\n",
    " 'zip_code_98030',\n",
    " 'zip_code_98031',\n",
    " 'zip_code_98032',\n",
    " 'zip_code_98033',\n",
    " 'zip_code_98034',\n",
    " 'zip_code_98038',\n",
    " 'zip_code_98039',\n",
    " 'zip_code_98040',\n",
    " 'zip_code_98042',\n",
    " 'zip_code_98045',\n",
    " 'zip_code_98047',\n",
    " 'zip_code_98050',\n",
    " 'zip_code_98051',\n",
    " 'zip_code_98052',\n",
    " 'zip_code_98053',\n",
    " 'zip_code_98055',\n",
    " 'zip_code_98056',\n",
    " 'zip_code_98057',\n",
    " 'zip_code_98058',\n",
    " 'zip_code_98059',\n",
    " 'zip_code_98065',\n",
    " 'zip_code_98070',\n",
    " 'zip_code_98072',\n",
    " 'zip_code_98074',\n",
    " 'zip_code_98075',\n",
    " 'zip_code_98077',\n",
    " 'zip_code_98092',\n",
    " 'zip_code_98102',\n",
    " 'zip_code_98103',\n",
    " 'zip_code_98105',\n",
    " 'zip_code_98106',\n",
    " 'zip_code_98107',\n",
    " 'zip_code_98108',\n",
    " 'zip_code_98109',\n",
    " 'zip_code_98112',\n",
    " 'zip_code_98115',\n",
    " 'zip_code_98116',\n",
    " 'zip_code_98117',\n",
    " 'zip_code_98118',\n",
    " 'zip_code_98119',\n",
    " 'zip_code_98122',\n",
    " 'zip_code_98125',\n",
    " 'zip_code_98126',\n",
    " 'zip_code_98133',\n",
    " 'zip_code_98136',\n",
    " 'zip_code_98144',\n",
    " 'zip_code_98146',\n",
    " 'zip_code_98148',\n",
    " 'zip_code_98155',\n",
    " 'zip_code_98166',\n",
    " 'zip_code_98168',\n",
    " 'zip_code_98177',\n",
    " 'zip_code_98178',\n",
    " 'zip_code_98188',\n",
    " 'zip_code_98198',\n",
    " 'zip_code_98199',\n",
    " 'zip_code_98224',\n",
    " 'zip_code_98288']"
   ]
  }
 ],
 "metadata": {
  "kernelspec": {
   "display_name": "Python (Number41)",
   "language": "python",
   "name": "number41"
  },
  "language_info": {
   "codemirror_mode": {
    "name": "ipython",
    "version": 3
   },
   "file_extension": ".py",
   "mimetype": "text/x-python",
   "name": "python",
   "nbconvert_exporter": "python",
   "pygments_lexer": "ipython3",
   "version": "3.11.3"
  }
 },
 "nbformat": 4,
 "nbformat_minor": 2
}
