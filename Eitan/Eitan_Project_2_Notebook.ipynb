{
 "cells": [
  {
   "cell_type": "markdown",
   "metadata": {},
   "source": [
    "## Final Project Submission\n",
    "\n",
    "Please fill out:\n",
    "* Student name: \n",
    "* Student pace: self paced / part time / full time\n",
    "* Scheduled project review date/time: \n",
    "* Instructor name: \n",
    "* Blog post URL:\n"
   ]
  },
  {
   "cell_type": "code",
   "execution_count": 163,
   "metadata": {},
   "outputs": [],
   "source": [
    "import streamlit as st\n"
   ]
  },
  {
   "cell_type": "code",
   "execution_count": 164,
   "metadata": {},
   "outputs": [
    {
     "ename": "AttributeError",
     "evalue": "module 'streamlit' has no attribute 'map'",
     "output_type": "error",
     "traceback": [
      "\u001b[0;31m---------------------------------------------------------------------------\u001b[0m",
      "\u001b[0;31mAttributeError\u001b[0m                            Traceback (most recent call last)",
      "Cell \u001b[0;32mIn[164], line 9\u001b[0m\n\u001b[1;32m      7\u001b[0m \u001b[38;5;28;01mimport\u001b[39;00m \u001b[38;5;21;01mstreamlit\u001b[39;00m \u001b[38;5;28;01mas\u001b[39;00m \u001b[38;5;21;01mst\u001b[39;00m\n\u001b[1;32m      8\u001b[0m df \u001b[38;5;241m=\u001b[39m pd\u001b[38;5;241m.\u001b[39mDataFrame(np\u001b[38;5;241m.\u001b[39mrandom\u001b[38;5;241m.\u001b[39mrandn(\u001b[38;5;241m500\u001b[39m, \u001b[38;5;241m2\u001b[39m) \u001b[38;5;241m/\u001b[39m [\u001b[38;5;241m50\u001b[39m, \u001b[38;5;241m50\u001b[39m] \u001b[38;5;241m+\u001b[39m [\u001b[38;5;241m37.76\u001b[39m, \u001b[38;5;241m-\u001b[39m\u001b[38;5;241m122.4\u001b[39m],columns\u001b[38;5;241m=\u001b[39m[\u001b[38;5;124m'\u001b[39m\u001b[38;5;124mlat\u001b[39m\u001b[38;5;124m'\u001b[39m, \u001b[38;5;124m'\u001b[39m\u001b[38;5;124mlon\u001b[39m\u001b[38;5;124m'\u001b[39m])\n\u001b[0;32m----> 9\u001b[0m st\u001b[38;5;241m.\u001b[39mmap(df)\n\u001b[1;32m     11\u001b[0m st\u001b[38;5;241m.\u001b[39mtitle (\u001b[38;5;124m\"\u001b[39m\u001b[38;5;124mKings County Housing Dashboard\u001b[39m\u001b[38;5;124m\"\u001b[39m)\n\u001b[1;32m     13\u001b[0m st\u001b[38;5;241m.\u001b[39mheader(\u001b[38;5;124m\"\u001b[39m\u001b[38;5;124mInteractive Housing Predictive Model Widget\u001b[39m\u001b[38;5;124m\"\u001b[39m)\n",
      "\u001b[0;31mAttributeError\u001b[0m: module 'streamlit' has no attribute 'map'"
     ]
    }
   ],
   "source": [
    "import streamlit as st\n",
    "\n",
    "#st.write(\"Hello ,let's learn how to build a streamlit app together\")\n",
    "\n",
    "import pandas as pd\n",
    "import numpy as np\n",
    "import streamlit as st\n",
    "#df = pd.DataFrame(np.random.randn(500, 2) / [50, 50] + [37.76, -122.4],columns=['lat', 'lon'])\n",
    "#st.map(df)\n",
    "\n",
    "st.title (\"Kings County Housing Dashboard\")\n",
    "\n",
    "st.header(\"Interactive Housing Predictive Model Widget\")\n",
    "#st.markdown(\"this is the header\")\n",
    "#st.subheader(\"this is the subheader\")\n",
    "#st.caption(\"this is the caption\")\n",
    "#st.code(\"x=2021\")\n",
    "#st.latex(r''' a+a r^1+a r^2+a r^3 ''')\n",
    "\n",
    "#st.checkbox('yes')\n",
    "\n",
    "#st.button('Click')\n",
    "\n",
    "#st.radio('Pick your gender',['Male','Female'])\n",
    "\n",
    "#st.selectbox('Pick your gender',['Male','Female'])\n",
    "\n",
    "#st.multiselect('choose a planet',['Jupiter', 'Mars', 'neptune'])\n",
    "\n",
    "#st.select_slider('Pick a mark', ['Bad', 'Good', 'Excellent'])\n",
    "\n",
    "#st.slider('Pick a number', 0,50)\n",
    "\n"
   ]
  },
  {
   "cell_type": "code",
   "execution_count": null,
   "metadata": {},
   "outputs": [],
   "source": []
  },
  {
   "cell_type": "code",
   "execution_count": 165,
   "metadata": {},
   "outputs": [],
   "source": [
    "import itertools\n",
    "import numpy as np\n",
    "import pandas as pd \n",
    "from numbers import Number\n",
    "from scipy import stats\n",
    "import matplotlib.pyplot as plt\n",
    "import seaborn as sns\n",
    "import statsmodels.api as sm\n",
    "import warnings\n",
    "warnings.filterwarnings('ignore')\n",
    "\n",
    "from geopy.distance import geodesic"
   ]
  },
  {
   "cell_type": "code",
   "execution_count": 166,
   "metadata": {},
   "outputs": [],
   "source": [
    "from sklearn.linear_model import LinearRegression\n",
    "from sklearn.model_selection import train_test_split\n",
    "from sklearn.preprocessing import StandardScaler\n",
    "from sklearn.preprocessing import OrdinalEncoder\n",
    "from sklearn.metrics import mean_absolute_error\n",
    "from sklearn.metrics import mean_squared_error\n",
    "from sklearn.preprocessing import OneHotEncoder\n",
    "from sklearn.preprocessing import PolynomialFeatures"
   ]
  },
  {
   "cell_type": "code",
   "execution_count": 167,
   "metadata": {},
   "outputs": [],
   "source": [
    "data = pd.read_csv('../data/kc_house_data.csv')"
   ]
  },
  {
   "cell_type": "code",
   "execution_count": 168,
   "metadata": {},
   "outputs": [],
   "source": [
    "data = data.dropna()"
   ]
  },
  {
   "cell_type": "code",
   "execution_count": 169,
   "metadata": {},
   "outputs": [],
   "source": [
    "def zip_code(address):\n",
    "    x = address.split(' ')[-3]\n",
    "\n",
    "    return x.split(',')[0]"
   ]
  },
  {
   "cell_type": "code",
   "execution_count": 170,
   "metadata": {},
   "outputs": [],
   "source": [
    "def township(address):\n",
    "    x = address.split(', ')[1]\n",
    "\n",
    "    return x"
   ]
  },
  {
   "cell_type": "code",
   "execution_count": 171,
   "metadata": {},
   "outputs": [],
   "source": [
    "data['zip_code'] = data['address'].apply(lambda x: zip_code(x))"
   ]
  },
  {
   "cell_type": "code",
   "execution_count": 172,
   "metadata": {},
   "outputs": [],
   "source": [
    "data = data.sort_values(by = 'zip_code')"
   ]
  },
  {
   "cell_type": "code",
   "execution_count": 173,
   "metadata": {},
   "outputs": [],
   "source": [
    "data['zip_code'] = data['zip_code'].astype('int')"
   ]
  },
  {
   "cell_type": "code",
   "execution_count": 174,
   "metadata": {},
   "outputs": [],
   "source": [
    "data['township'] = data['address'].apply(lambda x: township(x))"
   ]
  },
  {
   "cell_type": "code",
   "execution_count": 182,
   "metadata": {},
   "outputs": [],
   "source": []
  },
  {
   "cell_type": "code",
   "execution_count": 87,
   "metadata": {},
   "outputs": [],
   "source": [
    "kc_zips =[98001,\n",
    "98002,\n",
    "98003,\n",
    "98004,\n",
    "98005,\n",
    "98006,\n",
    "98007,\n",
    "98008,\n",
    "98009,\n",
    "98010,\n",
    "98011,\n",
    "98013,\n",
    "98014,\n",
    "98015,\n",
    "98019,\n",
    "98022,\n",
    "98023,\n",
    "98024,\n",
    "98025,\n",
    "98027,\n",
    "98028,\n",
    "98029,\n",
    "98030,\n",
    "98031,\n",
    "98032,\n",
    "98033,\n",
    "98034,\n",
    "98035,\n",
    "98038,\n",
    "98039,\n",
    "98040,\n",
    "98041,\n",
    "98042,\n",
    "98045,\n",
    "98047,\n",
    "98050,\n",
    "98051,\n",
    "98052,\n",
    "98053,\n",
    "98054,\n",
    "98055,\n",
    "98056,\n",
    "98057,\n",
    "98058,\n",
    "98059,\n",
    "98062,\n",
    "98063,\n",
    "98064,\n",
    "98065,\n",
    "98070,\n",
    "98071,\n",
    "98072,\n",
    "98073,\n",
    "98074,\n",
    "98075,\n",
    "98077,\n",
    "98083,\n",
    "98089,\n",
    "98092,\n",
    "98093,\n",
    "98101,\n",
    "98102,\n",
    "98103,\n",
    "98104,\n",
    "98105,\n",
    "98106,\n",
    "98107,\n",
    "98108,\n",
    "98109,\n",
    "98111,\n",
    "98112,\n",
    "98113,\n",
    "98114,\n",
    "98115,\n",
    "98116,\n",
    "98117,\n",
    "98118,\n",
    "98119,\n",
    "98121,\n",
    "98122,\n",
    "98124,\n",
    "98125,\n",
    "98126,\n",
    "98127,\n",
    "98129,\n",
    "98131,\n",
    "98132,\n",
    "98133,\n",
    "98134,\n",
    "98136,\n",
    "98138,\n",
    "98139,\n",
    "98141,\n",
    "98144,\n",
    "98145,\n",
    "98146,\n",
    "98148,\n",
    "98151,\n",
    "98154,\n",
    "98155,\n",
    "98158,\n",
    "98160,\n",
    "98161,\n",
    "98164,\n",
    "98165,\n",
    "98166,\n",
    "98168,\n",
    "98170,\n",
    "98171,\n",
    "98174,\n",
    "98175,\n",
    "98177,\n",
    "98178,\n",
    "98181,\n",
    "98184,\n",
    "98185,\n",
    "98188,\n",
    "98190,\n",
    "98191,\n",
    "98194,\n",
    "98195,\n",
    "98198,\n",
    "98199,\n",
    "98224,\n",
    "98288]"
   ]
  },
  {
   "cell_type": "code",
   "execution_count": 188,
   "metadata": {},
   "outputs": [],
   "source": [
    "data_kc = data[data['zip_code'].isin(kc_zips)]"
   ]
  },
  {
   "cell_type": "code",
   "execution_count": 190,
   "metadata": {},
   "outputs": [],
   "source": [
    "coords = data_kc[['lat', 'long']].rename(columns = {'long':'lon'})"
   ]
  },
  {
   "cell_type": "code",
   "execution_count": 191,
   "metadata": {},
   "outputs": [
    {
     "data": {
      "text/html": [
       "<div>\n",
       "<style scoped>\n",
       "    .dataframe tbody tr th:only-of-type {\n",
       "        vertical-align: middle;\n",
       "    }\n",
       "\n",
       "    .dataframe tbody tr th {\n",
       "        vertical-align: top;\n",
       "    }\n",
       "\n",
       "    .dataframe thead th {\n",
       "        text-align: right;\n",
       "    }\n",
       "</style>\n",
       "<table border=\"1\" class=\"dataframe\">\n",
       "  <thead>\n",
       "    <tr style=\"text-align: right;\">\n",
       "      <th></th>\n",
       "      <th>lat</th>\n",
       "      <th>lon</th>\n",
       "    </tr>\n",
       "  </thead>\n",
       "  <tbody>\n",
       "    <tr>\n",
       "      <th>22782</th>\n",
       "      <td>47.335310</td>\n",
       "      <td>-122.261840</td>\n",
       "    </tr>\n",
       "    <tr>\n",
       "      <th>22829</th>\n",
       "      <td>47.299625</td>\n",
       "      <td>-122.283815</td>\n",
       "    </tr>\n",
       "    <tr>\n",
       "      <th>26067</th>\n",
       "      <td>47.325130</td>\n",
       "      <td>-122.280980</td>\n",
       "    </tr>\n",
       "    <tr>\n",
       "      <th>1499</th>\n",
       "      <td>47.285610</td>\n",
       "      <td>-122.267170</td>\n",
       "    </tr>\n",
       "    <tr>\n",
       "      <th>7478</th>\n",
       "      <td>47.263110</td>\n",
       "      <td>-122.287565</td>\n",
       "    </tr>\n",
       "    <tr>\n",
       "      <th>...</th>\n",
       "      <td>...</td>\n",
       "      <td>...</td>\n",
       "    </tr>\n",
       "    <tr>\n",
       "      <th>9332</th>\n",
       "      <td>47.694940</td>\n",
       "      <td>-121.298765</td>\n",
       "    </tr>\n",
       "    <tr>\n",
       "      <th>4748</th>\n",
       "      <td>47.718260</td>\n",
       "      <td>-121.405660</td>\n",
       "    </tr>\n",
       "    <tr>\n",
       "      <th>4638</th>\n",
       "      <td>47.710030</td>\n",
       "      <td>-121.354260</td>\n",
       "    </tr>\n",
       "    <tr>\n",
       "      <th>9757</th>\n",
       "      <td>47.708140</td>\n",
       "      <td>-121.363070</td>\n",
       "    </tr>\n",
       "    <tr>\n",
       "      <th>11974</th>\n",
       "      <td>47.712930</td>\n",
       "      <td>-121.321040</td>\n",
       "    </tr>\n",
       "  </tbody>\n",
       "</table>\n",
       "<p>29149 rows × 2 columns</p>\n",
       "</div>"
      ],
      "text/plain": [
       "             lat         lon\n",
       "22782  47.335310 -122.261840\n",
       "22829  47.299625 -122.283815\n",
       "26067  47.325130 -122.280980\n",
       "1499   47.285610 -122.267170\n",
       "7478   47.263110 -122.287565\n",
       "...          ...         ...\n",
       "9332   47.694940 -121.298765\n",
       "4748   47.718260 -121.405660\n",
       "4638   47.710030 -121.354260\n",
       "9757   47.708140 -121.363070\n",
       "11974  47.712930 -121.321040\n",
       "\n",
       "[29149 rows x 2 columns]"
      ]
     },
     "execution_count": 191,
     "metadata": {},
     "output_type": "execute_result"
    }
   ],
   "source": [
    "st.map(coords)"
   ]
  },
  {
   "cell_type": "code",
   "execution_count": null,
   "metadata": {},
   "outputs": [],
   "source": []
  },
  {
   "cell_type": "code",
   "execution_count": null,
   "metadata": {},
   "outputs": [],
   "source": []
  },
  {
   "cell_type": "code",
   "execution_count": 89,
   "metadata": {},
   "outputs": [],
   "source": [
    "def geo_distance(coord_a, coord_b):\n",
    "    #take two coordinates and calculate distances in miles\n",
    "    \n",
    "    return geodesic(coord_a, coord_b).miles"
   ]
  },
  {
   "cell_type": "code",
   "execution_count": 90,
   "metadata": {},
   "outputs": [],
   "source": [
    "amazing_coord = (47.615722, -122.339494)"
   ]
  },
  {
   "cell_type": "code",
   "execution_count": 91,
   "metadata": {},
   "outputs": [],
   "source": [
    "data_kc['location'] = list(zip(data_kc.lat, data_kc.long))"
   ]
  },
  {
   "cell_type": "code",
   "execution_count": 92,
   "metadata": {},
   "outputs": [],
   "source": [
    "data_kc['distance_to_amazon'] = data_kc['location'].apply(lambda x: geodesic(x, amazing_coord).miles)"
   ]
  },
  {
   "cell_type": "code",
   "execution_count": 93,
   "metadata": {},
   "outputs": [],
   "source": [
    "data_near_amzn = data_kc[data_kc['distance_to_amazon'] <= 3]"
   ]
  },
  {
   "cell_type": "code",
   "execution_count": 94,
   "metadata": {},
   "outputs": [],
   "source": [
    "data_near_amzn_filt = data_near_amzn[data_near_amzn['price'] < 10000000]"
   ]
  },
  {
   "cell_type": "code",
   "execution_count": 95,
   "metadata": {},
   "outputs": [],
   "source": [
    "data_near_amzn_filt.columns"
   ]
  },
  {
   "cell_type": "code",
   "execution_count": 96,
   "metadata": {},
   "outputs": [],
   "source": [
    "fig, ax = plt.subplots(figsize = (12,8))\n",
    "\n",
    "sqft = data_near_amzn_filt['sqft_living']\n",
    "price = data_near_amzn_filt['price']\n",
    "bedrooms = data_near_amzn_filt['bedrooms']\n",
    "nuisance = data_near_amzn_filt['nuisance']\n",
    "dist = data_near_amzn_filt['distance_to_amazon']\n",
    "greenbelt = data_near_amzn_filt['greenbelt']\n",
    "bathrooms = data_near_amzn_filt['bathrooms']\n",
    "\n",
    "\n",
    "sns.scatterplot(x = sqft, y = price, hue = bedrooms, hue_norm=(0, 5), size = bathrooms, ax=ax, sizes=(10, 150), legend=\"full\");\n",
    "\n"
   ]
  },
  {
   "cell_type": "code",
   "execution_count": null,
   "metadata": {},
   "outputs": [],
   "source": []
  },
  {
   "cell_type": "code",
   "execution_count": 97,
   "metadata": {},
   "outputs": [],
   "source": [
    "fig, ax = plt.subplots(figsize=(12,10)) \n",
    "ax = sns.heatmap(data_kc[['price', 'bedrooms', 'bathrooms', 'sqft_living',\n",
    "       'sqft_lot', 'sqft_above',\n",
    "       'sqft_basement', 'sqft_garage', 'sqft_patio', 'floors', 'waterfront', 'greenbelt', 'nuisance', 'view',\n",
    "       'condition', 'grade', 'heat_source', 'sewer_system', 'yr_built',\n",
    "       'yr_renovated', 'zip_code']].corr(), annot=True, linewidths=.3)\n"
   ]
  },
  {
   "cell_type": "code",
   "execution_count": null,
   "metadata": {},
   "outputs": [],
   "source": []
  },
  {
   "cell_type": "code",
   "execution_count": 98,
   "metadata": {},
   "outputs": [],
   "source": [
    "#X = data_kc[['sqft_lot' ,'sqft_living', 'floors']]\n",
    "#y = data_kc['price']"
   ]
  },
  {
   "cell_type": "code",
   "execution_count": 99,
   "metadata": {},
   "outputs": [],
   "source": [
    "#X_train, X_test, y_train, y_test = train_test_split(X, y, test_size = 0.3)"
   ]
  },
  {
   "cell_type": "code",
   "execution_count": 100,
   "metadata": {},
   "outputs": [],
   "source": [
    "#ss = StandardScaler()"
   ]
  },
  {
   "cell_type": "code",
   "execution_count": 101,
   "metadata": {},
   "outputs": [],
   "source": [
    "#ss.fit(X_train)\n"
   ]
  },
  {
   "cell_type": "code",
   "execution_count": 102,
   "metadata": {},
   "outputs": [],
   "source": [
    "#X_standardized_train = ss.transform(X_train)"
   ]
  },
  {
   "cell_type": "code",
   "execution_count": 103,
   "metadata": {},
   "outputs": [],
   "source": [
    "#X_standardized_test = ss.transform(X_test)"
   ]
  },
  {
   "cell_type": "code",
   "execution_count": 104,
   "metadata": {},
   "outputs": [],
   "source": [
    "#lr_raw = LinearRegression()\n",
    "#lr_raw.fit(X_standardized_train, y_train)\n",
    "\n",
    "#lr_raw.score(X_standardized_train, y_train)"
   ]
  },
  {
   "cell_type": "code",
   "execution_count": 105,
   "metadata": {},
   "outputs": [],
   "source": [
    "#lr_raw.score(X_standardized_test, y_test)"
   ]
  },
  {
   "cell_type": "code",
   "execution_count": 106,
   "metadata": {},
   "outputs": [],
   "source": [
    "#pd.Series(lr_raw.coef_,\n",
    "#          index = X.columns) "
   ]
  },
  {
   "cell_type": "code",
   "execution_count": 107,
   "metadata": {},
   "outputs": [],
   "source": [
    "#y_pred = lr_raw.predict(X_standardized_test)\n",
    "#mean_absolute_error(y_pred, y_test)"
   ]
  },
  {
   "cell_type": "code",
   "execution_count": 108,
   "metadata": {},
   "outputs": [],
   "source": [
    "#new_kcdf = pd.concat([data_kc.reset_index().drop(columns = ['grade', 'condition', 'view']), ord_df],1)"
   ]
  },
  {
   "cell_type": "code",
   "execution_count": null,
   "metadata": {},
   "outputs": [],
   "source": []
  },
  {
   "cell_type": "code",
   "execution_count": 109,
   "metadata": {},
   "outputs": [],
   "source": [
    "#o_enc = OrdinalEncoder(categories = [grade_list, cond_list, view_list])\n",
    "#ord_df =pd.DataFrame(o_enc.fit_transform(closekcdf[['grade', 'condition', 'view']]), columns = closekcdf[['grade', 'condition', 'view']].columns)"
   ]
  },
  {
   "cell_type": "code",
   "execution_count": null,
   "metadata": {},
   "outputs": [],
   "source": []
  },
  {
   "cell_type": "code",
   "execution_count": 110,
   "metadata": {},
   "outputs": [],
   "source": [
    "#onehot_enc = OneHotEncoder(sparse = True, handle_unknown = 'ignore')"
   ]
  },
  {
   "cell_type": "code",
   "execution_count": 111,
   "metadata": {},
   "outputs": [],
   "source": [
    "#nominal_cols = ['waterfront', 'greenbelt', 'heat_source', 'sewer_system','zip_code']"
   ]
  },
  {
   "cell_type": "code",
   "execution_count": 112,
   "metadata": {},
   "outputs": [],
   "source": [
    "#ohe_df =onehot_enc.fit_transform(new_kcdf[nominal_cols])"
   ]
  },
  {
   "cell_type": "code",
   "execution_count": 113,
   "metadata": {},
   "outputs": [],
   "source": [
    "#nominal_df = pd.DataFrame(ohe_df.toarray(),columns = onehot_enc.get_feature_names())"
   ]
  },
  {
   "cell_type": "code",
   "execution_count": 114,
   "metadata": {},
   "outputs": [],
   "source": [
    "#cleandf = pd.concat([new_kcdf.drop(columns = ['waterfront', 'greenbelt', 'heat_source', 'sewer_system', 'zip_code']), nominal_df],1)"
   ]
  },
  {
   "cell_type": "code",
   "execution_count": null,
   "metadata": {},
   "outputs": [],
   "source": []
  },
  {
   "cell_type": "code",
   "execution_count": null,
   "metadata": {},
   "outputs": [],
   "source": []
  },
  {
   "cell_type": "code",
   "execution_count": null,
   "metadata": {},
   "outputs": [],
   "source": []
  },
  {
   "cell_type": "code",
   "execution_count": 115,
   "metadata": {},
   "outputs": [],
   "source": [
    "amazing_coord = (47.615722, -122.339494)"
   ]
  },
  {
   "cell_type": "code",
   "execution_count": 116,
   "metadata": {},
   "outputs": [],
   "source": [
    "#data['location'] = list(zip(data.lat, data_focused.long))"
   ]
  },
  {
   "cell_type": "code",
   "execution_count": 117,
   "metadata": {},
   "outputs": [],
   "source": [
    "#data_focused['distance_to_amazon'] = data_focused['location'].apply(lambda x: geodesic(x, amazing_coord).miles)"
   ]
  },
  {
   "cell_type": "code",
   "execution_count": 118,
   "metadata": {},
   "outputs": [],
   "source": [
    "def geo_distance(coord_a, coord_b):\n",
    "    #take two coordinates and calculate distances in miles\n",
    "    \n",
    "    return geodesic(coord_a, coord_b).miles"
   ]
  },
  {
   "cell_type": "code",
   "execution_count": null,
   "metadata": {},
   "outputs": [],
   "source": []
  },
  {
   "cell_type": "code",
   "execution_count": 119,
   "metadata": {},
   "outputs": [],
   "source": [
    "#X_train, X_test, y_train, y_test = train_test_split(data_focused['grade_num'], data_focused['price'], test_size = 0.3)\n",
    "\n",
    "#lr_simple = LinearRegression()\n"
   ]
  },
  {
   "cell_type": "code",
   "execution_count": 120,
   "metadata": {},
   "outputs": [],
   "source": [
    "#lr_simple.fit(X_train.values.reshape(-1,1), y_train)"
   ]
  },
  {
   "cell_type": "code",
   "execution_count": 121,
   "metadata": {},
   "outputs": [],
   "source": [
    "#lr_simple.score(X_train.values.reshape(-1,1),\n",
    "              #  y_train)"
   ]
  },
  {
   "cell_type": "code",
   "execution_count": 122,
   "metadata": {},
   "outputs": [],
   "source": [
    "#y_pred = lr_simple.predict(X_test.values.reshape(-1,1))\n",
    "#mean_absolute_error(y_pred, y_test)"
   ]
  },
  {
   "cell_type": "code",
   "execution_count": 123,
   "metadata": {},
   "outputs": [],
   "source": [
    "data_kc = data_kc.drop(columns = ['township',  'date'])"
   ]
  },
  {
   "cell_type": "markdown",
   "metadata": {},
   "source": [
    "### MODELING"
   ]
  },
  {
   "cell_type": "code",
   "execution_count": 124,
   "metadata": {},
   "outputs": [],
   "source": [
    "grade_list = ['2 Substandard','3 Poor','4 Low','5 Fair','6 Low Average', '7 Average', '8 Good', '9 Better', '10 Very Good', '11 Excellent','12 Luxury','13 Mansion']\n",
    "cond_list = ['Poor', 'Fair', 'Average', 'Good', 'Very Good']\n",
    "view_list = ['NONE', 'FAIR', 'AVERAGE', 'GOOD', 'EXCELLENT']"
   ]
  },
  {
   "cell_type": "code",
   "execution_count": 125,
   "metadata": {},
   "outputs": [],
   "source": [
    "o_enc = OrdinalEncoder(categories = [grade_list, cond_list, view_list])\n",
    "ord_df =pd.DataFrame(o_enc.fit_transform(data_kc[\n",
    "    ['grade', 'condition', 'view']]), columns = data_kc[['grade', 'condition', 'view']].columns)"
   ]
  },
  {
   "cell_type": "code",
   "execution_count": 126,
   "metadata": {},
   "outputs": [],
   "source": [
    "new_kcdf = pd.concat([data_kc.reset_index().drop(columns = ['grade', 'condition', 'view']), ord_df],1)"
   ]
  },
  {
   "cell_type": "code",
   "execution_count": 127,
   "metadata": {},
   "outputs": [],
   "source": [
    "data_kc"
   ]
  },
  {
   "cell_type": "code",
   "execution_count": 128,
   "metadata": {},
   "outputs": [],
   "source": [
    "onehot_enc = OneHotEncoder(sparse = True, handle_unknown = 'ignore')"
   ]
  },
  {
   "cell_type": "code",
   "execution_count": 129,
   "metadata": {},
   "outputs": [],
   "source": [
    "nominal_cols = ['waterfront', 'greenbelt', 'heat_source', 'sewer_system','zip_code', 'nuisance']"
   ]
  },
  {
   "cell_type": "code",
   "execution_count": 130,
   "metadata": {},
   "outputs": [],
   "source": [
    "ohe_df =onehot_enc.fit_transform(new_kcdf[nominal_cols])"
   ]
  },
  {
   "cell_type": "code",
   "execution_count": 131,
   "metadata": {},
   "outputs": [],
   "source": [
    "nominal_df = pd.DataFrame(ohe_df.toarray(),columns = onehot_enc.get_feature_names_out())"
   ]
  },
  {
   "cell_type": "code",
   "execution_count": 132,
   "metadata": {},
   "outputs": [],
   "source": [
    "cleandf = pd.concat([new_kcdf.drop(columns = \n",
    "    ['waterfront', 'greenbelt', 'heat_source', 'sewer_system', 'zip_code', 'nuisance']), nominal_df],1)"
   ]
  },
  {
   "cell_type": "code",
   "execution_count": 133,
   "metadata": {},
   "outputs": [],
   "source": [
    "lr = LinearRegression()"
   ]
  },
  {
   "cell_type": "code",
   "execution_count": 134,
   "metadata": {},
   "outputs": [],
   "source": [
    "col_select = cleandf.drop(columns = ['price', 'index', 'address','sqft_garage', 'location']).columns\n",
    "X = cleandf[col_select]\n",
    "y = cleandf['price']\n",
    "X_train, X_test, y_train, y_test = train_test_split(X, y, test_size=0.3)"
   ]
  },
  {
   "cell_type": "code",
   "execution_count": 135,
   "metadata": {
    "scrolled": true
   },
   "outputs": [],
   "source": [
    "lr.fit(X_train, y_train)"
   ]
  },
  {
   "cell_type": "code",
   "execution_count": 136,
   "metadata": {},
   "outputs": [],
   "source": [
    "lr.score(X_train, y_train)"
   ]
  },
  {
   "cell_type": "code",
   "execution_count": 137,
   "metadata": {},
   "outputs": [],
   "source": [
    "y_pred = lr.predict(X_test)\n",
    "y_pred[0:10]"
   ]
  },
  {
   "cell_type": "code",
   "execution_count": 138,
   "metadata": {},
   "outputs": [],
   "source": [
    "MAE = mean_absolute_error(y_pred, y_test)\n",
    "MAE"
   ]
  },
  {
   "cell_type": "code",
   "execution_count": 139,
   "metadata": {},
   "outputs": [],
   "source": [
    "ss = StandardScaler()"
   ]
  },
  {
   "cell_type": "code",
   "execution_count": 140,
   "metadata": {},
   "outputs": [],
   "source": [
    "ss.fit(X_train)"
   ]
  },
  {
   "cell_type": "code",
   "execution_count": 141,
   "metadata": {},
   "outputs": [],
   "source": [
    "X_standardized_train = ss.fit_transform(X_train)"
   ]
  },
  {
   "cell_type": "code",
   "execution_count": 142,
   "metadata": {},
   "outputs": [],
   "source": [
    "X_standardized_test = ss.transform(X_test)"
   ]
  },
  {
   "cell_type": "code",
   "execution_count": 143,
   "metadata": {},
   "outputs": [],
   "source": [
    "lr.fit(X_standardized_train, y_train)\n",
    "\n",
    "lr.score(X_standardized_train, y_train)"
   ]
  },
  {
   "cell_type": "code",
   "execution_count": 144,
   "metadata": {},
   "outputs": [],
   "source": [
    "lr.score(X_standardized_test, y_test)"
   ]
  },
  {
   "cell_type": "code",
   "execution_count": 145,
   "metadata": {},
   "outputs": [],
   "source": [
    "mean_absolute_error(y_pred, y_test)"
   ]
  },
  {
   "cell_type": "markdown",
   "metadata": {},
   "source": [
    " results.summary()"
   ]
  },
  {
   "cell_type": "code",
   "execution_count": 146,
   "metadata": {},
   "outputs": [],
   "source": [
    "ss_preds = lr.predict(X_standardized_test)"
   ]
  },
  {
   "cell_type": "code",
   "execution_count": 147,
   "metadata": {},
   "outputs": [],
   "source": [
    "ss_preds"
   ]
  },
  {
   "cell_type": "code",
   "execution_count": 148,
   "metadata": {},
   "outputs": [],
   "source": [
    "#model_predict_rounded = [round(model_full_predict[x], 1) for x in range(len(model_full_predict))]"
   ]
  },
  {
   "cell_type": "code",
   "execution_count": 149,
   "metadata": {},
   "outputs": [],
   "source": [
    "#data_kc['model_predict'] = model_predict_rounded"
   ]
  },
  {
   "cell_type": "code",
   "execution_count": 150,
   "metadata": {},
   "outputs": [],
   "source": [
    "#data_kc['mean_sq_er'] = (data_kc['price'] - data_kc['model_predict'])**2"
   ]
  }
 ],
 "metadata": {
  "kernelspec": {
   "display_name": "Python (Number41)",
   "language": "python",
   "name": "number41"
  },
  "language_info": {
   "codemirror_mode": {
    "name": "ipython",
    "version": 3
   },
   "file_extension": ".py",
   "mimetype": "text/x-python",
   "name": "python",
   "nbconvert_exporter": "python",
   "pygments_lexer": "ipython3",
   "version": "3.11.3"
  }
 },
 "nbformat": 4,
 "nbformat_minor": 2
}
