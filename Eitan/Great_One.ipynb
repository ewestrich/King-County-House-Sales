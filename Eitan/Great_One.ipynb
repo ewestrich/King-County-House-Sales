{
 "cells": [
  {
   "cell_type": "code",
   "execution_count": 2,
   "id": "a3b17e51",
   "metadata": {},
   "outputs": [
    {
     "name": "stdout",
     "output_type": "stream",
     "text": [
      "Intel MKL WARNING: Support of Intel(R) Streaming SIMD Extensions 4.2 (Intel(R) SSE4.2) enabled only processors has been deprecated. Intel oneAPI Math Kernel Library 2025.0 will require Intel(R) Advanced Vector Extensions (Intel(R) AVX) instructions.\n",
      "Intel MKL WARNING: Support of Intel(R) Streaming SIMD Extensions 4.2 (Intel(R) SSE4.2) enabled only processors has been deprecated. Intel oneAPI Math Kernel Library 2025.0 will require Intel(R) Advanced Vector Extensions (Intel(R) AVX) instructions.\n"
     ]
    }
   ],
   "source": [
    "import streamlit as st\n",
    "\n",
    "import pickle\n",
    "\n",
    "import numpy as np\n",
    "import pandas as pd \n",
    "from numbers import Number\n",
    "from scipy import stats\n",
    "\n",
    "import matplotlib.pyplot as plt\n",
    "import seaborn as sns\n",
    "\n",
    "import itertools\n",
    "import statsmodels.api as sm\n",
    "from sklearn.preprocessing import OrdinalEncoder\n",
    "from sklearn.linear_model import LinearRegression\n",
    "from sklearn.model_selection import train_test_split\n",
    "from sklearn.metrics import mean_absolute_error\n",
    "from sklearn.metrics import mean_squared_error\n",
    "from sklearn.preprocessing import StandardScaler\n",
    "from sklearn.preprocessing import OneHotEncoder\n",
    "from sklearn.preprocessing import PolynomialFeatures"
   ]
  },
  {
   "cell_type": "code",
   "execution_count": 4,
   "id": "478eacb1",
   "metadata": {},
   "outputs": [
    {
     "name": "stderr",
     "output_type": "stream",
     "text": [
      "2023-06-01 16:00:56.100 \n",
      "  \u001b[33m\u001b[1mWarning:\u001b[0m to view this Streamlit app on a browser, run it with the following\n",
      "  command:\n",
      "\n",
      "    streamlit run /Users/eitan/anaconda3/envs/Number41/lib/python3.11/site-packages/ipykernel_launcher.py [ARGUMENTS]\n"
     ]
    },
    {
     "data": {
      "text/plain": [
       "DeltaGenerator()"
      ]
     },
     "execution_count": 4,
     "metadata": {},
     "output_type": "execute_result"
    }
   ],
   "source": [
    "st.title(\"King County Housing Dashboard\")\n",
    "\n",
    "st.header(\"Interactive Housing Predictive Model Widget\")\n",
    "\n",
    "st.subheader(\"Map of Kings County, WA Housing Data\")"
   ]
  },
  {
   "cell_type": "code",
   "execution_count": 5,
   "id": "a63f7897",
   "metadata": {},
   "outputs": [],
   "source": [
    "df = pickle.load(open('df.pkl','rb'))\n",
    "model = pickle.load(open('model.pkl','rb'))\n",
    "ss = pickle.load(open('scaler.pkl','rb'))"
   ]
  },
  {
   "cell_type": "code",
   "execution_count": 3,
   "id": "29d71894",
   "metadata": {},
   "outputs": [],
   "source": [
    "new_house = pickle.load(open('og_house.pkl','rb'))"
   ]
  },
  {
   "cell_type": "code",
   "execution_count": 17,
   "id": "4ee823cb",
   "metadata": {},
   "outputs": [
    {
     "data": {
      "text/plain": [
       "['bedrooms',\n",
       " 'bathrooms',\n",
       " 'sqft_living',\n",
       " 'sqft_lot',\n",
       " 'floors',\n",
       " 'sqft_above',\n",
       " 'sqft_basement',\n",
       " 'sqft_patio',\n",
       " 'yr_built',\n",
       " 'yr_renovated',\n",
       " 'lat',\n",
       " 'long',\n",
       " 'distance_to_amazon',\n",
       " 'grade',\n",
       " 'condition',\n",
       " 'view',\n",
       " 'waterfront_NO',\n",
       " 'waterfront_YES',\n",
       " 'greenbelt_NO',\n",
       " 'greenbelt_YES',\n",
       " 'nuisance_NO',\n",
       " 'nuisance_YES',\n",
       " 'heat_source_Electricity',\n",
       " 'heat_source_Electricity/Solar',\n",
       " 'heat_source_Gas',\n",
       " 'heat_source_Gas/Solar',\n",
       " 'heat_source_Oil',\n",
       " 'heat_source_Oil/Solar',\n",
       " 'heat_source_Other',\n",
       " 'sewer_system_PRIVATE',\n",
       " 'sewer_system_PRIVATE RESTRICTED',\n",
       " 'sewer_system_PUBLIC',\n",
       " 'sewer_system_PUBLIC RESTRICTED',\n",
       " 'zip_code_98001',\n",
       " 'zip_code_98002',\n",
       " 'zip_code_98003',\n",
       " 'zip_code_98004',\n",
       " 'zip_code_98005',\n",
       " 'zip_code_98006',\n",
       " 'zip_code_98007',\n",
       " 'zip_code_98008',\n",
       " 'zip_code_98010',\n",
       " 'zip_code_98011',\n",
       " 'zip_code_98014',\n",
       " 'zip_code_98019',\n",
       " 'zip_code_98022',\n",
       " 'zip_code_98023',\n",
       " 'zip_code_98024',\n",
       " 'zip_code_98027',\n",
       " 'zip_code_98028',\n",
       " 'zip_code_98029',\n",
       " 'zip_code_98030',\n",
       " 'zip_code_98031',\n",
       " 'zip_code_98032',\n",
       " 'zip_code_98033',\n",
       " 'zip_code_98034',\n",
       " 'zip_code_98038',\n",
       " 'zip_code_98039',\n",
       " 'zip_code_98040',\n",
       " 'zip_code_98042',\n",
       " 'zip_code_98045',\n",
       " 'zip_code_98047',\n",
       " 'zip_code_98050',\n",
       " 'zip_code_98051',\n",
       " 'zip_code_98052',\n",
       " 'zip_code_98053',\n",
       " 'zip_code_98055',\n",
       " 'zip_code_98056',\n",
       " 'zip_code_98057',\n",
       " 'zip_code_98058',\n",
       " 'zip_code_98059',\n",
       " 'zip_code_98065',\n",
       " 'zip_code_98070',\n",
       " 'zip_code_98072',\n",
       " 'zip_code_98074',\n",
       " 'zip_code_98075',\n",
       " 'zip_code_98077',\n",
       " 'zip_code_98092',\n",
       " 'zip_code_98102',\n",
       " 'zip_code_98103',\n",
       " 'zip_code_98105',\n",
       " 'zip_code_98106',\n",
       " 'zip_code_98107',\n",
       " 'zip_code_98108',\n",
       " 'zip_code_98109',\n",
       " 'zip_code_98112',\n",
       " 'zip_code_98115',\n",
       " 'zip_code_98116',\n",
       " 'zip_code_98117',\n",
       " 'zip_code_98118',\n",
       " 'zip_code_98119',\n",
       " 'zip_code_98122',\n",
       " 'zip_code_98125',\n",
       " 'zip_code_98126',\n",
       " 'zip_code_98133',\n",
       " 'zip_code_98136',\n",
       " 'zip_code_98144',\n",
       " 'zip_code_98146',\n",
       " 'zip_code_98148',\n",
       " 'zip_code_98155',\n",
       " 'zip_code_98166',\n",
       " 'zip_code_98168',\n",
       " 'zip_code_98177',\n",
       " 'zip_code_98178',\n",
       " 'zip_code_98188',\n",
       " 'zip_code_98198',\n",
       " 'zip_code_98199',\n",
       " 'zip_code_98224',\n",
       " 'zip_code_98288']"
      ]
     },
     "execution_count": 17,
     "metadata": {},
     "output_type": "execute_result"
    }
   ],
   "source": [
    "list(new_house.columns)"
   ]
  },
  {
   "cell_type": "code",
   "execution_count": 7,
   "id": "60deecd8",
   "metadata": {},
   "outputs": [],
   "source": [
    "kc_zips = [98001, 98002,98003, 98004,98005,98006, 98007,98008,98009, 98010, 98011, 98013, 98014,98015,98019,98022,98023,98024,98025,98027,98028,98029,98030,98031,98032,98033,98034,98035,98038,98039,98040,98041,98042,98045,98047,98050,98051,98052,98053,98054,98055,98056,98057,98058,98059,98062,98063,98064,98065,98070,98071,98072,98073,98074,98075,98077,98083,98089,98092,98093,98101,98102,98103,98104,98105,98106,98107,98108,98109,98111,98112,98113,98114,98115,98116,98117,98118,98119,98121,98122,98124,98125,98126,98127,98129,98131,98132,98133,98134,98136,98138,98139,98141,98144,98145,98146,98148,98151,98154,98155,98158,98160,98161,98164,98165,98166,98168,98170,98171,98174,98175,98177,98178,98181,98184,98185,98188,98190,98191,98194,98195,98198,98199,98224,98288]\n"
   ]
  },
  {
   "cell_type": "code",
   "execution_count": 18,
   "id": "8b6c4349",
   "metadata": {},
   "outputs": [],
   "source": [
    "st.image('house_pic.jpg')\n",
    "\n",
    "\n",
    "beds = st.selectbox('Select Number of Bedrooms',[0, 1, 2, 3, 4, 5, 6, 7, 8, 9, 10, 11, 13])\n",
    "\n",
    "baths = st.selectbox('Select Number of Bathrooms',[0.0,0.5,1.0,1.5,2.0,2.5,3.0,3.5,4.0,4.5,5.0\n",
    "                                                  ,5.5,6.0, 6.5,7.0,7.5,8.0,8.5,9.5\n",
    "                                                  ,10.0,10.5])\n",
    "\n",
    "zip_code = st.selectbox('Select a Zip Code', kc_zips)\n",
    "zip_col = 'zip_code_' + str(zip_code)\n",
    "\n",
    "sqft_living = st.number_input('Input Square Feet of Living Space')\n",
    "\n",
    "floors = st.number_input('Input Number of Floors')\n",
    "\n",
    "yr_built = st.number_input('Input Year Built')\n",
    "\n",
    "yr_renovated = st.number_input('Input Year Renovated')\n",
    "\n",
    "new_house = new_house.replace({'bedrooms': list(new_house['bedrooms'])}, beds)\n",
    "new_house = new_house.replace({'bathrooms': list(new_house['bathrooms'])}, baths)\n",
    "new_house = new_house.replace({zip_col: list(new_house[zip_col])}, 1.0)\n",
    "new_house = new_house.replace({'sqft_living': list(new_house['sqft_living'])}, sqft_living)\n",
    "new_house = new_house.replace({'floors': list(new_house['floors'])}, floors)\n",
    "new_house = new_house.replace({'yr_built': list(new_house['yr_built'])}, yr_built)\n",
    "new_house = new_house.replace({'yr_renovated': list(new_house['yr_renovated'])}, yr_renovated)\n",
    "\n",
    "\n",
    "\n",
    "#st.number_input\n",
    "\n",
    "#st.text_input\n",
    "\n",
    "\n",
    "standard_new_house = ss.transform(new_house)\n",
    "    \n",
    "result_new_house = model.predict(standard_new_house)[0]\n",
    "\n",
    "if st.button('View House Sale Price'):\n",
    "    st.write('This House is valued at:', \"$ \" + str(int(result_new_house)))"
   ]
  }
 ],
 "metadata": {
  "kernelspec": {
   "display_name": "Python (Number41)",
   "language": "python",
   "name": "number41"
  },
  "language_info": {
   "codemirror_mode": {
    "name": "ipython",
    "version": 3
   },
   "file_extension": ".py",
   "mimetype": "text/x-python",
   "name": "python",
   "nbconvert_exporter": "python",
   "pygments_lexer": "ipython3",
   "version": "3.11.3"
  }
 },
 "nbformat": 4,
 "nbformat_minor": 5
}
