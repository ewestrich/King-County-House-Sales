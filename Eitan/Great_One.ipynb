{
 "cells": [
  {
   "cell_type": "code",
   "execution_count": 37,
   "id": "a3b17e51",
   "metadata": {},
   "outputs": [],
   "source": [
    "import streamlit as st\n",
    "\n",
    "import pickle\n",
    "\n",
    "import numpy as np\n",
    "import pandas as pd \n",
    "from numbers import Number\n",
    "from scipy import stats\n",
    "\n",
    "import matplotlib.pyplot as plt\n",
    "import seaborn as sns\n",
    "\n",
    "import itertools\n",
    "import statsmodels.api as sm\n",
    "from sklearn.preprocessing import OrdinalEncoder\n",
    "from sklearn.linear_model import LinearRegression\n",
    "from sklearn.model_selection import train_test_split\n",
    "from sklearn.metrics import mean_absolute_error\n",
    "from sklearn.metrics import mean_squared_error\n",
    "from sklearn.preprocessing import StandardScaler\n",
    "from sklearn.preprocessing import OneHotEncoder\n",
    "from sklearn.preprocessing import PolynomialFeatures"
   ]
  },
  {
   "cell_type": "code",
   "execution_count": 38,
   "id": "478eacb1",
   "metadata": {},
   "outputs": [
    {
     "data": {
      "text/plain": [
       "DeltaGenerator()"
      ]
     },
     "execution_count": 38,
     "metadata": {},
     "output_type": "execute_result"
    }
   ],
   "source": [
    "st.title(\"King County Housing Help Interactive Dashboard\")\n",
    "\n",
    "#st.header(\" Housing Predictive Model Widget\")\n",
    "\n",
    "st.subheader(\"Map of Kings County, WA Housing Data (3 Mi. from Amazon HQ)\")"
   ]
  },
  {
   "cell_type": "code",
   "execution_count": 39,
   "id": "a63f7897",
   "metadata": {},
   "outputs": [],
   "source": [
    "df = pickle.load(open('df.pkl','rb'))\n",
    "model = pickle.load(open('model.pkl','rb'))\n",
    "ss = pickle.load(open('scaler.pkl','rb'))\n",
    "closest_houses = pickle.load(open('under_3_mi_to_amzn.pkl','rb'))"
   ]
  },
  {
   "cell_type": "code",
   "execution_count": 40,
   "id": "14fa5d12",
   "metadata": {},
   "outputs": [],
   "source": [
    "closest_zips = sorted(closest_houses['zip_code'].unique())"
   ]
  },
  {
   "cell_type": "code",
   "execution_count": 42,
   "id": "29d71894",
   "metadata": {},
   "outputs": [],
   "source": [
    "new_house = pickle.load(open('og_house.pkl','rb'))"
   ]
  },
  {
   "cell_type": "code",
   "execution_count": 43,
   "id": "241896ae",
   "metadata": {},
   "outputs": [
    {
     "data": {
      "text/plain": [
       "DeltaGenerator()"
      ]
     },
     "execution_count": 43,
     "metadata": {},
     "output_type": "execute_result"
    }
   ],
   "source": [
    "coords = closest_houses[['lat', 'long']].rename(columns = {'long':'lon'})\n",
    "st.map(coords)"
   ]
  },
  {
   "cell_type": "code",
   "execution_count": 44,
   "id": "60deecd8",
   "metadata": {},
   "outputs": [],
   "source": [
    "kc_zips = [98001, 98002,98003, 98004,98005,98006, 98007,98008,98009, 98010, 98011, 98013, 98014,98015,98019,98022,98023,98024,98025,98027,98028,98029,98030,98031,98032,98033,98034,98035,98038,98039,98040,98041,98042,98045,98047,98050,98051,98052,98053,98054,98055,98056,98057,98058,98059,98062,98063,98064,98065,98070,98071,98072,98073,98074,98075,98077,98083,98089,98092,98093,98101,98102,98103,98104,98105,98106,98107,98108,98109,98111,98112,98113,98114,98115,98116,98117,98118,98119,98121,98122,98124,98125,98126,98127,98129,98131,98132,98133,98134,98136,98138,98139,98141,98144,98145,98146,98148,98151,98154,98155,98158,98160,98161,98164,98165,98166,98168,98170,98171,98174,98175,98177,98178,98181,98184,98185,98188,98190,98191,98194,98195,98198,98199,98224,98288]\n"
   ]
  },
  {
   "cell_type": "code",
   "execution_count": 50,
   "id": "8b6c4349",
   "metadata": {},
   "outputs": [],
   "source": [
    "st.image('house_pic.jpg')\n",
    "\n",
    "\n",
    "beds = st.selectbox('Select Number of Bedrooms',[0, 1, 2, 3, 4, 5, 6, 7, 8, 9, 10, 11, 13])\n",
    "\n",
    "baths = st.selectbox('Select Number of Bathrooms',[0.0,0.5,1.0,1.5,2.0,2.5,3.0,3.5,4.0,4.5,5.0\n",
    "                                                  ,5.5,6.0, 6.5,7.0,7.5,8.0,8.5,9.5\n",
    "                                                  ,10.0,10.5])\n",
    "\n",
    "\n",
    "st.write('Zip Codes of Houses Within 3 Miles of Amazon Are:')\n",
    "st.caption(\"98102, 98103, 98105, 98107, 98109, 98112, 98116, 98119, 98122, 98126, 98144, 98199\")\n",
    "zip_code = st.selectbox('Select a Zip Code', kc_zips)\n",
    "zip_col = 'zip_code_' + str(zip_code)\n",
    "\n",
    "\n",
    "sqft_living = st.number_input('Input Square Feet of Living Space')\n",
    "\n",
    "floors = st.number_input('Input Number of Floors')\n",
    "\n",
    "yr_built = st.number_input('Input Year Built')\n",
    "\n",
    "yr_renovated = st.number_input('Input Year Renovated')\n",
    "\n",
    "new_house = new_house.replace({'bedrooms': list(new_house['bedrooms'])}, beds)\n",
    "new_house = new_house.replace({'bathrooms': list(new_house['bathrooms'])}, baths)\n",
    "new_house = new_house.replace({zip_col: list(new_house[zip_col])}, 1.0)\n",
    "new_house = new_house.replace({'sqft_living': list(new_house['sqft_living'])}, sqft_living)\n",
    "new_house = new_house.replace({'floors': list(new_house['floors'])}, floors)\n",
    "new_house = new_house.replace({'yr_built': list(new_house['yr_built'])}, yr_built)\n",
    "new_house = new_house.replace({'yr_renovated': list(new_house['yr_renovated'])}, yr_renovated)\n",
    "\n",
    "\n",
    "\n",
    "#st.number_input\n",
    "\n",
    "#st.text_input\n",
    "\n",
    "\n",
    "standard_new_house = ss.transform(new_house)\n",
    "    \n",
    "result_new_house = model.predict(standard_new_house)[0]\n",
    "\n",
    "\n",
    "\n",
    "if st.button('View House Sale Price'):\n",
    "    st.write('This House is valued at:', '${:,.0f}'.format(result_new_house))"
   ]
  }
 ],
 "metadata": {
  "kernelspec": {
   "display_name": "Python (Number41)",
   "language": "python",
   "name": "number41"
  },
  "language_info": {
   "codemirror_mode": {
    "name": "ipython",
    "version": 3
   },
   "file_extension": ".py",
   "mimetype": "text/x-python",
   "name": "python",
   "nbconvert_exporter": "python",
   "pygments_lexer": "ipython3",
   "version": "3.11.3"
  }
 },
 "nbformat": 4,
 "nbformat_minor": 5
}
